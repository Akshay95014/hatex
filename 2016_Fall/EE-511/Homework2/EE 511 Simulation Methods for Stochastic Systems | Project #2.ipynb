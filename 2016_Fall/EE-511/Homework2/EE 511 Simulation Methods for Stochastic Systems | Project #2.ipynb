{
 "cells": [
  {
   "cell_type": "markdown",
   "metadata": {},
   "source": [
    "## Problem 1 [Waiting]\n",
    "Use the inverse CDF method to generate independent samples, Xi, of the exponential\n",
    "random variable with average waiting time of 0.2 time units. Evaluate the quality of your\n",
    "generator with goodness of fit tests."
   ]
  },
  {
   "cell_type": "markdown",
   "metadata": {},
   "source": [
    "## Problem 2 [Counting]\n",
    "Each exponential random sample represents the waiting time until an event occurs.\n",
    "Implement a routine to count the number of events that occur in 1 unit of time. Generate\n",
    "such counts for 1000 separate unit time intervals. How are these counts distributed? Justify\n",
    "your answer\n",
    "\n"
   ]
  },
  {
   "cell_type": "markdown",
   "metadata": {},
   "source": [
    "## Problem 3 [Networking]\n",
    "Given n=50 people at a networking event. Imagine that any given unordered pair of two\n",
    "people connect at random and independently with probability p.\n",
    "Generate and plot sample networks for each value of p={0.02, 0.09}. Briefly discuss the\n",
    "structure of these sample graphs.\n",
    "\n"
   ]
  },
  {
   "cell_type": "markdown",
   "metadata": {},
   "source": [
    "## Problem 4 [Networking at larger scale]\n",
    "Count the number of connections (edges) to a vertex (node) in one of your sample\n",
    "networks from Problem 3. This statistic is the degree of that vertex. The vertex degrees for\n",
    "all vertices in a random network are random. Vertex degree is a binomially distributed\n",
    "statistic for small networks.\n",
    "Plot a histogram of vertex degrees for one of your sample networks in Problem 3. Repeat\n",
    "for the other sample network.\n",
    "Generate a network with (n, p) = (250, 0.08) and plot the histogram of its vertex degrees.\n",
    "What distribution fits this data? Justify your claim with any probabilistic limit laws you\n",
    "know. "
   ]
  },
  {
   "cell_type": "code",
   "execution_count": null,
   "metadata": {
    "collapsed": true
   },
   "outputs": [],
   "source": []
  }
 ],
 "metadata": {
  "kernelspec": {
   "display_name": "Python [Root]",
   "language": "python",
   "name": "Python [Root]"
  },
  "language_info": {
   "codemirror_mode": {
    "name": "ipython",
    "version": 2
   },
   "file_extension": ".py",
   "mimetype": "text/x-python",
   "name": "python",
   "nbconvert_exporter": "python",
   "pygments_lexer": "ipython2",
   "version": "2.7.12"
  }
 },
 "nbformat": 4,
 "nbformat_minor": 0
}
