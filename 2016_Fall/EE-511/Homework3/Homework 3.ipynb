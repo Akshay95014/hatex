{
 "cells": [
  {
   "cell_type": "markdown",
   "metadata": {},
   "source": [
    "## Problem\t1 [Testing\tFaith]\n",
    "Download\tthe\t“old\t faithful”\tdata set\tfrom\tblackboard.\tThis\tcontains samples\tof\ta\t2-D\trandom\tvariable:\t\n",
    "the\t first\tdimension\tis\tthe\tduration\tof\tthe\told\t faithful\tgeyser\teruptions.\tThe\tsecond\tis\tthe\twaiting\t time\t\n",
    "between\teruptions. Generate\ta\t2-D\tscatter\tplot\tof\tthe\tdata.\tRun\ta\tk-means\tclustering\troutine\ton\tthe\tdata\t\n",
    "for\tk=2.\tShow\tthe\ttwo\tclusters\tin\ta\tscatterplot"
   ]
  },
  {
   "cell_type": "markdown",
   "metadata": {},
   "source": [
    "## Problem\t2\t[Generating\tMixed\tSamples]\n",
    "Implement\ta\trandom\tnumber\tgenerator\tfor\ta\trandom\tvariable with\tthe\tfollowing\tmixture\tdistribution:\n",
    "$f(x) = 0.4N(-1,1)  + 0.6N(1,1)$\n",
    "\n",
    "Generate\tN=1000\tsamples\tand\thistogram\tthem.\tTry\tout\ta\tk-means\tclustering\troutine\t(k=2)\ton\tthe\tdata."
   ]
  },
  {
   "cell_type": "code",
   "execution_count": null,
   "metadata": {
    "collapsed": true
   },
   "outputs": [],
   "source": []
  }
 ],
 "metadata": {
  "anaconda-cloud": {},
  "kernelspec": {
   "display_name": "Julia 0.4.5",
   "language": "julia",
   "name": "julia-0.4"
  },
  "language_info": {
   "file_extension": ".jl",
   "mimetype": "application/julia",
   "name": "julia",
   "version": "0.4.5"
  }
 },
 "nbformat": 4,
 "nbformat_minor": 1
}
