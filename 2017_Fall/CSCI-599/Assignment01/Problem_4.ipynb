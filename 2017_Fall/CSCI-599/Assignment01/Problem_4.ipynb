{
 "cells": [
  {
   "cell_type": "markdown",
   "metadata": {
    "run_control": {
     "frozen": false,
     "read_only": false
    }
   },
   "source": [
    "# Problem 4: Visualizations and Class Activation Mapping (CAM)\n",
    "\n",
    "* <b>Learning Objective:</b> In problem 2, and 3, you are asked to use TensorFlow to design and train convolutiional neural networks. In this part of assignment, you are going to play with some fun visualization tricks. We will provide the pretrained models of two well-known CNN architectures: AlexNet and VGG-16 Net to demonstrate visual patterns learned in the filters. In the last part, we introduce Grad-CAM, which is a recent work to visualize the attended heat map where the CNN look at while predicting the labels of the images.\n",
    "* <b>Provided Codes:</b> We provide the necessary code blocks for each section.\n",
    "* <b>TODOs:</b> Follow the instructions to complete the TODO parts."
   ]
  },
  {
   "cell_type": "code",
   "execution_count": 1,
   "metadata": {
    "ExecuteTime": {
     "end_time": "2017-10-13T10:05:11.027819Z",
     "start_time": "2017-10-13T10:05:09.942295Z"
    },
    "collapsed": true,
    "run_control": {
     "frozen": false,
     "read_only": false
    }
   },
   "outputs": [],
   "source": [
    "# A bit of setups\n",
    "import tensorflow as tf\n",
    "\n",
    "from tensorflow.python.framework import ops\n",
    "from tensorflow.python.ops import gen_nn_ops\n",
    "from lib.datasets import *\n",
    "\n",
    "from matplotlib import pyplot as plt\n",
    "from matplotlib.pyplot import imshow\n",
    "import matplotlib.image as mpimg\n",
    "\n",
    "%matplotlib inline\n",
    "%reload_ext autoreload\n",
    "%autoreload 2"
   ]
  },
  {
   "cell_type": "markdown",
   "metadata": {
    "run_control": {
     "frozen": false,
     "read_only": false
    }
   },
   "source": [
    "### Download the Model\n",
    "Download the vgg16 pretrained model from the link:\n",
    "ftp://mi.eng.cam.ac.uk/pub/mttt2/models/vgg16.npy <br\\ >\n",
    "Download the AlexNet pretrained model from the link [BVLC_ALEXNET](http://www.cs.toronto.edu/~guerzhoy/tf_alexnet/bvlc_alexnet.npy) <br\\ >\n",
    "And save the two models (.npy files) to lib/tf_models/"
   ]
  },
  {
   "cell_type": "code",
   "execution_count": 2,
   "metadata": {
    "ExecuteTime": {
     "end_time": "2017-10-13T10:05:11.052378Z",
     "start_time": "2017-10-13T10:05:11.029167Z"
    },
    "collapsed": true,
    "run_control": {
     "frozen": false,
     "read_only": false
    }
   },
   "outputs": [],
   "source": [
    "import numpy as np\n",
    "from lib.tf_models import vgg16\n",
    "import os\n",
    "import math"
   ]
  },
  {
   "cell_type": "markdown",
   "metadata": {
    "run_control": {
     "frozen": false,
     "read_only": false
    }
   },
   "source": [
    "### Visualizing learned filters\n",
    "In this section we will show you how to visualize the learned convolutional filters."
   ]
  },
  {
   "cell_type": "code",
   "execution_count": 3,
   "metadata": {
    "ExecuteTime": {
     "end_time": "2017-10-13T10:05:12.861913Z",
     "start_time": "2017-10-13T10:05:11.053682Z"
    },
    "run_control": {
     "frozen": false,
     "read_only": false
    }
   },
   "outputs": [
    {
     "name": "stdout",
     "output_type": "stream",
     "text": [
      "Model from /media/dna/github/hatex/2017_Fall/CSCI-599/Assignment01/lib/tf_models/vgg16.npy\n",
      "Pretrained VGG16 successfully loaded!\n"
     ]
    }
   ],
   "source": [
    "# Define the vgg network for visualizations\n",
    "vgg_viz = vgg16.Vgg16()\n",
    "vgg_viz.load()\n",
    "vgg_viz.setup()"
   ]
  },
  {
   "cell_type": "code",
   "execution_count": 4,
   "metadata": {
    "ExecuteTime": {
     "end_time": "2017-10-13T10:05:12.884743Z",
     "start_time": "2017-10-13T10:05:12.863278Z"
    },
    "collapsed": true,
    "run_control": {
     "frozen": false,
     "read_only": false
    }
   },
   "outputs": [],
   "source": [
    "# Useful function to arrange the images to be shown as a squared grid\n",
    "def viz_grid(Xs, ubound=255.0, padding=1):\n",
    "    N, H, W, C = Xs.shape\n",
    "    grid_size = int(math.ceil(math.sqrt(N)))\n",
    "    grid_height = H * grid_size + padding * (grid_size - 1)\n",
    "    grid_width = W * grid_size + padding * (grid_size - 1)\n",
    "    grid = np.zeros((grid_height, grid_width, C))\n",
    "    next_idx = 0\n",
    "    y0, y1 = 0, H\n",
    "    for y in xrange(grid_size):\n",
    "        x0, x1 = 0, W\n",
    "        for x in xrange(grid_size):\n",
    "            if next_idx < N:\n",
    "                img = Xs[next_idx]\n",
    "                grid[y0:y1, x0:x1] = img\n",
    "                next_idx += 1\n",
    "            x0 += W + padding\n",
    "            x1 += W + padding\n",
    "        y0 += H + padding\n",
    "        y1 += H + padding\n",
    "    return grid"
   ]
  },
  {
   "cell_type": "code",
   "execution_count": 5,
   "metadata": {
    "ExecuteTime": {
     "end_time": "2017-10-13T10:05:14.755180Z",
     "start_time": "2017-10-13T10:05:12.886182Z"
    },
    "run_control": {
     "frozen": false,
     "read_only": false
    },
    "scrolled": false
   },
   "outputs": [
    {
     "name": "stdout",
     "output_type": "stream",
     "text": [
      "Model from lib/tf_models/bvlc_alexnet.npy\n",
      "Pretrained AlexNet successfully loaded!\n",
      "(11, 11, 3, 96)\n",
      "Model from lib/tf_models/vgg16.npy\n",
      "Pretrained Vgg-16 successfully loaded!\n",
      "(3, 3, 3, 64)\n"
     ]
    },
    {
     "data": {
      "image/png": "[encoded data removed]",
      "text/plain": [
       "<matplotlib.figure.Figure at 0x7f863ca1a950>"
      ]
     },
     "metadata": {},
     "output_type": "display_data"
    },
    {
     "data": {
      "image/png": "[encoded data removed]",
      "text/plain": [
       "<matplotlib.figure.Figure at 0x7f864accc210>"
      ]
     },
     "metadata": {},
     "output_type": "display_data"
    }
   ],
   "source": [
    "model_paths = {\n",
    "    \"Vgg-16\": os.path.join(\"lib/tf_models\", \"vgg16.npy\"),\n",
    "    \"AlexNet\": os.path.join(\"lib/tf_models\", \"bvlc_alexnet.npy\")\n",
    "}\n",
    "\n",
    "for net in sorted(model_paths):\n",
    "    model_path = model_paths[net]\n",
    "    print(\"Model from {}\".format(model_path))\n",
    "    pretrained = np.load(model_path, encoding='latin1').item()\n",
    "    print(\"Pretrained {} successfully loaded!\".format(net))\n",
    "\n",
    "    first_conv = \"conv1_1\" if net == \"Vgg-16\" else \"conv1\"\n",
    "    \n",
    "    conv1 = pretrained[first_conv]\n",
    "    #############################################################################\n",
    "    # TODO: Extract the weight and bias from conv1                              #\n",
    "    # HINT: What's the data type of conv1?                                      #\n",
    "    #############################################################################\n",
    "    w, b = conv1\n",
    "    print(w.shape)\n",
    "    #############################################################################\n",
    "    # TODO: Scale the kernel weights to [0,1]                                   #\n",
    "    #############################################################################\n",
    "    w_01 = (w - np.amin(w))\n",
    "    w_01 /= (np.amax(w) - np.amin(w))\n",
    "    \n",
    "    #############################################################################\n",
    "    # TODO: Transpose the scaled kernel weights so that the                     #\n",
    "    # number of filters comes first in the dimension as (n, H, W, C)            #\n",
    "    #############################################################################\n",
    "    wT = np.transpose(w_01, axes=[3,1,0,2])\n",
    "\n",
    "    # Define a figure\n",
    "    fig = plt.figure(figsize=(8,8))   \n",
    "    ax1 = plt.subplot(111)\n",
    "\n",
    "    rgb_w = []  # list of filters\n",
    "    n, H, W, C = wT.shape\n",
    "    \n",
    "    \n",
    "    #############################################################################\n",
    "    # TODO: Store each of the n transposed kernel weights                       #\n",
    "    # to the rgb_w list so the list is of dimension (n, (H, W, C))              #\n",
    "    #############################################################################\n",
    "    rgb_w = [wT[i, :] for i in range(n)]\n",
    "        \n",
    "    # Transform the python list to numpy array\n",
    "    rgb_w = np.asarray(rgb_w)\n",
    "    \n",
    "    # Grid the rgb_w\n",
    "    grid = viz_grid(rgb_w)\n",
    "\n",
    "    ax1.imshow(grid[...,::-1])\n",
    "    ax1.set_title('{} Learned First Conv Filters'.format(net), fontsize=16)"
   ]
  },
  {
   "cell_type": "markdown",
   "metadata": {
    "run_control": {
     "frozen": false,
     "read_only": false
    }
   },
   "source": [
    "### Load CIFAR-10 Data"
   ]
  },
  {
   "cell_type": "code",
   "execution_count": 6,
   "metadata": {
    "ExecuteTime": {
     "end_time": "2017-10-13T10:05:18.787244Z",
     "start_time": "2017-10-13T10:05:14.756625Z"
    },
    "collapsed": true,
    "run_control": {
     "frozen": false,
     "read_only": false
    }
   },
   "outputs": [],
   "source": [
    "data_train, labels_train, data_test, labels_test = CIFAR10('data/cifar-10-batches-py')"
   ]
  },
  {
   "cell_type": "markdown",
   "metadata": {
    "run_control": {
     "frozen": false,
     "read_only": false
    }
   },
   "source": [
    "### <font color=\"Scarlet\">Run the following lines of code whenever you encounter problems with tf graph<font>"
   ]
  },
  {
   "cell_type": "code",
   "execution_count": 7,
   "metadata": {
    "ExecuteTime": {
     "end_time": "2017-10-13T10:05:18.806382Z",
     "start_time": "2017-10-13T10:05:18.788554Z"
    },
    "collapsed": true,
    "run_control": {
     "frozen": false,
     "read_only": false
    }
   },
   "outputs": [],
   "source": [
    "tf.reset_default_graph()\n",
    "sess = tf.Session()"
   ]
  },
  {
   "cell_type": "markdown",
   "metadata": {
    "run_control": {
     "frozen": false,
     "read_only": false
    }
   },
   "source": [
    "### Layers in Problem 2 (Define your layers)\n",
    "Copy and paste your implementation for layers in problem 2 to below"
   ]
  },
  {
   "cell_type": "code",
   "execution_count": 8,
   "metadata": {
    "ExecuteTime": {
     "end_time": "2017-10-13T10:05:18.828582Z",
     "start_time": "2017-10-13T10:05:18.807668Z"
    },
    "collapsed": true,
    "run_control": {
     "frozen": false,
     "read_only": false
    }
   },
   "outputs": [],
   "source": [
    "def conv2d(inputs, kernel_size, stride, num_filter):\n",
    "    stride_shape = [1, stride, stride, 1]\n",
    "    filter_shape = [kernel_size, kernel_size, inputs.get_shape()[3], num_filter]\n",
    "\n",
    "    W = tf.get_variable('w', filter_shape, tf.float32, tf.random_normal_initializer(0.0, 0.02))\n",
    "    b = tf.get_variable('b', [1, 1, 1, num_filter], initializer=tf.constant_initializer(0.0))\n",
    "    return tf.nn.conv2d(inputs, W, stride_shape, padding='SAME') + b\n",
    "\n",
    "def max_pool(inputs, kernel_size, stride):\n",
    "    ksize = [1, kernel_size, kernel_size, 1]\n",
    "    strides = [1, stride, stride, 1]\n",
    "    return tf.nn.max_pool(inputs, ksize=ksize, strides=strides, padding='SAME')\n",
    "\n",
    "#############################################################################\n",
    "# TODO: You can add any layers (fully-connected, normalization)             #\n",
    "#############################################################################\n",
    "def fc(inputs, num_outputs):\n",
    "    \n",
    "    return tf.contrib.layers.fully_connected(inputs,\n",
    "                                             num_outputs,\n",
    "                                             activation_fn=None,\n",
    "                                             weights_initializer=tf.contrib.layers.xavier_initializer(uniform=False),\n",
    "                                             biases_initializer=tf.constant_initializer(),\n",
    "                                             )"
   ]
  },
  {
   "cell_type": "markdown",
   "metadata": {
    "run_control": {
     "frozen": false,
     "read_only": false
    }
   },
   "source": [
    "### Sample convolutional nueral network in Problem 2 (Your own)\n",
    "Copy and paste your implementation for the BaseModel in problem 2 to below"
   ]
  },
  {
   "cell_type": "code",
   "execution_count": 9,
   "metadata": {
    "ExecuteTime": {
     "end_time": "2017-10-13T10:05:19.137314Z",
     "start_time": "2017-10-13T10:05:18.829976Z"
    },
    "collapsed": true,
    "run_control": {
     "frozen": false,
     "read_only": false
    }
   },
   "outputs": [],
   "source": [
    "class BaseModel(object):\n",
    "    def __init__(self):\n",
    "        self.num_epoch = 5\n",
    "        self.batch_size = 128\n",
    "        self.log_step = 50\n",
    "        self._build_model()\n",
    "\n",
    "    def _model(self):\n",
    "        print('-' * 5 + '  Sample model  ' + '-' * 5)\n",
    "\n",
    "        print('intput layer: ' + str(self.X.get_shape()))\n",
    "\n",
    "        with tf.variable_scope('conv1'):\n",
    "            self.conv1 = conv2d(self.X, 7, 1, 32)\n",
    "            self.relu1 = tf.nn.relu(self.conv1)\n",
    "            self.pool1 = max_pool(self.relu1, 3, 2)            \n",
    "            print('conv1 layer: ' + str(self.pool1.get_shape()))\n",
    "\n",
    "        with tf.variable_scope('conv2'):\n",
    "            #############################################################################\n",
    "            # TODO: Complete the following functions                                    #\n",
    "            #############################################################################\n",
    "            # 5x5 convolutional layer with 64 filters, stride of 1, and padding 'SAME'\n",
    "            self.conv2 = conv2d(self.pool1, 5, 1, 64)\n",
    "            self.relu2 = tf.nn.relu(self.conv2)\n",
    "            # 3x3 max pooling layer with a stride of 2\n",
    "            self.pool2 = max_pool(self.relu2, 3, 2)                \n",
    "            #############################################################################\n",
    "            #                             END OF YOUR CODE                              #\n",
    "            #############################################################################\n",
    "            print('conv2 layer: ' + str(self.pool2.get_shape()))\n",
    "\n",
    "\n",
    "        #############################################################################\n",
    "        # TODO: Flatten the output tensor from conv2 layer                          #\n",
    "        #############################################################################\n",
    "        self.flat = tf.reshape(self.pool2, [-1, 8 * 8 * 64])\n",
    "        #############################################################################\n",
    "        #                             END OF YOUR CODE                              #\n",
    "        #############################################################################      \n",
    "        print('flat layer: ' + str(self.flat.get_shape()))\n",
    "\n",
    "        with tf.variable_scope('fc3'):\n",
    "            #############################################################################\n",
    "            # TODO: Complete the following functions                                    #\n",
    "            #############################################################################\n",
    "            # Fully-connected layer with 384 output units (4096 -> 384)\n",
    "            # ReLU activation layer\n",
    "            self.fc3 = fc(self.flat, 384)\n",
    "            self.relu3 = tf.nn.relu(self.fc3)\n",
    "            #############################################################################\n",
    "            #                             END OF YOUR CODE                              #\n",
    "            #############################################################################\n",
    "            print('fc3 layer: ' + str(self.relu3.get_shape()))\n",
    "\n",
    "        with tf.variable_scope('fc4'):\n",
    "            #############################################################################\n",
    "            # TODO: Complete the following functions                                    #\n",
    "            #############################################################################\n",
    "            # Fully-connected layer with 10 output units (384 -> 10)\n",
    "\n",
    "            self.fc4 = fc(self.relu3, 10)            \n",
    "            #############################################################################\n",
    "            #                             END OF YOUR CODE                              #\n",
    "            #############################################################################\n",
    "            print('fc4 layer: ' + str(self.fc4.get_shape()))\n",
    "        \n",
    "        # Return the last layer\n",
    "        return self.fc4\n",
    "\n",
    "    def _input_ops(self):\n",
    "        # Placeholders\n",
    "        self.X = tf.placeholder(tf.float32, [None, 32, 32, 3])\n",
    "        self.Y = tf.placeholder(tf.int64, [None])\n",
    "        \n",
    "        #############################################################################\n",
    "        # TODO: You can add any placeholders                                        #\n",
    "        #############################################################################\n",
    "        self.is_train = None\n",
    "        self.keep_prob = None\n",
    "        #############################################################################\n",
    "        #                             END OF YOUR CODE                              #\n",
    "        #############################################################################\n",
    "\n",
    "    def _build_optimizer(self):\n",
    "        # Adam optimizer 'self.train_op' that minimizes 'self.loss_op'\n",
    "        #############################################################################\n",
    "        # TODO: Complete the following functions                                    #\n",
    "        #############################################################################\n",
    "        global_step = tf.Variable(0, name='global_step', trainable=False)\n",
    "        learning_rate = tf.train.exponential_decay(5e-4, \n",
    "                                                   global_step,\n",
    "                                                   500,\n",
    "                                                   0.96, \n",
    "                                                   staircase=True)\n",
    "        self.train_op = tf.train.AdamOptimizer(learning_rate=learning_rate, \n",
    "                                               beta1=0.9, \n",
    "                                               beta2=0.999, \n",
    "                                               epsilon=1e-08, \n",
    "                                               use_locking=False, \n",
    "                                               name='Adam').minimize(self.loss_op, global_step=global_step)\n",
    "        \n",
    "        #############################################################################\n",
    "        #                             END OF YOUR CODE                              #\n",
    "        #############################################################################\n",
    "        \n",
    "    def _loss(self, labels, logits):\n",
    "        # Softmax cross entropy loss 'self.loss_op'\n",
    "        #############################################################################\n",
    "        # TODO: Complete the following functions                                    #\n",
    "        #############################################################################\n",
    "        cross_entropy = tf.nn.softmax_cross_entropy_with_logits(labels=labels,  logits=logits)\n",
    "        self.loss_op = tf.reduce_sum(cross_entropy)\n",
    "        #############################################################################\n",
    "        #                             END OF YOUR CODE                              #\n",
    "        #############################################################################\n",
    "    def _build_model(self):\n",
    "        # Define input variables\n",
    "        self._input_ops()\n",
    "\n",
    "        # Convert Y to one-hot vector\n",
    "        labels = tf.one_hot(self.Y, 10)\n",
    "\n",
    "        # Build a model and get logits\n",
    "        logits = self._model()\n",
    "\n",
    "        # Compute loss\n",
    "        self._loss(labels, logits)\n",
    "        \n",
    "        # Build optimizer\n",
    "        self._build_optimizer()\n",
    "\n",
    "        # Compute accuracy\n",
    "        predict = tf.argmax(logits, 1)\n",
    "        correct = tf.equal(predict, self.Y)\n",
    "        self.accuracy_op = tf.reduce_mean(tf.cast(correct, tf.float32))\n",
    "        \n",
    "    def train(self, sess, X_train, Y_train, X_val, Y_val):\n",
    "        sess.run(tf.global_variables_initializer())\n",
    "\n",
    "        step = 0\n",
    "        losses = []\n",
    "        accuracies = []\n",
    "        print('-' * 5 + '  Start training  ' + '-' * 5)\n",
    "        for epoch in range(self.num_epoch):\n",
    "            print('train for epoch %d' % epoch)\n",
    "            for i in range(num_training // self.batch_size):\n",
    "                X_ = X_train[i * self.batch_size:(i + 1) * self.batch_size][:]\n",
    "                Y_ = Y_train[i * self.batch_size:(i + 1) * self.batch_size]\n",
    "\n",
    "                #############################################################################\n",
    "                # TODO: You can change feed data as you want                                #\n",
    "                #############################################################################\n",
    "                feed_dict = {self.X: X_, self.Y:Y_}                \n",
    "                #############################################################################\n",
    "                #                             END OF YOUR CODE                              #\n",
    "                #############################################################################\n",
    "                fetches = [self.train_op, self.loss_op, self.accuracy_op]\n",
    "\n",
    "                _, loss, accuracy = sess.run(fetches, feed_dict=feed_dict)\n",
    "                losses.append(loss)\n",
    "                accuracies.append(accuracy)\n",
    "\n",
    "                if step % self.log_step == 0:\n",
    "                    print('iteration (%d): loss = %.3f, accuracy = %.3f' %\n",
    "                        (step, loss, accuracy))\n",
    "                step += 1\n",
    "\n",
    "            #############################################################################\n",
    "            # TODO: Plot training curves                                                #\n",
    "            #############################################################################\n",
    "            # Graph 1. X: epoch, Y: training loss\n",
    "            fig = plt.figure(figsize=(12,6))\n",
    "            ax = plt.subplot(121)  \n",
    "            n_iter = num_training // self.batch_size\n",
    "            epochs = range(n_iter)\n",
    "            ax.plot(epochs, losses[epoch * n_iter: (epoch+1)*n_iter ])\n",
    "            ax.set_xlabel('epoch')\n",
    "            ax.set_ylabel('training loss')\n",
    "            ax.set_title('Epoch {} loss'.format(epoch))\n",
    "            plt.grid(True)\n",
    "\n",
    "            # Graph 2. X: epoch, Y: training accuracy\n",
    "            \n",
    "            ax = plt.subplot(122)              \n",
    "            ax.plot(epochs, accuracies[epoch * n_iter: (epoch+1)*n_iter ])\n",
    "            ax.set_xlabel('epoch')\n",
    "            ax.set_ylabel('accuracy')\n",
    "            ax.set_title('Epoch {} accuracy'.format(epoch))\n",
    "\n",
    "            plt.grid(True)\n",
    "            plt.tight_layout()\n",
    "            plt.show()\n",
    "            \n",
    "            #############################################################################\n",
    "            #                             END OF YOUR CODE                              #\n",
    "            #############################################################################\n",
    "\n",
    "            # Print validation results\n",
    "            print('validation for epoch %d' % epoch)\n",
    "            val_accuracy = self.evaluate(sess, X_val, Y_val)\n",
    "            print('-  epoch %d: validation accuracy = %.3f' % (epoch, val_accuracy))\n",
    "\n",
    "    def evaluate(self, sess, X_eval, Y_eval):\n",
    "        eval_accuracy = 0.0\n",
    "        eval_iter = 0\n",
    "        for i in range(X_eval.shape[0] // self.batch_size):\n",
    "            X_ = X_eval[i * self.batch_size:(i + 1) * self.batch_size][:]\n",
    "            Y_ = Y_eval[i * self.batch_size:(i + 1) * self.batch_size]\n",
    "                        \n",
    "            #############################################################################\n",
    "            # TODO: You can change feed data as you want                                #\n",
    "            #############################################################################\n",
    "            feed_dict = {self.X: X_, self.Y:Y_}                \n",
    "            #############################################################################\n",
    "            #                             END OF YOUR CODE                              #\n",
    "            #############################################################################\n",
    "            accuracy = sess.run(self.accuracy_op, feed_dict=feed_dict)\n",
    "            eval_accuracy += accuracy\n",
    "            eval_iter += 1\n",
    "        return eval_accuracy / eval_iter"
   ]
  },
  {
   "cell_type": "markdown",
   "metadata": {
    "run_control": {
     "frozen": false,
     "read_only": false
    }
   },
   "source": [
    "### Visualize the learned filters on your trained CIFAR-10 network!\n",
    "Repeat the above procedure on your own trained network, for the first convolutional layer"
   ]
  },
  {
   "cell_type": "code",
   "execution_count": 10,
   "metadata": {
    "ExecuteTime": {
     "end_time": "2017-10-13T10:05:20.924624Z",
     "start_time": "2017-10-13T10:05:19.139139Z"
    },
    "run_control": {
     "frozen": false,
     "read_only": false
    }
   },
   "outputs": [
    {
     "name": "stdout",
     "output_type": "stream",
     "text": [
      "-----  Sample model  -----\n",
      "intput layer: (?, 32, 32, 3)\n",
      "conv1 layer: (?, 16, 16, 32)\n",
      "conv2 layer: (?, 8, 8, 64)\n",
      "flat layer: (?, 4096)\n",
      "fc3 layer: (?, 384)\n",
      "fc4 layer: (?, 10)\n"
     ]
    }
   ],
   "source": [
    "model = BaseModel()"
   ]
  },
  {
   "cell_type": "code",
   "execution_count": 11,
   "metadata": {
    "ExecuteTime": {
     "end_time": "2017-10-13T10:05:21.411876Z",
     "start_time": "2017-10-13T10:05:20.926071Z"
    },
    "run_control": {
     "frozen": false,
     "read_only": false
    },
    "scrolled": false
   },
   "outputs": [
    {
     "name": "stdout",
     "output_type": "stream",
     "text": [
      "Loading conv1/w:0 from checkpoint. Name: conv1/w\n",
      "Loading conv1/b:0 from checkpoint. Name: conv1/b\n",
      "Loading conv2/w:0 from checkpoint. Name: conv2/w\n",
      "Loading conv2/b:0 from checkpoint. Name: conv2/b\n",
      "Loading fc3/fully_connected/weights:0 from checkpoint. Name: fc3/fully_connected/weights\n",
      "Loading fc3/fully_connected/biases:0 from checkpoint. Name: fc3/fully_connected/biases\n",
      "Loading fc4/fully_connected/weights:0 from checkpoint. Name: fc4/fully_connected/weights\n",
      "Loading fc4/fully_connected/biases:0 from checkpoint. Name: fc4/fully_connected/biases\n",
      "Loading global_step:0 from checkpoint. Name: global_step\n",
      "Loading beta1_power:0 from checkpoint. Name: beta1_power\n",
      "Loading beta2_power:0 from checkpoint. Name: beta2_power\n",
      "Loading conv1/w/Adam:0 from checkpoint. Name: conv1/w/Adam\n",
      "Loading conv1/w/Adam_1:0 from checkpoint. Name: conv1/w/Adam_1\n",
      "Loading conv1/b/Adam:0 from checkpoint. Name: conv1/b/Adam\n",
      "Loading conv1/b/Adam_1:0 from checkpoint. Name: conv1/b/Adam_1\n",
      "Loading conv2/w/Adam:0 from checkpoint. Name: conv2/w/Adam\n",
      "Loading conv2/w/Adam_1:0 from checkpoint. Name: conv2/w/Adam_1\n",
      "Loading conv2/b/Adam:0 from checkpoint. Name: conv2/b/Adam\n",
      "Loading conv2/b/Adam_1:0 from checkpoint. Name: conv2/b/Adam_1\n",
      "Loading fc3/fully_connected/weights/Adam:0 from checkpoint. Name: fc3/fully_connected/weights/Adam\n",
      "Loading fc3/fully_connected/weights/Adam_1:0 from checkpoint. Name: fc3/fully_connected/weights/Adam_1\n",
      "Loading fc3/fully_connected/biases/Adam:0 from checkpoint. Name: fc3/fully_connected/biases/Adam\n",
      "Loading fc3/fully_connected/biases/Adam_1:0 from checkpoint. Name: fc3/fully_connected/biases/Adam_1\n",
      "Loading fc4/fully_connected/weights/Adam:0 from checkpoint. Name: fc4/fully_connected/weights/Adam\n",
      "Loading fc4/fully_connected/weights/Adam_1:0 from checkpoint. Name: fc4/fully_connected/weights/Adam_1\n",
      "Loading fc4/fully_connected/biases/Adam:0 from checkpoint. Name: fc4/fully_connected/biases/Adam\n",
      "Loading fc4/fully_connected/biases/Adam_1:0 from checkpoint. Name: fc4/fully_connected/biases/Adam_1\n",
      "INFO:tensorflow:Restoring parameters from lib/tf_models/problem2/csci-599_sample.ckpt\n"
     ]
    }
   ],
   "source": [
    "# Restore the model using parameters dict\n",
    "variables = tf.global_variables()\n",
    "param_dict = {}\n",
    "for var in variables:\n",
    "    var_name = var.name[:-2]\n",
    "    print('Loading {} from checkpoint. Name: {}'.format(var.name, var_name))\n",
    "    param_dict[var_name] = var\n",
    "saver = tf.train.Saver()\n",
    "saver.restore(sess, \"lib/tf_models/problem2/csci-599_sample.ckpt\")"
   ]
  },
  {
   "cell_type": "code",
   "execution_count": 13,
   "metadata": {
    "ExecuteTime": {
     "end_time": "2017-10-13T10:05:47.155852Z",
     "start_time": "2017-10-13T10:05:46.932004Z"
    },
    "run_control": {
     "frozen": false,
     "read_only": false
    },
    "scrolled": false
   },
   "outputs": [
    {
     "name": "stdout",
     "output_type": "stream",
     "text": [
      "(7, 7, 3, 32) (1, 1, 1, 32)\n",
      "(7, 7, 3, 32)\n",
      "(32, 7, 7, 3)\n"
     ]
    },
    {
     "data": {
      "image/png": "[encoded data removed]",
      "text/plain": [
       "<matplotlib.figure.Figure at 0x7f860bb71590>"
      ]
     },
     "metadata": {},
     "output_type": "display_data"
    }
   ],
   "source": [
    "# TODO:\n",
    "with sess.as_default():\n",
    "    with tf.variable_scope(\"conv1\", reuse=True):\n",
    "        conv1 = tf.get_variable(\"w\")\n",
    "        b1    = tf.get_variable(\"b\")\n",
    "    print conv1.shape, b1.shape\n",
    "    \n",
    "    #############################################################################\n",
    "    # TODO: Extract the weight and bias from conv1                              #\n",
    "    # For tf models, you should use .eval() function on variables and           #\n",
    "    # sess.run() function to extract the features to ndarray                    #\n",
    "    #############################################################################\n",
    "    w, b = conv1.eval(), b1.eval()\n",
    "    \n",
    "    #############################################################################\n",
    "    # TODO: Scale the kernel weights to [0,1]                                   #\n",
    "    #############################################################################\n",
    "    w_01 = (w - np.amin(w))\n",
    "    w_01 /= (np.amax(w) - np.amin(w))\n",
    "    \n",
    "    print w_01.shape\n",
    "    \n",
    "    #############################################################################\n",
    "    # TODO: Transpose the scaled kernel weights so that the                     #\n",
    "    # number of filters comes first in the dimension as (n, H, W, C)            #\n",
    "    #############################################################################\n",
    "    wT = np.transpose(w_01, axes=[3,1,0,2])\n",
    "    print wT.shape\n",
    "\n",
    "    # Define a figure\n",
    "    fig = plt.figure(figsize=(8,8))   \n",
    "    ax1 = plt.subplot(111)\n",
    "\n",
    "    rgb_w = []  # list of filters\n",
    "    n, H, W, C = wT.shape\n",
    "    \n",
    "    #############################################################################\n",
    "    # TODO: Store each of the n transposed kernel weights                       #\n",
    "    # to the rgb_w list so the list is of dimension (n, (H, W, C))              #\n",
    "    #############################################################################\n",
    "    rgb_w = [wT[i, :] for i in range(n)]\n",
    "        \n",
    "    # Transform the python list to numpy array\n",
    "    rgb_w = np.asarray(rgb_w)\n",
    "    \n",
    "    grid = viz_grid(rgb_w)\n",
    "\n",
    "    ax1.imshow(grid[...,::-1])\n",
    "    ax1.set_title('{} Learned First Conv Filters'.format(net), fontsize=16)"
   ]
  },
  {
   "cell_type": "markdown",
   "metadata": {
    "run_control": {
     "frozen": false,
     "read_only": false
    }
   },
   "source": [
    "## Visualizing Activations\n",
    "Now we saw the learned filters, and observed that they have some patterns. We will go one step forward to visualize the activation maps produced by different convolutional filters. You will see that as we go deeper through the layers of a network the activation maps gradually represent higher and higher levels of abstraction in the images. <br\\ >\n",
    "Now, let's get some warm-ups by running the following visualization code blocks for a simple model trained on MNIST dataset."
   ]
  },
  {
   "cell_type": "code",
   "execution_count": 14,
   "metadata": {
    "ExecuteTime": {
     "end_time": "2017-10-13T10:06:03.806943Z",
     "start_time": "2017-10-13T10:06:03.784520Z"
    },
    "collapsed": true,
    "run_control": {
     "frozen": false,
     "read_only": false
    }
   },
   "outputs": [],
   "source": [
    "import tensorflow.contrib.slim as slim\n",
    "from tensorflow.examples.tutorials.mnist import input_data"
   ]
  },
  {
   "cell_type": "code",
   "execution_count": 15,
   "metadata": {
    "ExecuteTime": {
     "end_time": "2017-10-13T10:06:05.400752Z",
     "start_time": "2017-10-13T10:06:04.490051Z"
    },
    "run_control": {
     "frozen": false,
     "read_only": false
    }
   },
   "outputs": [
    {
     "name": "stdout",
     "output_type": "stream",
     "text": [
      "Extracting data/MNIST_data/train-images-idx3-ubyte.gz\n",
      "Extracting data/MNIST_data/train-labels-idx1-ubyte.gz\n",
      "Extracting data/MNIST_data/t10k-images-idx3-ubyte.gz\n",
      "Extracting data/MNIST_data/t10k-labels-idx1-ubyte.gz\n"
     ]
    }
   ],
   "source": [
    "mnist = input_data.read_data_sets(\"data/MNIST_data/\", one_hot=True)"
   ]
  },
  {
   "cell_type": "code",
   "execution_count": 16,
   "metadata": {
    "ExecuteTime": {
     "end_time": "2017-10-13T10:06:06.531808Z",
     "start_time": "2017-10-13T10:06:06.198312Z"
    },
    "collapsed": true,
    "run_control": {
     "frozen": false,
     "read_only": false
    }
   },
   "outputs": [],
   "source": [
    "tf.reset_default_graph()\n",
    "\n",
    "x = tf.placeholder(tf.float32, [None, 784],name=\"x-in\")\n",
    "y = tf.placeholder(tf.float32, [None, 10],name=\"y-in\")\n",
    "keep_prob = tf.placeholder(\"float\")\n",
    "\n",
    "x_reshaped = tf.reshape(x,[-1,28,28,1])\n",
    "x_tiled = tf.tile(x_reshaped, [1,1,1,3])\n",
    "sconv_1 = slim.conv2d(x_tiled,5,[5,5])\n",
    "spool_1 = slim.max_pool2d(sconv_1,[2,2])\n",
    "sconv_2 = slim.conv2d(spool_1,5,[5,5])\n",
    "spool_2 = slim.max_pool2d(sconv_2,[2,2])\n",
    "sconv_3 = slim.conv2d(spool_2,20,[5,5])\n",
    "s_dropout3 = slim.dropout(sconv_3, keep_prob)\n",
    "output = slim.fully_connected(slim.flatten(s_dropout3), 10, activation_fn=tf.nn.softmax)\n",
    "\n",
    "cross_entropy = -tf.reduce_sum(y * tf.log(output))\n",
    "correct_prediction = tf.equal(tf.argmax(output,1 ), tf.argmax(y, 1))\n",
    "accuracy = tf.reduce_mean(tf.cast(correct_prediction, \"float\"))\n",
    "train_step = tf.train.AdamOptimizer(1e-4).minimize(cross_entropy)"
   ]
  },
  {
   "cell_type": "code",
   "execution_count": 17,
   "metadata": {
    "ExecuteTime": {
     "end_time": "2017-10-13T10:07:04.326050Z",
     "start_time": "2017-10-13T10:06:07.909375Z"
    },
    "run_control": {
     "frozen": false,
     "read_only": false
    }
   },
   "outputs": [
    {
     "name": "stdout",
     "output_type": "stream",
     "text": [
      "step 100, training accuracy 0.38\n",
      "step 200, training accuracy 0.68\n",
      "step 300, training accuracy 0.78\n",
      "step 400, training accuracy 0.84\n",
      "step 500, training accuracy 0.84\n",
      "step 600, training accuracy 0.86\n",
      "step 700, training accuracy 0.92\n",
      "step 800, training accuracy 0.92\n",
      "step 900, training accuracy 0.92\n",
      "step 1000, training accuracy 0.82\n",
      "step 1100, training accuracy 0.9\n",
      "step 1200, training accuracy 0.94\n",
      "step 1300, training accuracy 0.94\n",
      "step 1400, training accuracy 0.96\n",
      "step 1500, training accuracy 0.9\n",
      "step 1600, training accuracy 0.98\n",
      "step 1700, training accuracy 0.92\n",
      "step 1800, training accuracy 0.94\n",
      "step 1900, training accuracy 0.94\n",
      "step 2000, training accuracy 0.94\n"
     ]
    }
   ],
   "source": [
    "batchSize = 50\n",
    "dropout_p = 0.5\n",
    "\n",
    "sess = tf.Session()\n",
    "init = tf.global_variables_initializer()\n",
    "sess.run(init)\n",
    "\n",
    "# Train the network\n",
    "for i in range(2001):\n",
    "    batch = mnist.train.next_batch(batchSize)\n",
    "    sess.run(train_step, feed_dict={x:batch[0], y:batch[1], keep_prob:dropout_p})\n",
    "    if i % 100 == 0 and i != 0:\n",
    "        trainAccuracy = sess.run(accuracy, feed_dict={x:batch[0], y:batch[1], keep_prob:1.0})\n",
    "        print(\"step %d, training accuracy %g\"%(i, trainAccuracy))"
   ]
  },
  {
   "cell_type": "code",
   "execution_count": 18,
   "metadata": {
    "ExecuteTime": {
     "end_time": "2017-10-13T10:07:42.425543Z",
     "start_time": "2017-10-13T10:07:39.756518Z"
    },
    "run_control": {
     "frozen": false,
     "read_only": false
    }
   },
   "outputs": [
    {
     "name": "stdout",
     "output_type": "stream",
     "text": [
      "test accuracy 0.943099975586\n"
     ]
    }
   ],
   "source": [
    "testAccuracy = sess.run(accuracy, feed_dict={x:mnist.test.images,y:mnist.test.labels, keep_prob:1.0})\n",
    "print(\"test accuracy {}\".format(testAccuracy))"
   ]
  },
  {
   "cell_type": "code",
   "execution_count": 19,
   "metadata": {
    "ExecuteTime": {
     "end_time": "2017-10-13T10:07:42.497772Z",
     "start_time": "2017-10-13T10:07:42.426903Z"
    },
    "collapsed": true,
    "run_control": {
     "frozen": false,
     "read_only": false
    }
   },
   "outputs": [],
   "source": [
    "# function for visualizing the activations\n",
    "def getActivations_mnist(layer, features):\n",
    "    outs = sess.run(layer, feed_dict={x:np.reshape(features,[1,784],order='F'), keep_prob:1.0})\n",
    "    outs = np.transpose(outs, [3, 1, 2, 0])\n",
    "    fig = plt.figure(figsize=(4,4))   \n",
    "    ax1 = plt.subplot(111)\n",
    "    grid = viz_grid(outs)\n",
    "    ax1.imshow(grid[...,0])\n",
    "    ax1.set_title('{} Activations'.format(layer.name), fontsize=16)"
   ]
  },
  {
   "cell_type": "code",
   "execution_count": 20,
   "metadata": {
    "ExecuteTime": {
     "end_time": "2017-10-13T10:07:43.285136Z",
     "start_time": "2017-10-13T10:07:43.118895Z"
    },
    "run_control": {
     "frozen": false,
     "read_only": false
    }
   },
   "outputs": [
    {
     "name": "stdout",
     "output_type": "stream",
     "text": [
      "The Image for activation visualizations:\n"
     ]
    },
    {
     "data": {
      "image/png": "[encoded data removed]",
      "text/plain": [
       "<matplotlib.figure.Figure at 0x7f85e5d5c790>"
      ]
     },
     "metadata": {},
     "output_type": "display_data"
    }
   ],
   "source": [
    "imageToUse = mnist.test.images[0]\n",
    "imageToShow = np.expand_dims(np.reshape(imageToUse,[28,28]), axis=-1)\n",
    "imageToShow = np.tile(imageToShow, (1,1,3))\n",
    "plt.imshow(imageToShow, interpolation=\"nearest\", cmap=\"gray\")\n",
    "print \"The Image for activation visualizations:\""
   ]
  },
  {
   "cell_type": "code",
   "execution_count": 21,
   "metadata": {
    "ExecuteTime": {
     "end_time": "2017-10-13T10:07:44.618602Z",
     "start_time": "2017-10-13T10:07:44.241049Z"
    },
    "run_control": {
     "frozen": false,
     "read_only": false
    }
   },
   "outputs": [
    {
     "data": {
      "image/png": "[encoded data removed]",
      "text/plain": [
       "<matplotlib.figure.Figure at 0x7f85ef198390>"
      ]
     },
     "metadata": {},
     "output_type": "display_data"
    },
    {
     "data": {
      "image/png": "[encoded data removed]",
      "text/plain": [
       "<matplotlib.figure.Figure at 0x7f85e53dd1d0>"
      ]
     },
     "metadata": {},
     "output_type": "display_data"
    },
    {
     "data": {
      "image/png": "[encoded data removed]",
      "text/plain": [
       "<matplotlib.figure.Figure at 0x7f85e4e92950>"
      ]
     },
     "metadata": {},
     "output_type": "display_data"
    }
   ],
   "source": [
    "# Visualize the first 3 activation maps after convs\n",
    "getActivations_mnist(sconv_1,imageToUse)\n",
    "getActivations_mnist(sconv_2,imageToUse)\n",
    "getActivations_mnist(sconv_3,imageToUse)"
   ]
  },
  {
   "cell_type": "markdown",
   "metadata": {
    "run_control": {
     "frozen": false,
     "read_only": false
    }
   },
   "source": [
    "## Visualize the activations on your own model\n",
    "Now repeat the above procedure on your own model."
   ]
  },
  {
   "cell_type": "code",
   "execution_count": 22,
   "metadata": {
    "ExecuteTime": {
     "end_time": "2017-10-13T10:07:46.791193Z",
     "start_time": "2017-10-13T10:07:46.767785Z"
    },
    "collapsed": true,
    "run_control": {
     "frozen": false,
     "read_only": false
    }
   },
   "outputs": [],
   "source": [
    "def getActivations_cifar10(layer, stimuli):\n",
    "    #############################################################################\n",
    "    # TODO: Fill out the following block                                        #\n",
    "    #############################################################################\n",
    "    outs = sess.run(layer, feed_dict={x:np.reshape(features,[1,3076],order='F'), keep_prob:1.0})\n",
    "    outs = np.transpose(outs, [3, 1, 2, 0])\n",
    "    fig = plt.figure(figsize=(4,4))   \n",
    "    ax1 = plt.subplot(111)\n",
    "    grid = viz_grid(outs)\n",
    "    ax1.imshow(grid[...,0])\n",
    "    ax1.set_title('{} Activations'.format(layer.name), fontsize=16)\n",
    "    "
   ]
  },
  {
   "cell_type": "code",
   "execution_count": 23,
   "metadata": {
    "ExecuteTime": {
     "end_time": "2017-10-13T10:07:47.728584Z",
     "start_time": "2017-10-13T10:07:47.596485Z"
    },
    "run_control": {
     "frozen": false,
     "read_only": false
    }
   },
   "outputs": [
    {
     "name": "stdout",
     "output_type": "stream",
     "text": [
      "There are total 10000 images in test set\n",
      "Image 999 in test set\n"
     ]
    },
    {
     "data": {
      "image/png": "[encoded data removed]",
      "text/plain": [
       "<matplotlib.figure.Figure at 0x7f85e4e33a50>"
      ]
     },
     "metadata": {},
     "output_type": "display_data"
    }
   ],
   "source": [
    "print \"There are total {} images in test set\".format(len(data_test))\n",
    "#############################################################################\n",
    "# TODO: Try out some indices you want to see!                               #\n",
    "#############################################################################\n",
    "query_idx = 999\n",
    "\n",
    "# Process the indicated issue\n",
    "query_idx = min(max(query_idx, 0), 999)\n",
    "cifar10ToUse = data_test[query_idx]\n",
    "cifar10ToUse= cifar10ToUse[...,::-1]\n",
    "plt.imshow(cifar10ToUse)\n",
    "print \"Image {} in test set\".format(query_idx)"
   ]
  },
  {
   "cell_type": "code",
   "execution_count": 24,
   "metadata": {
    "ExecuteTime": {
     "end_time": "2017-10-13T10:07:49.532824Z",
     "start_time": "2017-10-13T10:07:48.641838Z"
    },
    "run_control": {
     "frozen": false,
     "read_only": false
    },
    "scrolled": false
   },
   "outputs": [
    {
     "name": "stdout",
     "output_type": "stream",
     "text": [
      "-----  Sample model  -----\n",
      "intput layer: (?, 32, 32, 3)\n",
      "conv1 layer: (?, 16, 16, 32)\n",
      "conv2 layer: (?, 8, 8, 64)\n",
      "flat layer: (?, 4096)\n",
      "fc3 layer: (?, 384)\n",
      "fc4 layer: (?, 10)\n",
      "Loading conv1/w:0 from checkpoint. Name: conv1/w\n",
      "Loading conv1/b:0 from checkpoint. Name: conv1/b\n",
      "Loading conv2/w:0 from checkpoint. Name: conv2/w\n",
      "Loading conv2/b:0 from checkpoint. Name: conv2/b\n",
      "Loading fc3/fully_connected/weights:0 from checkpoint. Name: fc3/fully_connected/weights\n",
      "Loading fc3/fully_connected/biases:0 from checkpoint. Name: fc3/fully_connected/biases\n",
      "Loading fc4/fully_connected/weights:0 from checkpoint. Name: fc4/fully_connected/weights\n",
      "Loading fc4/fully_connected/biases:0 from checkpoint. Name: fc4/fully_connected/biases\n",
      "Loading global_step:0 from checkpoint. Name: global_step\n",
      "Loading beta1_power:0 from checkpoint. Name: beta1_power\n",
      "Loading beta2_power:0 from checkpoint. Name: beta2_power\n",
      "Loading conv1/w/Adam:0 from checkpoint. Name: conv1/w/Adam\n",
      "Loading conv1/w/Adam_1:0 from checkpoint. Name: conv1/w/Adam_1\n",
      "Loading conv1/b/Adam:0 from checkpoint. Name: conv1/b/Adam\n",
      "Loading conv1/b/Adam_1:0 from checkpoint. Name: conv1/b/Adam_1\n",
      "Loading conv2/w/Adam:0 from checkpoint. Name: conv2/w/Adam\n",
      "Loading conv2/w/Adam_1:0 from checkpoint. Name: conv2/w/Adam_1\n",
      "Loading conv2/b/Adam:0 from checkpoint. Name: conv2/b/Adam\n",
      "Loading conv2/b/Adam_1:0 from checkpoint. Name: conv2/b/Adam_1\n",
      "Loading fc3/fully_connected/weights/Adam:0 from checkpoint. Name: fc3/fully_connected/weights/Adam\n",
      "Loading fc3/fully_connected/weights/Adam_1:0 from checkpoint. Name: fc3/fully_connected/weights/Adam_1\n",
      "Loading fc3/fully_connected/biases/Adam:0 from checkpoint. Name: fc3/fully_connected/biases/Adam\n",
      "Loading fc3/fully_connected/biases/Adam_1:0 from checkpoint. Name: fc3/fully_connected/biases/Adam_1\n",
      "Loading fc4/fully_connected/weights/Adam:0 from checkpoint. Name: fc4/fully_connected/weights/Adam\n",
      "Loading fc4/fully_connected/weights/Adam_1:0 from checkpoint. Name: fc4/fully_connected/weights/Adam_1\n",
      "Loading fc4/fully_connected/biases/Adam:0 from checkpoint. Name: fc4/fully_connected/biases/Adam\n",
      "Loading fc4/fully_connected/biases/Adam_1:0 from checkpoint. Name: fc4/fully_connected/biases/Adam_1\n",
      "INFO:tensorflow:Restoring parameters from lib/tf_models/problem2/csci-599_sample.ckpt\n"
     ]
    }
   ],
   "source": [
    "tf.reset_default_graph()\n",
    "sess = tf.Session()\n",
    "\n",
    "# Restore the model using parameters dict\n",
    "model = BaseModel()\n",
    "variables = tf.global_variables()\n",
    "param_dict = {}\n",
    "for var in variables:\n",
    "    var_name = var.name[:-2]\n",
    "    print('Loading {} from checkpoint. Name: {}'.format(var.name, var_name))\n",
    "    param_dict[var_name] = var\n",
    "saver = tf.train.Saver()\n",
    "saver.restore(sess, \"lib/tf_models/problem2/csci-599_sample.ckpt\")"
   ]
  },
  {
   "cell_type": "code",
   "execution_count": 25,
   "metadata": {
    "ExecuteTime": {
     "end_time": "2017-10-13T10:07:49.579335Z",
     "start_time": "2017-10-13T10:07:49.534352Z"
    },
    "run_control": {
     "frozen": false,
     "read_only": false
    }
   },
   "outputs": [
    {
     "ename": "NameError",
     "evalue": "global name 'features' is not defined",
     "output_type": "error",
     "traceback": [
      "\u001b[0;31m---------------------------------------------------------------------------\u001b[0m",
      "\u001b[0;31mNameError\u001b[0m                                 Traceback (most recent call last)",
      "\u001b[0;32m<ipython-input-25-819eb2a8cbe0>\u001b[0m in \u001b[0;36m<module>\u001b[0;34m()\u001b[0m\n\u001b[1;32m      3\u001b[0m \u001b[0;31m# TODO: Visualize the activations of each conv layer in your model          #\u001b[0m\u001b[0;34m\u001b[0m\u001b[0;34m\u001b[0m\u001b[0m\n\u001b[1;32m      4\u001b[0m \u001b[0;31m#############################################################################\u001b[0m\u001b[0;34m\u001b[0m\u001b[0;34m\u001b[0m\u001b[0m\n\u001b[0;32m----> 5\u001b[0;31m \u001b[0mgetActivations_cifar10\u001b[0m\u001b[0;34m(\u001b[0m\u001b[0msconv_1\u001b[0m\u001b[0;34m,\u001b[0m\u001b[0mcifar10ToUse_with_batch\u001b[0m\u001b[0;34m)\u001b[0m\u001b[0;34m\u001b[0m\u001b[0m\n\u001b[0m\u001b[1;32m      6\u001b[0m \u001b[0mgetActivations_cifar10\u001b[0m\u001b[0;34m(\u001b[0m\u001b[0msconv_2\u001b[0m\u001b[0;34m,\u001b[0m\u001b[0mcifar10ToUse_with_batch\u001b[0m\u001b[0;34m)\u001b[0m\u001b[0;34m\u001b[0m\u001b[0m\n\u001b[1;32m      7\u001b[0m \u001b[0mgetActivations_cifar10\u001b[0m\u001b[0;34m(\u001b[0m\u001b[0msconv_3\u001b[0m\u001b[0;34m,\u001b[0m\u001b[0mcifar10ToUse_with_batch\u001b[0m\u001b[0;34m)\u001b[0m\u001b[0;34m\u001b[0m\u001b[0m\n",
      "\u001b[0;32m<ipython-input-22-2c4078fda7d6>\u001b[0m in \u001b[0;36mgetActivations_cifar10\u001b[0;34m(layer, stimuli)\u001b[0m\n\u001b[1;32m      3\u001b[0m     \u001b[0;31m# TODO: Fill out the following block                                        #\u001b[0m\u001b[0;34m\u001b[0m\u001b[0;34m\u001b[0m\u001b[0m\n\u001b[1;32m      4\u001b[0m     \u001b[0;31m#############################################################################\u001b[0m\u001b[0;34m\u001b[0m\u001b[0;34m\u001b[0m\u001b[0m\n\u001b[0;32m----> 5\u001b[0;31m     \u001b[0mouts\u001b[0m \u001b[0;34m=\u001b[0m \u001b[0msess\u001b[0m\u001b[0;34m.\u001b[0m\u001b[0mrun\u001b[0m\u001b[0;34m(\u001b[0m\u001b[0mlayer\u001b[0m\u001b[0;34m,\u001b[0m \u001b[0mfeed_dict\u001b[0m\u001b[0;34m=\u001b[0m\u001b[0;34m{\u001b[0m\u001b[0mx\u001b[0m\u001b[0;34m:\u001b[0m\u001b[0mnp\u001b[0m\u001b[0;34m.\u001b[0m\u001b[0mreshape\u001b[0m\u001b[0;34m(\u001b[0m\u001b[0mfeatures\u001b[0m\u001b[0;34m,\u001b[0m\u001b[0;34m[\u001b[0m\u001b[0;36m1\u001b[0m\u001b[0;34m,\u001b[0m\u001b[0;36m3076\u001b[0m\u001b[0;34m]\u001b[0m\u001b[0;34m,\u001b[0m\u001b[0morder\u001b[0m\u001b[0;34m=\u001b[0m\u001b[0;34m'F'\u001b[0m\u001b[0;34m)\u001b[0m\u001b[0;34m,\u001b[0m \u001b[0mkeep_prob\u001b[0m\u001b[0;34m:\u001b[0m\u001b[0;36m1.0\u001b[0m\u001b[0;34m}\u001b[0m\u001b[0;34m)\u001b[0m\u001b[0;34m\u001b[0m\u001b[0m\n\u001b[0m\u001b[1;32m      6\u001b[0m     \u001b[0mouts\u001b[0m \u001b[0;34m=\u001b[0m \u001b[0mnp\u001b[0m\u001b[0;34m.\u001b[0m\u001b[0mtranspose\u001b[0m\u001b[0;34m(\u001b[0m\u001b[0mouts\u001b[0m\u001b[0;34m,\u001b[0m \u001b[0;34m[\u001b[0m\u001b[0;36m3\u001b[0m\u001b[0;34m,\u001b[0m \u001b[0;36m1\u001b[0m\u001b[0;34m,\u001b[0m \u001b[0;36m2\u001b[0m\u001b[0;34m,\u001b[0m \u001b[0;36m0\u001b[0m\u001b[0;34m]\u001b[0m\u001b[0;34m)\u001b[0m\u001b[0;34m\u001b[0m\u001b[0m\n\u001b[1;32m      7\u001b[0m     \u001b[0mfig\u001b[0m \u001b[0;34m=\u001b[0m \u001b[0mplt\u001b[0m\u001b[0;34m.\u001b[0m\u001b[0mfigure\u001b[0m\u001b[0;34m(\u001b[0m\u001b[0mfigsize\u001b[0m\u001b[0;34m=\u001b[0m\u001b[0;34m(\u001b[0m\u001b[0;36m4\u001b[0m\u001b[0;34m,\u001b[0m\u001b[0;36m4\u001b[0m\u001b[0;34m)\u001b[0m\u001b[0;34m)\u001b[0m\u001b[0;34m\u001b[0m\u001b[0m\n",
      "\u001b[0;31mNameError\u001b[0m: global name 'features' is not defined"
     ]
    }
   ],
   "source": [
    "cifar10ToUse_with_batch = np.expand_dims(cifar10ToUse, axis=0)\n",
    "#############################################################################\n",
    "# TODO: Visualize the activations of each conv layer in your model          #\n",
    "#############################################################################\n",
    "getActivations_cifar10(sconv_1,cifar10ToUse_with_batch)\n",
    "getActivations_cifar10(sconv_2,cifar10ToUse_with_batch)\n",
    "getActivations_cifar10(sconv_3,cifar10ToUse_with_batch)"
   ]
  },
  {
   "cell_type": "markdown",
   "metadata": {
    "run_control": {
     "frozen": false,
     "read_only": false
    }
   },
   "source": [
    "### Inline Question: Describe your observation of how the activation changes throughout the network below:\n",
    "#### Ans:"
   ]
  },
  {
   "cell_type": "markdown",
   "metadata": {
    "run_control": {
     "frozen": false,
     "read_only": false
    }
   },
   "source": [
    "## Gradient-weighted Class Activation Mapping (Grad-CAM)\n",
    "Grad-CAM is a technique for \"visually interpreting\" the predictions of a Convolutional Neural\n",
    "Network (CNN)-based model. This technique essentially uses the gradients of any target concept\n",
    "(a predicted class such as \"cat\"), flowing into the final convolutional layer to produce a coarse localization\n",
    "map attending regions in the image that are important for prediction of the concept.\n",
    "Please read the original paper [Grad-CAM](https://arxiv.org/pdf/1610.02391.pdf) for more details."
   ]
  },
  {
   "cell_type": "markdown",
   "metadata": {
    "run_control": {
     "frozen": false,
     "read_only": false
    }
   },
   "source": [
    "### Register the guided backpropagation ReLU (Run this function only once)"
   ]
  },
  {
   "cell_type": "code",
   "execution_count": 26,
   "metadata": {
    "ExecuteTime": {
     "end_time": "2017-10-13T10:07:52.395479Z",
     "start_time": "2017-10-13T10:07:52.372501Z"
    },
    "collapsed": true,
    "run_control": {
     "frozen": false,
     "read_only": false
    }
   },
   "outputs": [],
   "source": [
    "# Replace vanila relu to guided relu to get guided backpropagation.\n",
    "@ops.RegisterGradient(\"GuidedRelu\")\n",
    "def _GuidedReluGrad(op, grad):\n",
    "    return tf.where(0. < grad, gen_nn_ops._relu_grad(grad, op.outputs[0]), tf.zeros(grad.get_shape()))"
   ]
  },
  {
   "cell_type": "markdown",
   "metadata": {
    "run_control": {
     "frozen": false,
     "read_only": false
    }
   },
   "source": [
    "### Some useful functions"
   ]
  },
  {
   "cell_type": "code",
   "execution_count": 28,
   "metadata": {
    "ExecuteTime": {
     "end_time": "2017-10-13T10:27:56.607138Z",
     "start_time": "2017-10-13T10:27:56.396992Z"
    },
    "run_control": {
     "frozen": false,
     "read_only": false
    }
   },
   "outputs": [
    {
     "name": "stderr",
     "output_type": "stream",
     "text": [
      "[autoreload of h5py failed: Traceback (most recent call last):\n",
      "  File \"/home/saket/anaconda2/lib/python2.7/site-packages/IPython/extensions/autoreload.py\", line 247, in check\n",
      "    superreload(m, reload, self.old_objects)\n",
      "ImportError: cannot import name _errors\n",
      "]\n",
      "[autoreload of h5py.tests failed: Traceback (most recent call last):\n",
      "  File \"/home/saket/anaconda2/lib/python2.7/site-packages/IPython/extensions/autoreload.py\", line 247, in check\n",
      "    superreload(m, reload, self.old_objects)\n",
      "ImportError: cannot import name old\n",
      "]\n",
      "[autoreload of h5py._hl.dataset failed: Traceback (most recent call last):\n",
      "  File \"/home/saket/anaconda2/lib/python2.7/site-packages/IPython/extensions/autoreload.py\", line 247, in check\n",
      "    superreload(m, reload, self.old_objects)\n",
      "ImportError: cannot import name filters\n",
      "]\n",
      "[autoreload of h5py.version failed: Traceback (most recent call last):\n",
      "  File \"/home/saket/anaconda2/lib/python2.7/site-packages/IPython/extensions/autoreload.py\", line 247, in check\n",
      "    superreload(m, reload, self.old_objects)\n",
      "AttributeError: 'module' object has no attribute 'HDF5_VERSION_COMPILED_AGAINST'\n",
      "]\n",
      "[autoreload of h5py.tests.hl failed: Traceback (most recent call last):\n",
      "  File \"/home/saket/anaconda2/lib/python2.7/site-packages/IPython/extensions/autoreload.py\", line 247, in check\n",
      "    superreload(m, reload, self.old_objects)\n",
      "ImportError: cannot import name test_dataset_getitem\n",
      "]\n",
      "[autoreload of h5py.highlevel failed: Traceback (most recent call last):\n",
      "  File \"/home/saket/anaconda2/lib/python2.7/site-packages/IPython/extensions/autoreload.py\", line 247, in check\n",
      "    superreload(m, reload, self.old_objects)\n",
      "ImportError: cannot import name filters\n",
      "]\n",
      "[autoreload of h5py.tests.old failed: Traceback (most recent call last):\n",
      "  File \"/home/saket/anaconda2/lib/python2.7/site-packages/IPython/extensions/autoreload.py\", line 247, in check\n",
      "    superreload(m, reload, self.old_objects)\n",
      "ImportError: cannot import name test_attrs\n",
      "]\n",
      "[autoreload of h5py._hl.attrs failed: Traceback (most recent call last):\n",
      "  File \"/home/saket/anaconda2/lib/python2.7/site-packages/IPython/extensions/autoreload.py\", line 247, in check\n",
      "    superreload(m, reload, self.old_objects)\n",
      "ImportError: cannot import name base\n",
      "]\n",
      "[autoreload of h5py._hl.group failed: Traceback (most recent call last):\n",
      "  File \"/home/saket/anaconda2/lib/python2.7/site-packages/IPython/extensions/autoreload.py\", line 247, in check\n",
      "    superreload(m, reload, self.old_objects)\n",
      "ImportError: cannot import name base\n",
      "]\n"
     ]
    }
   ],
   "source": [
    "import cv2\n",
    "\n",
    "def imgread(path):\n",
    "    print \"Image:\", path.split(\"/\")[-1]\n",
    "    # Read in the image using python opencv\n",
    "    img = cv2.imread(path)\n",
    "    img = img / 255.0\n",
    "    print \"Raw Image Shape: \", img.shape\n",
    "    \n",
    "    # Center crop the image\n",
    "    short_edge = min(img.shape[:2])\n",
    "    W, H, C = img.shape\n",
    "    to_crop = min(W, H)\n",
    "    cent_w = int((img.shape[1] - short_edge) / 2)\n",
    "    cent_h = int((img.shape[0] - short_edge) / 2)\n",
    "    img_cropped = img[cent_h:cent_h+to_crop, cent_w:cent_w+to_crop]\n",
    "    print \"Cropped Image Shape: \", img_cropped.shape\n",
    "    \n",
    "    # Resize the cropped image to 224 by 224 for VGG16 network\n",
    "    img_resized = cv2.resize(img_cropped, (224, 224), interpolation=cv2.INTER_LINEAR)\n",
    "    print \"Resized Image Shape: \", img_resized.shape\n",
    "    return img_resized\n",
    "\n",
    "def predicted_labels(score, synset_path):\n",
    "    fi = open(synset_path, \"rb\")\n",
    "    synset = []\n",
    "    for line in fi:\n",
    "        synset.append(line.rstrip().lstrip())\n",
    "    \n",
    "    # The predictions, reverse ordered\n",
    "    pred = np.argsort(score)[::-1]\n",
    "\n",
    "    # Top 1 and Top 5\n",
    "    top1 = synset[pred[0]]\n",
    "    print \"\\nTop1, Label: {}, score: {}\".format(top1, score[pred[0]])\n",
    "    top5 = [(synset[pred[i]], score[pred[i]]) for i in xrange(5)]\n",
    "    for i in xrange(1,5):\n",
    "        print \"Top{}, Label: {} score: {}\".format(i+1, top5[i][0], top5[i][1])\n",
    "    return top1, top5"
   ]
  },
  {
   "cell_type": "markdown",
   "metadata": {
    "run_control": {
     "frozen": false,
     "read_only": false
    }
   },
   "source": [
    "### Visualization Function"
   ]
  },
  {
   "cell_type": "code",
   "execution_count": 29,
   "metadata": {
    "ExecuteTime": {
     "end_time": "2017-10-13T10:28:09.040018Z",
     "start_time": "2017-10-13T10:28:08.973953Z"
    },
    "collapsed": true,
    "run_control": {
     "frozen": false,
     "read_only": false
    }
   },
   "outputs": [],
   "source": [
    "def visualize(image, output, grads, gb_grads):\n",
    "    # Reverse the BGR channel to RGB\n",
    "    gb_grads = gb_grads[...,::-1]\n",
    "\n",
    "    # Initialzie CAM weights\n",
    "    CAM = np.ones(output.shape[0 : 2], dtype = np.float32)  \n",
    "\n",
    "    # Taking a weighted average\n",
    "    cam_w = np.mean(grads, axis = (0, 1))\n",
    "    for i, w in enumerate(cam_w):\n",
    "        CAM += w * output[:, :, i]\n",
    "\n",
    "    # Passing through ReLU\n",
    "    CAM = np.maximum(CAM, 0)\n",
    "    # scale CAM to [0,1]\n",
    "    CAM /= np.max(CAM)\n",
    "    # Resize the CAM to 224 by 224\n",
    "    CAM = cv2.resize(CAM, (224, 224), interpolation=cv2.INTER_LINEAR)\n",
    "    \n",
    "    # scale guided backprop gradients to [0,1]\n",
    "    gb_grads -= np.min(gb_grads)\n",
    "    gb_grads /= np.max(gb_grads)\n",
    "    \n",
    "    # scale the original to [0,1]\n",
    "    img_toshow = image.astype(float)    \n",
    "    img_toshow -= np.min(img_toshow)\n",
    "    img_toshow /= img_toshow.max()\n",
    "\n",
    "    # Render the CAM heatmap\n",
    "    heatmap = cv2.applyColorMap(np.uint8(CAM*255.0), cv2.COLORMAP_JET)\n",
    "\n",
    "    # Grad-CAM\n",
    "    CAM_gb = CAM.copy()\n",
    "    CAM_gb = np.expand_dims(np.squeeze(CAM_gb), axis=-1)\n",
    "    gd_gb = gb_grads * np.tile(CAM_gb, (1,1,3))\n",
    "    \n",
    "    # Draw the results figures\n",
    "    fig = plt.figure(figsize=(10,10))   \n",
    "    ax1 = plt.subplot(221)\n",
    "    ax2 = plt.subplot(222)\n",
    "    ax3 = plt.subplot(223)\n",
    "    ax4 = plt.subplot(224)\n",
    "    \n",
    "    ax1.imshow(img_toshow[...,::-1])\n",
    "    ax1.set_title('Input Image')\n",
    "    ax2.imshow(heatmap)\n",
    "    ax2.set_title('Grad-CAM')\n",
    "    ax3.imshow(gb_grads)\n",
    "    ax3.set_title('guided backpropagation')\n",
    "    ax4.imshow(gd_gb)\n",
    "    ax4.set_title('guided Grad-CAM')\n",
    "\n",
    "    # Show the resulting image\n",
    "    plt.show()"
   ]
  },
  {
   "cell_type": "markdown",
   "metadata": {
    "run_control": {
     "frozen": false,
     "read_only": false
    }
   },
   "source": [
    "### Grad-CAM Main Implementation"
   ]
  },
  {
   "cell_type": "code",
   "execution_count": 30,
   "metadata": {
    "ExecuteTime": {
     "end_time": "2017-10-13T10:28:15.452523Z",
     "start_time": "2017-10-13T10:28:10.699620Z"
    },
    "run_control": {
     "frozen": false,
     "read_only": false
    },
    "scrolled": false
   },
   "outputs": [
    {
     "name": "stdout",
     "output_type": "stream",
     "text": [
      "Image: corgi.jpg\n",
      "Raw Image Shape:  (600, 900, 3)\n",
      "Cropped Image Shape:  (600, 600, 3)\n",
      "Resized Image Shape:  (224, 224, 3)\n",
      "Image: cat_and_dog.jpg\n",
      "Raw Image Shape:  (480, 640, 3)\n",
      "Cropped Image Shape:  (480, 480, 3)\n",
      "Resized Image Shape:  (224, 224, 3)\n",
      "Image: cat_and_dog.jpg\n",
      "Raw Image Shape:  (480, 640, 3)\n",
      "Cropped Image Shape:  (480, 480, 3)\n",
      "Resized Image Shape:  (224, 224, 3)\n",
      "Model from /media/dna/github/hatex/2017_Fall/CSCI-599/Assignment01/lib/tf_models/vgg16.npy\n",
      "Pretrained VGG16 successfully loaded!\n"
     ]
    },
    {
     "ename": "TypeError",
     "evalue": "Fetch argument None has invalid type <type 'NoneType'>",
     "output_type": "error",
     "traceback": [
      "\u001b[0;31m---------------------------------------------------------------------------\u001b[0m",
      "\u001b[0;31mTypeError\u001b[0m                                 Traceback (most recent call last)",
      "\u001b[0;32m<ipython-input-30-46bfd8dd7423>\u001b[0m in \u001b[0;36m<module>\u001b[0;34m()\u001b[0m\n\u001b[1;32m     85\u001b[0m \u001b[0;31m# Run tensorflow\u001b[0m\u001b[0;34m\u001b[0m\u001b[0;34m\u001b[0m\u001b[0m\n\u001b[1;32m     86\u001b[0m \u001b[0;32mwith\u001b[0m \u001b[0mtf\u001b[0m\u001b[0;34m.\u001b[0m\u001b[0mSession\u001b[0m\u001b[0;34m(\u001b[0m\u001b[0mgraph\u001b[0m\u001b[0;34m=\u001b[0m\u001b[0mgraph\u001b[0m\u001b[0;34m)\u001b[0m \u001b[0;32mas\u001b[0m \u001b[0msess\u001b[0m\u001b[0;34m:\u001b[0m\u001b[0;34m\u001b[0m\u001b[0m\n\u001b[0;32m---> 87\u001b[0;31m     \u001b[0msess\u001b[0m\u001b[0;34m.\u001b[0m\u001b[0mrun\u001b[0m\u001b[0;34m(\u001b[0m\u001b[0minit\u001b[0m\u001b[0;34m)\u001b[0m\u001b[0;34m\u001b[0m\u001b[0m\n\u001b[0m\u001b[1;32m     88\u001b[0m     \u001b[0;31m#############################################################################\u001b[0m\u001b[0;34m\u001b[0m\u001b[0;34m\u001b[0m\u001b[0m\n\u001b[1;32m     89\u001b[0m     \u001b[0;31m# TODO: Run the session to get guided backpropagation gradients to the      #\u001b[0m\u001b[0;34m\u001b[0m\u001b[0;34m\u001b[0m\u001b[0m\n",
      "\u001b[0;32m/home/saket/anaconda2/lib/python2.7/site-packages/tensorflow/python/client/session.pyc\u001b[0m in \u001b[0;36mrun\u001b[0;34m(self, fetches, feed_dict, options, run_metadata)\u001b[0m\n\u001b[1;32m    893\u001b[0m     \u001b[0;32mtry\u001b[0m\u001b[0;34m:\u001b[0m\u001b[0;34m\u001b[0m\u001b[0m\n\u001b[1;32m    894\u001b[0m       result = self._run(None, fetches, feed_dict, options_ptr,\n\u001b[0;32m--> 895\u001b[0;31m                          run_metadata_ptr)\n\u001b[0m\u001b[1;32m    896\u001b[0m       \u001b[0;32mif\u001b[0m \u001b[0mrun_metadata\u001b[0m\u001b[0;34m:\u001b[0m\u001b[0;34m\u001b[0m\u001b[0m\n\u001b[1;32m    897\u001b[0m         \u001b[0mproto_data\u001b[0m \u001b[0;34m=\u001b[0m \u001b[0mtf_session\u001b[0m\u001b[0;34m.\u001b[0m\u001b[0mTF_GetBuffer\u001b[0m\u001b[0;34m(\u001b[0m\u001b[0mrun_metadata_ptr\u001b[0m\u001b[0;34m)\u001b[0m\u001b[0;34m\u001b[0m\u001b[0m\n",
      "\u001b[0;32m/home/saket/anaconda2/lib/python2.7/site-packages/tensorflow/python/client/session.pyc\u001b[0m in \u001b[0;36m_run\u001b[0;34m(self, handle, fetches, feed_dict, options, run_metadata)\u001b[0m\n\u001b[1;32m   1107\u001b[0m     \u001b[0;31m# Create a fetch handler to take care of the structure of fetches.\u001b[0m\u001b[0;34m\u001b[0m\u001b[0;34m\u001b[0m\u001b[0m\n\u001b[1;32m   1108\u001b[0m     fetch_handler = _FetchHandler(\n\u001b[0;32m-> 1109\u001b[0;31m         self._graph, fetches, feed_dict_tensor, feed_handles=feed_handles)\n\u001b[0m\u001b[1;32m   1110\u001b[0m \u001b[0;34m\u001b[0m\u001b[0m\n\u001b[1;32m   1111\u001b[0m     \u001b[0;31m# Run request and get response.\u001b[0m\u001b[0;34m\u001b[0m\u001b[0;34m\u001b[0m\u001b[0m\n",
      "\u001b[0;32m/home/saket/anaconda2/lib/python2.7/site-packages/tensorflow/python/client/session.pyc\u001b[0m in \u001b[0;36m__init__\u001b[0;34m(self, graph, fetches, feeds, feed_handles)\u001b[0m\n\u001b[1;32m    411\u001b[0m     \"\"\"\n\u001b[1;32m    412\u001b[0m     \u001b[0;32mwith\u001b[0m \u001b[0mgraph\u001b[0m\u001b[0;34m.\u001b[0m\u001b[0mas_default\u001b[0m\u001b[0;34m(\u001b[0m\u001b[0;34m)\u001b[0m\u001b[0;34m:\u001b[0m\u001b[0;34m\u001b[0m\u001b[0m\n\u001b[0;32m--> 413\u001b[0;31m       \u001b[0mself\u001b[0m\u001b[0;34m.\u001b[0m\u001b[0m_fetch_mapper\u001b[0m \u001b[0;34m=\u001b[0m \u001b[0m_FetchMapper\u001b[0m\u001b[0;34m.\u001b[0m\u001b[0mfor_fetch\u001b[0m\u001b[0;34m(\u001b[0m\u001b[0mfetches\u001b[0m\u001b[0;34m)\u001b[0m\u001b[0;34m\u001b[0m\u001b[0m\n\u001b[0m\u001b[1;32m    414\u001b[0m     \u001b[0mself\u001b[0m\u001b[0;34m.\u001b[0m\u001b[0m_fetches\u001b[0m \u001b[0;34m=\u001b[0m \u001b[0;34m[\u001b[0m\u001b[0;34m]\u001b[0m\u001b[0;34m\u001b[0m\u001b[0m\n\u001b[1;32m    415\u001b[0m     \u001b[0mself\u001b[0m\u001b[0;34m.\u001b[0m\u001b[0m_targets\u001b[0m \u001b[0;34m=\u001b[0m \u001b[0;34m[\u001b[0m\u001b[0;34m]\u001b[0m\u001b[0;34m\u001b[0m\u001b[0m\n",
      "\u001b[0;32m/home/saket/anaconda2/lib/python2.7/site-packages/tensorflow/python/client/session.pyc\u001b[0m in \u001b[0;36mfor_fetch\u001b[0;34m(fetch)\u001b[0m\n\u001b[1;32m    228\u001b[0m     \u001b[0;32mif\u001b[0m \u001b[0mfetch\u001b[0m \u001b[0;32mis\u001b[0m \u001b[0mNone\u001b[0m\u001b[0;34m:\u001b[0m\u001b[0;34m\u001b[0m\u001b[0m\n\u001b[1;32m    229\u001b[0m       raise TypeError('Fetch argument %r has invalid type %r' %\n\u001b[0;32m--> 230\u001b[0;31m                       (fetch, type(fetch)))\n\u001b[0m\u001b[1;32m    231\u001b[0m     \u001b[0;32melif\u001b[0m \u001b[0misinstance\u001b[0m\u001b[0;34m(\u001b[0m\u001b[0mfetch\u001b[0m\u001b[0;34m,\u001b[0m \u001b[0;34m(\u001b[0m\u001b[0mlist\u001b[0m\u001b[0;34m,\u001b[0m \u001b[0mtuple\u001b[0m\u001b[0;34m)\u001b[0m\u001b[0;34m)\u001b[0m\u001b[0;34m:\u001b[0m\u001b[0;34m\u001b[0m\u001b[0m\n\u001b[1;32m    232\u001b[0m       \u001b[0;31m# NOTE(touts): This is also the code path for namedtuples.\u001b[0m\u001b[0;34m\u001b[0m\u001b[0;34m\u001b[0m\u001b[0m\n",
      "\u001b[0;31mTypeError\u001b[0m: Fetch argument None has invalid type <type 'NoneType'>"
     ]
    }
   ],
   "source": [
    "num_classes = 1000\n",
    "\n",
    "# Read in the image\n",
    "img1 = imgread(\"images/corgi.jpg\")\n",
    "img2 = imgread(\"images/cat_and_dog.jpg\")\n",
    "img3 = imgread(\"images/cat_and_dog.jpg\")\n",
    "\n",
    "# Expand one dimension to take on the batch dimension\n",
    "img1 = np.expand_dims(img1, axis=0)\n",
    "img2 = np.expand_dims(img2, axis=0)\n",
    "img3 = np.expand_dims(img3, axis=0)\n",
    "\n",
    "# Define a all zero gradients of the shape 1000\n",
    "zero_grads = np.array([0 for i in xrange(num_classes)])\n",
    "\n",
    "# The indices of the classes are provided for you\n",
    "class_num1 = 263  # Pembroke, Pembroke Welsh corgi\n",
    "class_num2 = 254  # Pug, pug-dog\n",
    "class_num3 = 282  # Tiger cat\n",
    "\n",
    "# Define a one-hot gradient vector where the only activated gradient\n",
    "# is of the corresponding indices from above \n",
    "one_hot_grad1 = zero_grads.copy()\n",
    "one_hot_grad2 = zero_grads.copy()\n",
    "one_hot_grad3 = zero_grads.copy()\n",
    "one_hot_grad1[class_num1] = 1.0\n",
    "one_hot_grad2[class_num2] = 1.0\n",
    "one_hot_grad3[class_num3] = 1.0\n",
    "one_hot_grad1 = np.expand_dims(one_hot_grad1, axis=0)\n",
    "one_hot_grad2 = np.expand_dims(one_hot_grad2, axis=0)\n",
    "one_hot_grad3 = np.expand_dims(one_hot_grad3, axis=0)\n",
    "\n",
    "#############################################################################\n",
    "# TODO: Construct a minibatch of data and labels (one-hot vectors) of the   #\n",
    "# images using concatenate                                                  #\n",
    "#############################################################################\n",
    "minibatch = None\n",
    "one_hot_grads = None\n",
    "\n",
    "# Define the batch size\n",
    "batch_size = 3\n",
    "\n",
    "# Create tensorflow graph for evaluation\n",
    "graph = tf.Graph()\n",
    "with graph.as_default():\n",
    "    with graph.gradient_override_map({'Relu': 'GuidedRelu'}):\n",
    "        # Define the VGG16 network and setup\n",
    "        # Please take a look at the lib/tf_models/vgg16.py for more details\n",
    "        # of the VGG16 network\n",
    "        vgg = vgg16.Vgg16()\n",
    "        vgg.load()\n",
    "        vgg.setup()\n",
    "        \n",
    "        #############################################################################\n",
    "        # TODO: Define the signal and the loss                                      #\n",
    "        # HINT: To construnct the signal, simply extract the final fully connected  #\n",
    "        # layer and perform a matrix multiplication on the one-hot vectors          #\n",
    "        # The loss is then defined as the average of the signal                     #\n",
    "        #############################################################################\n",
    "        signal = None\n",
    "        loss = None\n",
    "\n",
    "        #############################################################################\n",
    "        # TODO: Compute the gradient of pool5 layer for generating Grad-CAM         #\n",
    "        #############################################################################\n",
    "        pool5 = None\n",
    "        pool5_grads = None\n",
    "\n",
    "        #############################################################################\n",
    "        # TODO: Perform a guided backpropagtion back to the input layer             #\n",
    "        #############################################################################\n",
    "        gb_grad = None\n",
    "\n",
    "        eps = tf.constant(1e-5)\n",
    "        #############################################################################\n",
    "        # TODO: Normalize the gradients, and add a small number epsilon to it       #\n",
    "        #############################################################################\n",
    "        pool5_grads_norm = None\n",
    "\n",
    "        #############################################################################\n",
    "        # TODO: Initializer for the tf variables                                    #\n",
    "        #############################################################################\n",
    "        init = None\n",
    "\n",
    "# Run tensorflow \n",
    "with tf.Session(graph=graph) as sess:    \n",
    "    sess.run(init)\n",
    "    #############################################################################\n",
    "    # TODO: Run the session to get guided backpropagation gradients to the      #\n",
    "    # input, activation of pool5, normalized pool5 gradients, and the           #\n",
    "    # prediction probability                                                    #\n",
    "    #############################################################################\n",
    "    prob, gb_grads, pool5_act, pool5_grads = None, None, None, None\n",
    "    # Visualize the Grad-CAM\n",
    "    for i in xrange(batch_size):\n",
    "        top1, top5 = predicted_labels(prob[i], \"lib/synset.txt\")\n",
    "        visualize(minibatch[i], pool5_act[i], pool5_grads[i], gb_grads[i])"
   ]
  },
  {
   "cell_type": "markdown",
   "metadata": {
    "collapsed": true,
    "run_control": {
     "frozen": false,
     "read_only": false
    }
   },
   "source": [
    "### Inline Question: Describe your observation of the above results:\n",
    "#### Ans:"
   ]
  }
 ],
 "metadata": {
  "hide_input": false,
  "kernelspec": {
   "display_name": "Python [default]",
   "language": "python",
   "name": "python2"
  },
  "language_info": {
   "codemirror_mode": {
    "name": "ipython",
    "version": 2
   },
   "file_extension": ".py",
   "mimetype": "text/x-python",
   "name": "python",
   "nbconvert_exporter": "python",
   "pygments_lexer": "ipython2",
   "version": "2.7.13"
  },
  "latex_envs": {
   "LaTeX_envs_menu_present": true,
   "autocomplete": true,
   "bibliofile": "biblio.bib",
   "cite_by": "apalike",
   "current_citInitial": 1,
   "eqLabelWithNumbers": true,
   "eqNumInitial": 1,
   "hotkeys": {
    "equation": "Ctrl-E",
    "itemize": "Ctrl-I"
   },
   "labels_anchors": false,
   "latex_user_defs": false,
   "report_style_numbering": false,
   "user_envs_cfg": false
  },
  "toc": {
   "colors": {
    "hover_highlight": "#DAA520",
    "running_highlight": "#FF0000",
    "selected_highlight": "#FFD700"
   },
   "moveMenuLeft": true,
   "nav_menu": {},
   "navigate_menu": true,
   "number_sections": true,
   "sideBar": true,
   "skip_h1_title": false,
   "threshold": 4,
   "toc_cell": false,
   "toc_position": {},
   "toc_section_display": "block",
   "toc_window_display": false,
   "widenNotebook": false
  }
 },
 "nbformat": 4,
 "nbformat_minor": 1
}
