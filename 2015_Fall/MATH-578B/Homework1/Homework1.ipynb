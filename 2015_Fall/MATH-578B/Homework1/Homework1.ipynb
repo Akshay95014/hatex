{
 "cells": [
  {
   "cell_type": "markdown",
   "metadata": {},
   "source": [
    "## Problem 1\n"
   ]
  },
  {
   "cell_type": "markdown",
   "metadata": {
    "collapsed": true
   },
   "source": [
    "\n",
    "The transition matrix is given by:\n",
    "$$\n",
    "\\begin{bmatrix}\n",
    "1-\\alpha & \\alpha\\\\\n",
    "\\beta & 1-\\beta\n",
    "\\end{bmatrix}\n",
    "$$\n",
    "\n",
    "### Part (a)\n",
    "\n",
    "$\\eta = min(n>0, X_n=1)$ given $X_0=0$\n",
    "\n",
    "*To Prove* $\\eta \\sim Geom(\\alpha)$\n",
    "\n",
    "\n",
    "$\\eta = P(X_0=0,X_1=0, \\dots X_{n-1}=1, X_n=1)$\n",
    "\n",
    "Using the Markov property this can be written as:\n",
    "\n",
    "$$\n",
    "\\eta = P(X_0=0)P(X_1=0|X_0=0)P(X_2=0|X_1=0)P(X_3=0|X_2=0) \\dots P(X_{n-1}=0|X_{n-2}=0)P(X_{n}=1|X_{n-1}=0)\n",
    "$$\n",
    "\n",
    "And being time-homogenous, this simplifies to:\n",
    "\n",
    "$$\n",
    "\\eta = P(X_0=0)\\big(P(X_1=0|X_0)\\big)^{n-1}\\times P(X_1=1|X_0=0)\n",
    "$$\n",
    "\n",
    "$\\implies$ \n",
    "\n",
    "$$\n",
    "\\eta = P(X_0=0)\\big(1-\\alpha)^{n-1}\\alpha = \\big(1-\\alpha)^{n-1}\\alpha\n",
    "$$\n",
    "\n",
    "And hence $\\eta \\sim Geom(\\alpha)$\n",
    "\n",
    "\n",
    "### Part (b)\n",
    "\n",
    "Spectral decomposition of $P$ and value for $P(X_n=1|X_0=0)$\n",
    "\n",
    "Spectral decomposition of $P$:\n",
    "\n",
    "$$\n",
    "det\\begin{bmatrix}\n",
    "\\alpha-\\lambda & 1-\\alpha\\\\\n",
    "1-\\beta & \\beta-\\lambda\n",
    "\\end{bmatrix} = 0\n",
    "$$\n",
    "\n",
    "$$\n",
    "\\lambda^2 +(\\alpha + \\beta-2) \\lambda + (1-\\alpha -\\beta) = 0\n",
    "$$\n",
    "\n",
    "Thus, $\\lambda_1 = 1$ and $\\lambda_2 = 1-\\alpha-\\beta$\n",
    "\n",
    "Eigenvectors are given by:\n",
    "\n",
    "$v_1^T = \\big( x_1\\ x_1 \\big)\\ \\forall\\ x_1 \\in R$\n",
    "\n",
    "and for $\\lambda_2$ , $v_2 = \\big( x_1\\ \\frac{-\\beta x_1}{\\alpha} \\big)$\n",
    "\n",
    "Now using Markov property: $P(X_n=1|X_0=0) = (P^n)_{01}$\n",
    "\n",
    "Now, \n",
    "\n",
    "$P^n = VD^nV^{-1}$\n",
    "\n",
    "where:\n",
    "$$\n",
    "V = \\begin{bmatrix}\n",
    "1 & 1\\\\\n",
    "1 & \\frac{-\\beta}{\\alpha}\n",
    "\\end{bmatrix}\n",
    "$$\n",
    "\n",
    "and \n",
    "\n",
    "$$\n",
    "D = \\begin{bmatrix}\n",
    "1 & 0 \\\\\n",
    "0 & (1-\\alpha-\\beta)\n",
    "\\end{bmatrix}\n",
    "$$\n",
    "\n",
    "$$\n",
    "V^{-1} = \\frac{-1}{\\frac{\\beta}{\\alpha}+1}\\begin{bmatrix}\n",
    "-\\frac{\\beta}{\\alpha} & -1 \\\\\n",
    "-1 & 1\n",
    "\\end{bmatrix}\n",
    "$$\n",
    "\n",
    "Thus,\n",
    "\n",
    "$$\n",
    "P^n = \\begin{bmatrix}\n",
    "1 & 1\\\\\n",
    "1 & \\frac{-\\beta}{\\alpha}\n",
    "\\end{bmatrix} \\times \\begin{bmatrix}\n",
    "1 & 0 \\\\\n",
    "0 & (1-\\alpha-\\beta)^n\n",
    "\\end{bmatrix} \\times \\frac{-1}{\\frac{\\beta}{\\alpha}+1}\\begin{bmatrix}\n",
    "-\\frac{\\beta}{\\alpha} & -1 \\\\\n",
    "-1 & 1\n",
    "\\end{bmatrix}\n",
    "$$\n",
    "\n",
    "$$\n",
    "P^n = \\frac{1}{\\alpha+\\beta} \\begin{bmatrix}\n",
    "\\beta + \\alpha(1-\\alpha-\\beta)^n & \\alpha-\\alpha(1-\\alpha-\\beta)^n\\\\\n",
    "\\beta - \\beta(1-\\alpha-\\beta)^n & \\alpha + \\beta(1-\\alpha-\\beta)^n\n",
    "\\end{bmatrix}\n",
    "$$\n",
    "\n",
    "## Part (c)\n",
    "\n",
    "When $\\alpha+\\beta=1$, the eigen values are $\\lambda_1=1$ and $\\lambda_2=0$ and hence\n",
    "\n",
    "$$\n",
    "P^n = \\begin{bmatrix}\n",
    "\\beta & \\alpha \\\\\n",
    "\\beta & \\alpha\n",
    "\\end{bmatrix}\n",
    "$$\n",
    "\n",
    "*Check:*\n",
    "\n",
    "\n",
    "Also consider the following identifiy: $P^{n+1}=PP^n$\n",
    "\n",
    "then:\n",
    "\n",
    "$$\n",
    "\\begin{bmatrix}\n",
    "p_{00}^{n+1} & p_{01}^{n+1}\\\\\n",
    "p_{10}^{n+1} & p_{11}^{n+1}\\\\\n",
    "\\end{bmatrix} = \\begin{bmatrix} \n",
    "p_{00}^n & p_{01}^n\\\\\n",
    "p_{10}^n & p_{11}^n\n",
    "\\end{bmatrix} \\times \\begin{bmatrix}\n",
    "1-\\alpha & \\alpha\\\\\n",
    "\\beta & 1-\\beta\n",
    "\\end{bmatrix}\n",
    "$$\n",
    "\n",
    "$\\implies$\n",
    "\n",
    "$$\n",
    "\\begin{align}\n",
    "p_{11}^{n+1} &= p_{10}^n(\\alpha) + p_{11}^n(1-\\beta)\\\\\n",
    " &= (1-p_{11}^n)(\\alpha) +(p_{11}^n)(1-\\beta)\\\\\n",
    " &= \\alpha + (1-\\alpha-\\beta)p_{11}^n\n",
    "\\end{align}\n",
    "$$\n",
    "\n",
    "Consider the recurrence:\n",
    "\n",
    "$$\n",
    "x_{n+1} = \\alpha+(1-\\alpha-\\beta)x_n\n",
    "$$\n",
    "\n",
    "Constant solution $x_n=x_{n+1}=x$ is given by: $x=\\frac{\\alpha}{\\alpha+\\beta}$\n",
    "\n",
    "Now let $y_n = x_n-x=x_n-\\frac{\\alpha}{\\alpha+\\beta}$ then,\n",
    "\n",
    "$y_{n+1} = (1-\\alpha-\\beta)y_n$ and hence $y_n=(1-\\alpha-\\beta)^n y_0$\n",
    "\n",
    "Thus,\n",
    "$$p_{11}^{n} = (1-\\alpha-\\beta)^np_{11}^0 +\\frac{\\alpha}{\\alpha+\\beta}$$\n",
    "\n",
    "Given $P_{00}=\\frac{\\beta}{\\alpha+\\beta}$ and $\\alpha+\\beta=1$ and hence:\n",
    "\n",
    "$p_{11}^n = \\frac{\\alpha}{\\alpha+\\beta} = \\alpha$\n",
    "\n",
    "and hence, $p_{10}^n = \\beta$\n",
    "\n",
    "Similary,\n",
    "\n",
    "$p_{00}^n = \\beta$ and $p_{01}^n = \\alpha$\n"
   ]
  },
  {
   "cell_type": "markdown",
   "metadata": {
    "collapsed": true
   },
   "source": [
    "## Problem 2\n",
    "\n",
    "$P(X_1=0) \\frac{\\beta}{\\alpha+\\beta}$ and hence $P(X_1=1) = \\frac{\\alpha}{\\alpha+\\beta}$\n",
    "\n",
    "$X=X_1X_2\\dots X_n$ and $Y=Y_1Y_2\\dots Y_n$ representes the reverse string $Y_k=X_{n+k-1}$\n",
    "\n",
    "\n",
    "### Part (a)\n",
    "\n",
    "Given string of digits: $a_1,a_2,a_3 \\dots a_n $ to find: $P(Y_1=a_1,Y_2=a_2,Y_3=a_3\\dots Y_n=a_n)$\n",
    "\n",
    "$$\n",
    "\\begin{align}\n",
    "P(Y_1=a_1,Y_2=a_2,Y_3=a_3\\dots Y_n=a_n) &= P(X_1=a_n,X_2=a_{n-1}, \\dots X_n=a_1) \\\\\n",
    "&= P(X_1=a_n)P(X_2=a_{n-1}|X_1=a_n)P(X_3=a_{n-2}|X_2=a_{n-1})\\dots P(X_n=a_1|X_{n-1}=a_2) \\\\\n",
    "&= P(X_1=a_n)(P_{a_n a_{n-1}})(P_{a_{n-1} a_{n-2}}) \\dots (P_{a_2 a_1})\n",
    "\\end{align}\n",
    "$$\n",
    "\n",
    "The problem asked about not using spectral decomposition, but I was not sure how spectral decomposition would have come in handy if the states $a_i$ are not specified explicitly.\n",
    "\n",
    "\n",
    "\n",
    "### Part (b)\n",
    "\n",
    "$$\n",
    "z=\\begin{cases}\n",
    "X & if \\theta = H\\\\\n",
    "Y & otherwise\n",
    "\\end{cases}\n",
    "$$\n",
    "\n",
    "Given function f such that, $f :\\{0,1\\}^n \\longrightarrow \\{H,T\\}$\n",
    "To show: $P(f(Z)=\\theta)=0.5$\n",
    "\n",
    "$P(\\theta=H) = P(\\theta=T) = 0.5$\n",
    "\n",
    "Given Z, guess $\\theta$: \n",
    "\n",
    "$P(\\theta=H|Z=X) = \\frac{P(\\theta=H, Z=X)}{P(Z=X)}$\n",
    "\n",
    "Z, has only two possible values: $H$ and $T$ and hence assuming the guess function is unbiased:\n",
    "\n",
    "$P(f(Z)=H) = P(f(Z)=T)=0.5$\n"
   ]
  },
  {
   "cell_type": "markdown",
   "metadata": {
    "collapsed": true
   },
   "source": [
    "## Problem 3\n",
    "\n",
    "$$\n",
    "\\tau = min\\{ n \\geq 0: X_n=\\dagger\\}\n",
    "$$\n",
    "\n",
    "$$\n",
    "E[\\tau] = E_a[E_a[\\tau|X_n=a]\\ where\\ a \\in \\{\\phi, \\alpha, \\beta, \\alpha+\\beta, pol, \\dagger\\}\n",
    "$$\n",
    "\n",
    "Let $S=\\{\\phi, \\alpha, \\beta, \\alpha+\\beta, pol, \\dagger\\}$\n",
    "\n",
    "\n",
    "Consider for $a\\neq \\dagger$:\n",
    "$$\n",
    "h(a) = E[\\tau|X_0=a] = \\sum_{s \\in S}P_{as} \\times (1) + P_{as}\\times E[\\tau|X_0=s) \n",
    "$$\n",
    "\n",
    "$\\implies$ \n",
    "\n",
    "$$\n",
    "h(a) = ((I-P_{-})^{-1})_a\n",
    "$$\n",
    "\n",
    "where $P_{-}$ represents the matrix with the row and column representng $X_i=\\dagger$ removed.\n",
    "\n",
    "\n"
   ]
  },
  {
   "cell_type": "code",
   "execution_count": 59,
   "metadata": {
    "collapsed": false
   },
   "outputs": [],
   "source": [
    "from __future__ import division\n",
    "import numpy as np\n",
    "k_a=0.2\n",
    "k_b=0.2\n",
    "k_p = 0.5\n",
    "P = np.array([[1-k_a-k_b,k_a,k_b,0,0,0],[k_a,1-k_a-k_b,0,k_b,0,0],[k_b,0,1-k_a-k_b,0,0],[0,k_b,k_a,1-k_a-k_b-k_p,k_p,0],[0,0,0,0,0,1],[0,0,0,1,0,0]])\n",
    "q = [[k_a-k_b,k_a,k_b,0,0],[k_a,k_a+k_b,0,k_b,0],[k_b,0,k_a+k_b,0,0],[0,k_b,k_a,k_a+k_b+k_p,k_p],[0,0,0,0,0]]\n",
    "qq = np.array(q)"
   ]
  },
  {
   "cell_type": "code",
   "execution_count": 60,
   "metadata": {
    "collapsed": false
   },
   "outputs": [],
   "source": [
    "iq = np.linalg.inv(np.eye(5)-qq)"
   ]
  },
  {
   "cell_type": "markdown",
   "metadata": {},
   "source": [
    "Define, $h(a) = E[\\tau|X_0=a]$ then $h(a)=\\sum_b p_{ab}(1+E[\\tau|x_0=b])$ $\\implies$ d"
   ]
  },
  {
   "cell_type": "code",
   "execution_count": 61,
   "metadata": {
    "collapsed": false
   },
   "outputs": [
    {
     "name": "stdout",
     "output_type": "stream",
     "text": [
      "1.66666666667\n"
     ]
    }
   ],
   "source": [
    "iq_phi = iq[0,0]\n",
    "print(iq_phi)"
   ]
  },
  {
   "cell_type": "code",
   "execution_count": 62,
   "metadata": {
    "collapsed": false
   },
   "outputs": [
    {
     "name": "stdout",
     "output_type": "stream",
     "text": [
      "7.77777777778\n"
     ]
    }
   ],
   "source": [
    "iq_alpha = iq[1,1]\n",
    "print(iq_alpha)"
   ]
  },
  {
   "cell_type": "code",
   "execution_count": 63,
   "metadata": {
    "collapsed": false
   },
   "outputs": [
    {
     "name": "stdout",
     "output_type": "stream",
     "text": [
      "2.22222222222\n"
     ]
    }
   ],
   "source": [
    "iq_beta = iq[2,2]\n",
    "print(iq_beta)"
   ]
  },
  {
   "cell_type": "code",
   "execution_count": 64,
   "metadata": {
    "collapsed": false
   },
   "outputs": [
    {
     "name": "stdout",
     "output_type": "stream",
     "text": [
      "43.3333333333\n"
     ]
    }
   ],
   "source": [
    "iq_alphabeta = iq[3,3]\n",
    "print(iq_alphabeta)"
   ]
  },
  {
   "cell_type": "code",
   "execution_count": 65,
   "metadata": {
    "collapsed": false
   },
   "outputs": [
    {
     "name": "stdout",
     "output_type": "stream",
     "text": [
      "1.0\n"
     ]
    }
   ],
   "source": [
    "iq_pol = iq[4,4]\n",
    "print(iq_pol)"
   ]
  },
  {
   "cell_type": "code",
   "execution_count": 66,
   "metadata": {
    "collapsed": false
   },
   "outputs": [
    {
     "name": "stdout",
     "output_type": "stream",
     "text": [
      "[ 0.16666667  0.16666667  0.16666667  0.16666667]\n"
     ]
    }
   ],
   "source": [
    "a=[[k_a+k_b,-k_a,-k_b,0],[k_a,-k_a-k_b,0,k_b],[k_b,0,-k_a-k_b,k_a],[1,1,1,3]]\n",
    "b=[0,0,0,1]\n",
    "x=np.linalg.solve(a,b)\n",
    "print(x)\n"
   ]
  },
  {
   "cell_type": "markdown",
   "metadata": {},
   "source": [
    "Stationary state is given by $\\pi = (0.1667, 0.1667, 0.1667, 0.1667, 0.1667, 0.1667)$ We solve only for $\\pi_i, \\pi_2, \\pi_3, \\pi_4$ as $\\pi_4=\\pi_5=\\pi_6$ and the mean number of visits per unit time to $\\dagger$ are $\\frac{1}{\\pi_6} = 6$"
   ]
  },
  {
   "cell_type": "markdown",
   "metadata": {},
   "source": [
    "## Part (c)\n",
    "\n",
    "\n",
    "Simulating the chain:\n",
    "\n",
    "General strategy: Generate a random number $\\longrightarrow$ Select a state $\\longrightarrow$ Jump to state $\\longrightarrow$ Repeat\n"
   ]
  },
  {
   "cell_type": "code",
   "execution_count": 67,
   "metadata": {
    "collapsed": true
   },
   "outputs": [],
   "source": [
    "## phi\n",
    "np.random.seed(1)\n",
    "a=np.random.uniform(high=1.4)\n"
   ]
  },
  {
   "cell_type": "code",
   "execution_count": 68,
   "metadata": {
    "collapsed": false
   },
   "outputs": [
    {
     "name": "stdout",
     "output_type": "stream",
     "text": [
      "0.583830806584\n",
      "{'phi': [0.6000000000000001, 0.8, 1.0, 1.0, 1.0, 1.0], 'ab': [0, 0.2, 0.4, 0.5000000000000001, 1.0, 1.0], 'd': [0, 0, 0, 1, 1, 1], 'pol': [0, 0, 0, 0, 0, 1], 'beta': [0.2, 0.2, 0.8, 0.8, 0.8], 'alpha': [0.2, 0.8, 0.8, 1.0, 1.0, 1.0]}\n"
     ]
    }
   ],
   "source": [
    "print(a)\n",
    "\n",
    "P = {}\n",
    "P['phi']= [1-k_a-k_b,k_a,k_b,0,0,0]\n",
    "P['alpha'] = [k_a,1-k_a-k_b,0,k_b,0,0]\n",
    "P['beta'] = [k_b,0,1-k_a-k_b,0,0]\n",
    "P['ab']= [0,k_b,k_a,1-k_a-k_b-k_p,k_p,0]\n",
    "P['pol']= [0,0,0,0,0,1]\n",
    "P['d']= [0,0,0,1,0,0]\n",
    "\n",
    "states = ['phi', 'alpha', 'beta', 'ab', 'pol', 'd']\n",
    "def accumulate(lis):\n",
    "    total = 0\n",
    "    for x in lis:\n",
    "        total += x\n",
    "        yield total\n",
    "\n",
    "C= {}\n",
    "for key,value in P.iteritems():\n",
    "    C[key] = list(accumulate(value))\n",
    "    \n",
    "print(C)"
   ]
  },
  {
   "cell_type": "code",
   "execution_count": 86,
   "metadata": {
    "collapsed": false
   },
   "outputs": [
    {
     "name": "stdout",
     "output_type": "stream",
     "text": [
      "2.9997\n"
     ]
    }
   ],
   "source": [
    "##For $h(\\phi)$\n",
    "x0='phi'\n",
    "x='phi'\n",
    "def h(x):\n",
    "    s=0\n",
    "    for i in range(1,10000):\n",
    "        a = np.random.uniform()\n",
    "        probs = P[x]\n",
    "        for i in range(0,len(probs)):\n",
    "            if i==0 and a<probs[0]:\n",
    "                ## No state change\n",
    "                continue\n",
    "            if i<len(probs)-1:\n",
    "                if int(probs[i])==1 and int(probs[i+1])==1:\n",
    "                    continue\n",
    "                if a>=probs[i] and a<probs[i+1]:\n",
    "                    x=states[i+1]\n",
    "                    \n",
    "            if a<=probs[i]:\n",
    "                x=states[i]\n",
    "            \n",
    "\n",
    "        index = states.index(x)+1\n",
    "        #print index\n",
    "        s+=index\n",
    "    return s/10000\n",
    "\n"
   ]
  },
  {
   "cell_type": "code",
   "execution_count": 90,
   "metadata": {
    "collapsed": false
   },
   "outputs": [
    {
     "name": "stdout",
     "output_type": "stream",
     "text": [
      "$h(\\phi)$: From calculation: 2.9987; From simulation: 1.66666666667\n"
     ]
    }
   ],
   "source": [
    "print(r'$h(\\phi)$: From calculation: {}; From simulation: {}'.format(h('phi'),iq_phi))\n"
   ]
  },
  {
   "cell_type": "code",
   "execution_count": 91,
   "metadata": {
    "collapsed": false
   },
   "outputs": [
    {
     "name": "stdout",
     "output_type": "stream",
     "text": [
      "$h(\\alpha)$: From calculation: 4.7572; From simulation: 7.77777777778\n"
     ]
    }
   ],
   "source": [
    "print(r'$h(\\alpha)$: From calculation: {}; From simulation: {}'.format(h('alpha'),iq_alpha))\n"
   ]
  },
  {
   "cell_type": "code",
   "execution_count": 92,
   "metadata": {
    "collapsed": false
   },
   "outputs": [
    {
     "name": "stdout",
     "output_type": "stream",
     "text": [
      "$h(\\beta)$: From calculation: 2.9997; From simulation: 2.22222222222\n"
     ]
    }
   ],
   "source": [
    "print(r'$h(\\beta)$: From calculation: {}; From simulation: {}'.format(h('beta'),iq_beta))\n"
   ]
  },
  {
   "cell_type": "code",
   "execution_count": 94,
   "metadata": {
    "collapsed": false
   },
   "outputs": [
    {
     "name": "stdout",
     "output_type": "stream",
     "text": [
      "$h(\\alpha+\\beta)$: From calculation: 4.7488; From simulation: 43.3333333333\n"
     ]
    }
   ],
   "source": [
    "print(r'$h(\\alpha+\\beta)$: From calculation: {}; From simulation: {}'.format(h('ab'),iq_alphabeta))\n"
   ]
  },
  {
   "cell_type": "code",
   "execution_count": 95,
   "metadata": {
    "collapsed": false
   },
   "outputs": [
    {
     "name": "stdout",
     "output_type": "stream",
     "text": [
      "$h(\\pol)$: From calculation: 4.7432; From simulation: 1.0\n"
     ]
    }
   ],
   "source": [
    "print(r'$h(\\pol)$: From calculation: {}; From simulation: {}'.format(h('pol'),iq_pol))\n"
   ]
  },
  {
   "cell_type": "code",
   "execution_count": null,
   "metadata": {
    "collapsed": true
   },
   "outputs": [],
   "source": []
  }
 ],
 "metadata": {
  "kernelspec": {
   "display_name": "Python 2",
   "language": "python",
   "name": "python2"
  },
  "language_info": {
   "codemirror_mode": {
    "name": "ipython",
    "version": 2
   },
   "file_extension": ".py",
   "mimetype": "text/x-python",
   "name": "python",
   "nbconvert_exporter": "python",
   "pygments_lexer": "ipython2",
   "version": "2.7.10"
  }
 },
 "nbformat": 4,
 "nbformat_minor": 0
}
