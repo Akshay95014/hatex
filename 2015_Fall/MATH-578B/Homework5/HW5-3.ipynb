{
 "cells": [
  {
   "cell_type": "code",
   "execution_count": 7,
   "metadata": {
    "collapsed": false
   },
   "outputs": [],
   "source": [
    "%matplotlib inline\n",
    "from __future__ import division\n",
    "import pandas as pd\n",
    "import matplotlib\n",
    "import itertools\n",
    "import numpy as np\n",
    "matplotlib.rcParams['figure.figsize'] = (16,12)\n",
    "N = 1000\n",
    "chrom_length = 3*(10**9)\n",
    "transposon_length = 3*1000\n",
    "mu = 0.05\n",
    "t_positions = []\n",
    "\n",
    "x_initial = np.random.random_integers(chrom_length-1)\n",
    "offspring_positions = []\n",
    "all_positions = []\n",
    "offspring_positions = []\n",
    "positions = []\n",
    "for i in range(N):\n",
    "    for position in positions:\n",
    "        temp_mu = np.random.uniform(0,1,1)[0]\n",
    "\n",
    "        if temp_mu <=0.05:\n",
    "            ## Tranpose\n",
    "            ## Ignore overlap with existing region\n",
    "            y,z = np.random.random_integers(chrom_length-1,size=2)\n",
    "            #t_positions.append([y,z])\n",
    "            temp_mu_meiosis = np.random.randint(3)\n",
    "            if temp_mu_meiosis==0:\n",
    "                ## Two mutations: y,y\n",
    "                offspring_positions.append([y,y])\n",
    "            elif temp_mu_meiosis==1:\n",
    "                ## Two mutations y,z\n",
    "                offspring_positions.append([y,z])\n",
    "            elif temp_mu_meiosis==2:\n",
    "                ## Two mutations z,z\n",
    "                offspring_positions.append([z,z])\n",
    "            elif temp_mu_meiosis==3:\n",
    "                ## No mutations!\n",
    "                pass\n",
    "\n",
    "        M_t =  poisson.rvs(mu_t, size=1)[0]\n",
    "        offspring_mutations.append(M_t)\n",
    "        ## Done with this generation\n",
    "        mutations = offspring_mutations\n",
    "        all_mutations.append(mutations)"
   ]
  },
  {
   "cell_type": "code",
   "execution_count": 8,
   "metadata": {
    "collapsed": false
   },
   "outputs": [
    {
     "data": {
      "text/plain": [
       "2181583399"
      ]
     },
     "execution_count": 8,
     "metadata": {},
     "output_type": "execute_result"
    }
   ],
   "source": [
    "for t in range(generations):\n",
    "        # of mutations in generation t\n",
    "        offspring_mutations = []\n",
    "        for mutation in mutations:\n",
    "            # an individual carrying n mutations leaves behind on average (1 − s)^n copies of each of her genes\n",
    "            if distribution == 'poisson':\n",
    "                mutated_copies = np.sum(poisson.rvs(1-s, size=mutation))\n",
    "            else:\n",
    "                p = (1-s)/2\n",
    "                mutated_copies = np.sum(binom.rvs(2, p, size=mutation))\n",
    "            offspring_mutations.append(mutated_copies)\n",
    "\n",
    "        M_t =  poisson.rvs(mu_t, size=1)[0]\n",
    "        offspring_mutations.append(M_t)\n",
    "        ## Done with this generation\n",
    "        mutations = offspring_mutations\n",
    "        all_mutations.append(mutations)"
   ]
  },
  {
   "cell_type": "markdown",
   "metadata": {},
   "source": [
    "$E[Z_{t+1}]=(1+\\$"
   ]
  },
  {
   "cell_type": "code",
   "execution_count": 14,
   "metadata": {
    "collapsed": false
   },
   "outputs": [
    {
     "data": {
      "text/plain": [
       "0"
      ]
     },
     "execution_count": 14,
     "metadata": {},
     "output_type": "execute_result"
    }
   ],
   "source": [
    "np.random.randint(1)"
   ]
  },
  {
   "cell_type": "markdown",
   "metadata": {},
   "source": [
    "## Part (B)\n",
    "\n",
    "Treating the total number of transposons $N(t)$ at any time $t$ to be a branching process, then $N(t+1) = \\sum_{i=1}^{N(t)} W_{t,i}$ Where $W_{t,i}$ is the number of locations of the $i^{th} transposon in the offspring.\n",
    "\n",
    "Now consider $E[N_t]$\n",
    "\n",
    "Claim: $E[N_t] = (1+\\mu)^t$\n",
    "\n",
    "Proof: $$\n",
    "\\begin{align*}\n",
    "E[N_t] = E[\\sum_{i=1}^{N(t-1)} W_{t,i}] &= E[E[\\sum_{i=1}^{n} W_{t,i}|N(t-1)=n]]\\\\ \n",
    "&= E[N(t-1)] \\times (1+\\mu)\\\\\n",
    "&= N\\mu(1+\\mu)^t\n",
    "\\end{align*}\n",
    "$$\n",
    "\n",
    "\n",
    "With probability of $\\mu$ the transposon undergoes becomes 2 from 1. and hence $W_{t,i}$, the number  of locations of the $i^{th}$ transposon in the offspring is a poisson random varaible with mean $1+\\mu$\n",
    "\n",
    "$W_k \\sim Poisson(1+\\mu)$\n",
    "\n",
    "Thus, $"
   ]
  },
  {
   "cell_type": "code",
   "execution_count": null,
   "metadata": {
    "collapsed": true
   },
   "outputs": [],
   "source": []
  }
 ],
 "metadata": {
  "kernelspec": {
   "display_name": "Python 2",
   "language": "python",
   "name": "python2"
  },
  "language_info": {
   "codemirror_mode": {
    "name": "ipython",
    "version": 2
   },
   "file_extension": ".py",
   "mimetype": "text/x-python",
   "name": "python",
   "nbconvert_exporter": "python",
   "pygments_lexer": "ipython2",
   "version": "2.7.6"
  }
 },
 "nbformat": 4,
 "nbformat_minor": 0
}
