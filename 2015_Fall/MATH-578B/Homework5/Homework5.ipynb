{
 "cells": [
  {
   "cell_type": "markdown",
   "metadata": {},
   "source": [
    "Given: $N \\sim Poisson(\\lambda)$ and $X_1, \\dots, X_n \\sim \\vec{\\pi}$\n",
    "\n",
    "$X_k(t)$ is continous time MC with $X_k(0) = X_k$\n",
    "$N_t(a) = $\\{k:X_k(t) = a\\}$\n",
    "\n",
    "i.e. $N_t$ is the number of visits to state $a$ in time $t$.\n",
    "\n",
    "$\\sum_a\\pi(a)Q_{ab}=0$ for each $b$ with the constraint $\\sum_a\\pi(a)=1$\n",
    "\n",
    "\n",
    "$\\sum_a\\pi(a)Q_{ab}=0$ $\\implies$ $\\vec{\\pi}^TQ=0$ $\\implies$ \n",
    "\n",
    "$$\n",
    "\\begin{align*}\n",
    "\\vec{\\pi}^TQ&=0\\\\\n",
    "\\Longleftrightarrow \\vec{\\pi}^TQ^n&=0\\ \\  \\forall n \\geq 1\\\\ \n",
    "\\Longleftrightarrow \\sum_{n\\geq 1}\\vec{\\pi}\\frac{t^n}{n!}Q^n &=0 \\ \\  \\forall t \\geq 0\\\\\n",
    "\\Longleftrightarrow \\vec{\\pi}\\sum_{n\\geq 0}\\frac{t^n}{n!}Q^n &=\\vec{\\pi}\\\\\n",
    "\\Longleftrightarrow \\vec{\\pi}P &=\\vec{\\pi}\\\\\n",
    "\\Longleftrightarrow \\vec{\\pi}\\  \\text{is a stationary distribution}\n",
    "\\end{align*}\n",
    "$$\n",
    "\n",
    "Now, $P(X_k(t)=a)=\\pi(a)$ and $N_t(a) = \\{k:X_k(t) = a\\}$ $\\implies$ $N_t(a)|N \\sim Binom(N, \\pi(a))$ and \n",
    "$N \\sim Poisson(\\lambda)$ then $N_t \\sim Poisson(\\lambda \\pi)$ [We did this in class TODO]"
   ]
  },
  {
   "cell_type": "markdown",
   "metadata": {
    "collapsed": true
   },
   "source": [
    "## Problem 2"
   ]
  },
  {
   "cell_type": "code",
   "execution_count": 1,
   "metadata": {
    "collapsed": false
   },
   "outputs": [],
   "source": [
    "%matplotlib inline\n",
    "from __future__ import division\n",
    "import pandas as pd\n",
    "import matplotlib\n",
    "import itertools\n",
    "matplotlib.rcParams['figure.figsize'] = (16,12)\n",
    "import matplotlib.pyplot as plt\n",
    "import numpy as np\n",
    "np.random.seed(1)\n",
    "\n",
    "def propose(S):\n",
    "    r = np.random.choice(len(S), 2)\n",
    "    rs = np.sort(r)\n",
    "    j,k=rs[0],rs[1]\n",
    "    y=np.copy(S)\n",
    "    y[j:k+1] = y[j:k+1][::-1]\n",
    "    return y\n",
    "\n",
    "def count_cycles(S):\n",
    "    sample_length = len(S)\n",
    "    n_cycles = 0\n",
    "    index = 0\n",
    "    length_travelled = 0\n",
    "    visited = []\n",
    "    while length_travelled < sample_length:\n",
    "        if S[index] == index and index < sample_length :\n",
    "            index+=1\n",
    "            n_cycles+=1\n",
    "            length_travelled+=1\n",
    "        else:\n",
    "            visited.append(index)\n",
    "            index = S[index]\n",
    "            length_travelled+=1\n",
    "            if index not in visited:\n",
    "                n_cycles+=1\n",
    "    return n_cycles"
   ]
  },
  {
   "cell_type": "code",
   "execution_count": 2,
   "metadata": {
    "collapsed": true
   },
   "outputs": [],
   "source": [
    "N = [2,3,4, 100]\n",
    "alpha = 3"
   ]
  },
  {
   "cell_type": "code",
   "execution_count": 3,
   "metadata": {
    "collapsed": false
   },
   "outputs": [],
   "source": [
    "assert count_cycles([0,1]) == 2\n",
    "assert count_cycles([0,2,1]) == 2\n",
    "assert count_cycles([1,0]) == 1"
   ]
  },
  {
   "cell_type": "code",
   "execution_count": 4,
   "metadata": {
    "collapsed": false
   },
   "outputs": [],
   "source": [
    "N_iterations = 1000\n",
    "\n",
    "def theoretical(S, alpha, denom):\n",
    "    n_cycles = count_cycles(S)\n",
    "    return n_cycles**alpha/denom\n",
    "\n",
    "\n",
    "def run(n):\n",
    "    oldS = np.arange(n)\n",
    "    old_n_cycles = count_cycles(oldS)\n",
    "    count_dict = {}\n",
    "    denom = sum([count_cycles(x)**alpha  for x in itertools.permutations(range(n))])\n",
    "    for i in range(N_iterations):\n",
    "        proposedS = propose(oldS)\n",
    "        new_n_cycles = count_cycles(proposedS)\n",
    "        pi_ab = new_n_cycles**alpha/(old_n_cycles**alpha)\n",
    "        q = min(1,pi_ab)\n",
    "        if q>= np.random.uniform():\n",
    "            oldS = proposedS\n",
    "            old_n_cycles = new_n_cycles\n",
    "        tkey = ','.join([str(x+1) for x in oldS.tolist()])\n",
    "        key=\"[\"+tkey+\"]\"\n",
    "        if key not in count_dict:\n",
    "            count_dict[key] = [0,0,0]\n",
    "            count_dict[key][1] = theoretical(oldS,alpha,denom)\n",
    "            count_dict[key][2] = old_n_cycles\n",
    "        count_dict[key][0]+=1\n",
    "    df = pd.DataFrame(count_dict)\n",
    "    df=df.transpose()\n",
    "    df.columns=[r'Simulated $\\pi(s)$', 'Theoretical', 'c(s)']\n",
    "    df[r'Simulated $\\pi(s)$'] = df[r'Simulated $\\pi(s)$']/N_iterations\n",
    "    df['Percentage Error'] = 100*(df[r'Simulated $\\pi(s)$']/df['Theoretical']-1)\n",
    "    df.index.name='State'\n",
    "    return df\n"
   ]
  },
  {
   "cell_type": "markdown",
   "metadata": {
    "collapsed": true
   },
   "source": [
    "## n=2"
   ]
  },
  {
   "cell_type": "code",
   "execution_count": 5,
   "metadata": {
    "collapsed": false
   },
   "outputs": [
    {
     "data": {
      "text/html": [
       "<div style=\"max-height:1000px;max-width:1500px;overflow:auto;\">\n",
       "<table border=\"1\" class=\"dataframe\">\n",
       "  <thead>\n",
       "    <tr style=\"text-align: right;\">\n",
       "      <th></th>\n",
       "      <th>Simulated $\\pi(s)$</th>\n",
       "      <th>Theoretical</th>\n",
       "      <th>c(s)</th>\n",
       "      <th>Percentage Error</th>\n",
       "    </tr>\n",
       "    <tr>\n",
       "      <th>State</th>\n",
       "      <th></th>\n",
       "      <th></th>\n",
       "      <th></th>\n",
       "      <th></th>\n",
       "    </tr>\n",
       "  </thead>\n",
       "  <tbody>\n",
       "    <tr>\n",
       "      <th>[1,2]</th>\n",
       "      <td> 0.91</td>\n",
       "      <td> 0.888889</td>\n",
       "      <td> 2</td>\n",
       "      <td>  2.375</td>\n",
       "    </tr>\n",
       "    <tr>\n",
       "      <th>[2,1]</th>\n",
       "      <td> 0.09</td>\n",
       "      <td> 0.111111</td>\n",
       "      <td> 1</td>\n",
       "      <td>-19.000</td>\n",
       "    </tr>\n",
       "  </tbody>\n",
       "</table>\n",
       "</div>"
      ],
      "text/plain": [
       "       Simulated $\\pi(s)$  Theoretical  c(s)  Percentage Error\n",
       "State                                                         \n",
       "[1,2]                0.91     0.888889     2             2.375\n",
       "[2,1]                0.09     0.111111     1           -19.000"
      ]
     },
     "execution_count": 5,
     "metadata": {},
     "output_type": "execute_result"
    }
   ],
   "source": [
    "df  = run(N[0])\n",
    "df"
   ]
  },
  {
   "cell_type": "markdown",
   "metadata": {},
   "source": [
    "## n=3\n"
   ]
  },
  {
   "cell_type": "code",
   "execution_count": 6,
   "metadata": {
    "collapsed": false
   },
   "outputs": [
    {
     "data": {
      "text/html": [
       "<div style=\"max-height:1000px;max-width:1500px;overflow:auto;\">\n",
       "<table border=\"1\" class=\"dataframe\">\n",
       "  <thead>\n",
       "    <tr style=\"text-align: right;\">\n",
       "      <th></th>\n",
       "      <th>Simulated $\\pi(s)$</th>\n",
       "      <th>Theoretical</th>\n",
       "      <th>c(s)</th>\n",
       "      <th>Percentage Error</th>\n",
       "    </tr>\n",
       "    <tr>\n",
       "      <th>State</th>\n",
       "      <th></th>\n",
       "      <th></th>\n",
       "      <th></th>\n",
       "      <th></th>\n",
       "    </tr>\n",
       "  </thead>\n",
       "  <tbody>\n",
       "    <tr>\n",
       "      <th>[1,2,3]</th>\n",
       "      <td> 0.579</td>\n",
       "      <td> 0.509434</td>\n",
       "      <td> 3</td>\n",
       "      <td> 13.655556</td>\n",
       "    </tr>\n",
       "    <tr>\n",
       "      <th>[1,3,2]</th>\n",
       "      <td> 0.154</td>\n",
       "      <td> 0.150943</td>\n",
       "      <td> 2</td>\n",
       "      <td>  2.025000</td>\n",
       "    </tr>\n",
       "    <tr>\n",
       "      <th>[2,1,3]</th>\n",
       "      <td> 0.009</td>\n",
       "      <td> 0.018868</td>\n",
       "      <td> 1</td>\n",
       "      <td>-52.300000</td>\n",
       "    </tr>\n",
       "    <tr>\n",
       "      <th>[2,3,1]</th>\n",
       "      <td> 0.132</td>\n",
       "      <td> 0.150943</td>\n",
       "      <td> 2</td>\n",
       "      <td>-12.550000</td>\n",
       "    </tr>\n",
       "    <tr>\n",
       "      <th>[3,1,2]</th>\n",
       "      <td> 0.106</td>\n",
       "      <td> 0.150943</td>\n",
       "      <td> 2</td>\n",
       "      <td>-29.775000</td>\n",
       "    </tr>\n",
       "    <tr>\n",
       "      <th>[3,2,1]</th>\n",
       "      <td> 0.020</td>\n",
       "      <td> 0.018868</td>\n",
       "      <td> 1</td>\n",
       "      <td>  6.000000</td>\n",
       "    </tr>\n",
       "  </tbody>\n",
       "</table>\n",
       "</div>"
      ],
      "text/plain": [
       "         Simulated $\\pi(s)$  Theoretical  c(s)  Percentage Error\n",
       "State                                                           \n",
       "[1,2,3]               0.579     0.509434     3         13.655556\n",
       "[1,3,2]               0.154     0.150943     2          2.025000\n",
       "[2,1,3]               0.009     0.018868     1        -52.300000\n",
       "[2,3,1]               0.132     0.150943     2        -12.550000\n",
       "[3,1,2]               0.106     0.150943     2        -29.775000\n",
       "[3,2,1]               0.020     0.018868     1          6.000000"
      ]
     },
     "execution_count": 6,
     "metadata": {},
     "output_type": "execute_result"
    }
   ],
   "source": [
    "df = run(N[1])\n",
    "df"
   ]
  },
  {
   "cell_type": "markdown",
   "metadata": {},
   "source": [
    "## n=4"
   ]
  },
  {
   "cell_type": "code",
   "execution_count": 7,
   "metadata": {
    "collapsed": false
   },
   "outputs": [
    {
     "data": {
      "text/html": [
       "<div style=\"max-height:1000px;max-width:1500px;overflow:auto;\">\n",
       "<table border=\"1\" class=\"dataframe\">\n",
       "  <thead>\n",
       "    <tr style=\"text-align: right;\">\n",
       "      <th></th>\n",
       "      <th>Simulated $\\pi(s)$</th>\n",
       "      <th>Theoretical</th>\n",
       "      <th>c(s)</th>\n",
       "      <th>Percentage Error</th>\n",
       "    </tr>\n",
       "    <tr>\n",
       "      <th>State</th>\n",
       "      <th></th>\n",
       "      <th></th>\n",
       "      <th></th>\n",
       "      <th></th>\n",
       "    </tr>\n",
       "  </thead>\n",
       "  <tbody>\n",
       "    <tr>\n",
       "      <th>[1,2,3,4]</th>\n",
       "      <td> 0.117</td>\n",
       "      <td> 0.169761</td>\n",
       "      <td> 4</td>\n",
       "      <td> -31.079687</td>\n",
       "    </tr>\n",
       "    <tr>\n",
       "      <th>[1,2,4,3]</th>\n",
       "      <td> 0.059</td>\n",
       "      <td> 0.071618</td>\n",
       "      <td> 3</td>\n",
       "      <td> -17.618519</td>\n",
       "    </tr>\n",
       "    <tr>\n",
       "      <th>[1,3,2,4]</th>\n",
       "      <td> 0.022</td>\n",
       "      <td> 0.021220</td>\n",
       "      <td> 2</td>\n",
       "      <td>   3.675000</td>\n",
       "    </tr>\n",
       "    <tr>\n",
       "      <th>[1,3,4,2]</th>\n",
       "      <td> 0.060</td>\n",
       "      <td> 0.071618</td>\n",
       "      <td> 3</td>\n",
       "      <td> -16.222222</td>\n",
       "    </tr>\n",
       "    <tr>\n",
       "      <th>[1,4,2,3]</th>\n",
       "      <td> 0.085</td>\n",
       "      <td> 0.071618</td>\n",
       "      <td> 3</td>\n",
       "      <td>  18.685185</td>\n",
       "    </tr>\n",
       "    <tr>\n",
       "      <th>[1,4,3,2]</th>\n",
       "      <td> 0.013</td>\n",
       "      <td> 0.021220</td>\n",
       "      <td> 2</td>\n",
       "      <td> -38.737500</td>\n",
       "    </tr>\n",
       "    <tr>\n",
       "      <th>[2,1,3,4]</th>\n",
       "      <td> 0.002</td>\n",
       "      <td> 0.002653</td>\n",
       "      <td> 1</td>\n",
       "      <td> -24.600000</td>\n",
       "    </tr>\n",
       "    <tr>\n",
       "      <th>[2,1,4,3]</th>\n",
       "      <td> 0.005</td>\n",
       "      <td> 0.002653</td>\n",
       "      <td> 1</td>\n",
       "      <td>  88.500000</td>\n",
       "    </tr>\n",
       "    <tr>\n",
       "      <th>[2,3,1,4]</th>\n",
       "      <td> 0.013</td>\n",
       "      <td> 0.021220</td>\n",
       "      <td> 2</td>\n",
       "      <td> -38.737500</td>\n",
       "    </tr>\n",
       "    <tr>\n",
       "      <th>[2,3,4,1]</th>\n",
       "      <td> 0.077</td>\n",
       "      <td> 0.071618</td>\n",
       "      <td> 3</td>\n",
       "      <td>   7.514815</td>\n",
       "    </tr>\n",
       "    <tr>\n",
       "      <th>[2,4,1,3]</th>\n",
       "      <td> 0.047</td>\n",
       "      <td> 0.071618</td>\n",
       "      <td> 3</td>\n",
       "      <td> -34.374074</td>\n",
       "    </tr>\n",
       "    <tr>\n",
       "      <th>[2,4,3,1]</th>\n",
       "      <td> 0.022</td>\n",
       "      <td> 0.021220</td>\n",
       "      <td> 2</td>\n",
       "      <td>   3.675000</td>\n",
       "    </tr>\n",
       "    <tr>\n",
       "      <th>[3,1,2,4]</th>\n",
       "      <td> 0.026</td>\n",
       "      <td> 0.021220</td>\n",
       "      <td> 2</td>\n",
       "      <td>  22.525000</td>\n",
       "    </tr>\n",
       "    <tr>\n",
       "      <th>[3,1,4,2]</th>\n",
       "      <td> 0.080</td>\n",
       "      <td> 0.071618</td>\n",
       "      <td> 3</td>\n",
       "      <td>  11.703704</td>\n",
       "    </tr>\n",
       "    <tr>\n",
       "      <th>[3,2,1,4]</th>\n",
       "      <td> 0.007</td>\n",
       "      <td> 0.002653</td>\n",
       "      <td> 1</td>\n",
       "      <td> 163.900000</td>\n",
       "    </tr>\n",
       "    <tr>\n",
       "      <th>[3,2,4,1]</th>\n",
       "      <td> 0.033</td>\n",
       "      <td> 0.021220</td>\n",
       "      <td> 2</td>\n",
       "      <td>  55.512500</td>\n",
       "    </tr>\n",
       "    <tr>\n",
       "      <th>[3,4,1,2]</th>\n",
       "      <td> 0.010</td>\n",
       "      <td> 0.002653</td>\n",
       "      <td> 1</td>\n",
       "      <td> 277.000000</td>\n",
       "    </tr>\n",
       "    <tr>\n",
       "      <th>[3,4,2,1]</th>\n",
       "      <td> 0.087</td>\n",
       "      <td> 0.071618</td>\n",
       "      <td> 3</td>\n",
       "      <td>  21.477778</td>\n",
       "    </tr>\n",
       "    <tr>\n",
       "      <th>[4,1,2,3]</th>\n",
       "      <td> 0.097</td>\n",
       "      <td> 0.071618</td>\n",
       "      <td> 3</td>\n",
       "      <td>  35.440741</td>\n",
       "    </tr>\n",
       "    <tr>\n",
       "      <th>[4,1,3,2]</th>\n",
       "      <td> 0.023</td>\n",
       "      <td> 0.021220</td>\n",
       "      <td> 2</td>\n",
       "      <td>   8.387500</td>\n",
       "    </tr>\n",
       "    <tr>\n",
       "      <th>[4,2,1,3]</th>\n",
       "      <td> 0.019</td>\n",
       "      <td> 0.021220</td>\n",
       "      <td> 2</td>\n",
       "      <td> -10.462500</td>\n",
       "    </tr>\n",
       "    <tr>\n",
       "      <th>[4,2,3,1]</th>\n",
       "      <td> 0.003</td>\n",
       "      <td> 0.002653</td>\n",
       "      <td> 1</td>\n",
       "      <td>  13.100000</td>\n",
       "    </tr>\n",
       "    <tr>\n",
       "      <th>[4,3,1,2]</th>\n",
       "      <td> 0.090</td>\n",
       "      <td> 0.071618</td>\n",
       "      <td> 3</td>\n",
       "      <td>  25.666667</td>\n",
       "    </tr>\n",
       "    <tr>\n",
       "      <th>[4,3,2,1]</th>\n",
       "      <td> 0.003</td>\n",
       "      <td> 0.002653</td>\n",
       "      <td> 1</td>\n",
       "      <td>  13.100000</td>\n",
       "    </tr>\n",
       "  </tbody>\n",
       "</table>\n",
       "</div>"
      ],
      "text/plain": [
       "           Simulated $\\pi(s)$  Theoretical  c(s)  Percentage Error\n",
       "State                                                             \n",
       "[1,2,3,4]               0.117     0.169761     4        -31.079687\n",
       "[1,2,4,3]               0.059     0.071618     3        -17.618519\n",
       "[1,3,2,4]               0.022     0.021220     2          3.675000\n",
       "[1,3,4,2]               0.060     0.071618     3        -16.222222\n",
       "[1,4,2,3]               0.085     0.071618     3         18.685185\n",
       "[1,4,3,2]               0.013     0.021220     2        -38.737500\n",
       "[2,1,3,4]               0.002     0.002653     1        -24.600000\n",
       "[2,1,4,3]               0.005     0.002653     1         88.500000\n",
       "[2,3,1,4]               0.013     0.021220     2        -38.737500\n",
       "[2,3,4,1]               0.077     0.071618     3          7.514815\n",
       "[2,4,1,3]               0.047     0.071618     3        -34.374074\n",
       "[2,4,3,1]               0.022     0.021220     2          3.675000\n",
       "[3,1,2,4]               0.026     0.021220     2         22.525000\n",
       "[3,1,4,2]               0.080     0.071618     3         11.703704\n",
       "[3,2,1,4]               0.007     0.002653     1        163.900000\n",
       "[3,2,4,1]               0.033     0.021220     2         55.512500\n",
       "[3,4,1,2]               0.010     0.002653     1        277.000000\n",
       "[3,4,2,1]               0.087     0.071618     3         21.477778\n",
       "[4,1,2,3]               0.097     0.071618     3         35.440741\n",
       "[4,1,3,2]               0.023     0.021220     2          8.387500\n",
       "[4,2,1,3]               0.019     0.021220     2        -10.462500\n",
       "[4,2,3,1]               0.003     0.002653     1         13.100000\n",
       "[4,3,1,2]               0.090     0.071618     3         25.666667\n",
       "[4,3,2,1]               0.003     0.002653     1         13.100000"
      ]
     },
     "execution_count": 7,
     "metadata": {},
     "output_type": "execute_result"
    }
   ],
   "source": [
    "count_dict = run(N[2])\n",
    "count_dict"
   ]
  },
  {
   "cell_type": "markdown",
   "metadata": {},
   "source": [
    "## N=100"
   ]
  },
  {
   "cell_type": "code",
   "execution_count": null,
   "metadata": {
    "collapsed": false
   },
   "outputs": [],
   "source": [
    "df  = run(N[3])\n",
    "#df\n",
    "expectation = sum(df[r'Simulated $\\pi(s)$']*df['c(s)'])\n",
    "expectation2 = sum(df[r'Simulated $\\pi(s)$']*df['c(s)']*df['c(s)'])\n"
   ]
  },
  {
   "cell_type": "code",
   "execution_count": null,
   "metadata": {
    "collapsed": true
   },
   "outputs": [],
   "source": [
    "print expectation, expectation2"
   ]
  },
  {
   "cell_type": "code",
   "execution_count": null,
   "metadata": {
    "collapsed": true
   },
   "outputs": [],
   "source": [
    "print np.mean(df['c(s)'])"
   ]
  },
  {
   "cell_type": "markdown",
   "metadata": {},
   "source": [
    "$\\sum_{s \\in S_a}\\pi(s)c(s)=E[c(s)]$\n",
    "\n",
    "and similarly, \n",
    "\n",
    "$\\sum_{s \\in S_a}\\pi(s)c^2(s)=E[c^2(s)]=Var(c(s))+E^2[c(s)]$"
   ]
  },
  {
   "cell_type": "code",
   "execution_count": null,
   "metadata": {
    "collapsed": true
   },
   "outputs": [],
   "source": [
    "cycles = df['c(s)']\n",
    "plt.hist(cycles, normed=True)"
   ]
  },
  {
   "cell_type": "markdown",
   "metadata": {},
   "source": [
    "## Problem 3"
   ]
  },
  {
   "cell_type": "code",
   "execution_count": null,
   "metadata": {
    "collapsed": true
   },
   "outputs": [],
   "source": [
    "N = 1000\n",
    "chrom_length = 3*(10**9)\n",
    "transposon_length = 3*1000\n",
    "mu = 0.05\n",
    "t_positions = []\n",
    "\n",
    "x_initial = np.random.uniform(0,chrom_length,size=1)\n",
    "for i in range(N):\n",
    "    temp_mu = np.random.uniform(0,1,1)\n",
    "    if temp_mu <=0.05:\n",
    "        ## Tranpose\n",
    "        ## Ignore overlap with existing region\n",
    "        y,z = np.random.uniform(0, chrom_length,size=2)\n",
    "        "
   ]
  },
  {
   "cell_type": "code",
   "execution_count": null,
   "metadata": {
    "collapsed": true
   },
   "outputs": [],
   "source": []
  },
  {
   "cell_type": "code",
   "execution_count": null,
   "metadata": {
    "collapsed": true
   },
   "outputs": [],
   "source": []
  },
  {
   "cell_type": "code",
   "execution_count": null,
   "metadata": {
    "collapsed": true
   },
   "outputs": [],
   "source": []
  }
 ],
 "metadata": {
  "kernelspec": {
   "display_name": "Python 2",
   "language": "python",
   "name": "python2"
  },
  "language_info": {
   "codemirror_mode": {
    "name": "ipython",
    "version": 2
   },
   "file_extension": ".py",
   "mimetype": "text/x-python",
   "name": "python",
   "nbconvert_exporter": "python",
   "pygments_lexer": "ipython2",
   "version": "2.7.6"
  }
 },
 "nbformat": 4,
 "nbformat_minor": 0
}
