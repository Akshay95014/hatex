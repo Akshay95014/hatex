{
 "cells": [
  {
   "cell_type": "markdown",
   "metadata": {},
   "source": [
    "Given: $N \\sim Poisson(\\lambda)$ and $X_1, \\dots, X_n \\sim \\vec{\\pi}$\n",
    "\n",
    "$X_k(t)$ is continous time MC with $X_k(0) = X_k$\n",
    "$N_t(a) = $\\{k:X_k(t) = a\\}$\n",
    "\n",
    "i.e. $N_t$ is the number of visits to state $a$ in time $t$.\n",
    "\n",
    "$\\sum_a\\pi(a)Q_{ab}=0$ for each $b$ with the constraint $\\sum_a\\pi(a)=1$\n",
    "\n",
    "\n",
    "$\\sum_a\\pi(a)Q_{ab}=0$ $\\implies$ $\\vec{\\pi}^TQ=0$ $\\implies$ \n",
    "\n",
    "$$\n",
    "\\begin{align*}\n",
    "\\vec{\\pi}^TQ&=0\\\\\n",
    "\\Longleftrightarrow \\vec{\\pi}^TQ^n&=0\\ \\  \\forall n \\geq 1\\\\ \n",
    "\\Longleftrightarrow \\sum_{n\\geq 1}\\vec{\\pi}\\frac{t^n}{n!}Q^n &=0 \\ \\  \\forall t \\geq 0\\\\\n",
    "\\Longleftrightarrow \\vec{\\pi}\\sum_{n\\geq 0}\\frac{t^n}{n!}Q^n &=\\vec{\\pi}\\\\\n",
    "\\Longleftrightarrow \\vec{\\pi}P &=\\vec{\\pi}\\\\\n",
    "\\Longleftrightarrow \\vec{\\pi}\\  \\text{is a stationary distribution}\n",
    "\\end{align*}\n",
    "$$\n",
    "\n",
    "Now, $P(X_k(t)=a)=\\pi(a)$ and $N_t(a) = \\{k:X_k(t) = a\\}$ $\\implies$ $N_t(a)|N \\sim Binom(N, \\pi(a))$ and \n",
    "$N \\sim Poisson(\\lambda)$ then $N_t \\sim Poisson(\\lambda \\pi)$ [We did this in class TODO]"
   ]
  },
  {
   "cell_type": "markdown",
   "metadata": {
    "collapsed": true
   },
   "source": [
    "## Problem 2"
   ]
  },
  {
   "cell_type": "code",
   "execution_count": 1,
   "metadata": {
    "collapsed": false
   },
   "outputs": [],
   "source": [
    "%matplotlib inline\n",
    "from __future__ import division\n",
    "import pandas as pd\n",
    "import matplotlib\n",
    "import itertools\n",
    "matplotlib.rcParams['figure.figsize'] = (16,12)\n",
    "import matplotlib.pyplot as plt\n",
    "import numpy as np\n",
    "np.random.seed(1)\n",
    "\n",
    "def propose(S):\n",
    "    r = np.random.choice(len(S), 2)\n",
    "    rs = np.sort(r)\n",
    "    j,k=rs[0],rs[1]\n",
    "    y=np.copy(S)\n",
    "    y[j:k+1] = y[j:k+1][::-1]\n",
    "    return y\n",
    "\n",
    "def count_cycles(S):\n",
    "    sample_length = len(S)\n",
    "    n_cycles = 0\n",
    "    index = 0\n",
    "    length_travelled = 0\n",
    "    visited = []\n",
    "    while length_travelled < sample_length:\n",
    "        if S[index] == index and index < sample_length :\n",
    "            index+=1\n",
    "            n_cycles+=1\n",
    "            length_travelled+=1\n",
    "        else:\n",
    "            visited.append(index)\n",
    "            index = S[index]\n",
    "            length_travelled+=1\n",
    "            if index not in visited:\n",
    "                n_cycles+=1\n",
    "    return n_cycles"
   ]
  },
  {
   "cell_type": "code",
   "execution_count": 2,
   "metadata": {
    "collapsed": true
   },
   "outputs": [],
   "source": [
    "N = [2,3,4, 100]\n",
    "alpha = 3"
   ]
  },
  {
   "cell_type": "code",
   "execution_count": 3,
   "metadata": {
    "collapsed": false
   },
   "outputs": [],
   "source": [
    "assert count_cycles([0,1]) == 2\n",
    "assert count_cycles([0,2,1]) == 2\n",
    "assert count_cycles([1,0]) == 1"
   ]
  },
  {
   "cell_type": "code",
   "execution_count": 11,
   "metadata": {
    "collapsed": false
   },
   "outputs": [],
   "source": [
    "N_iterations = 10000\n",
    "\n",
    "def theoretical(S, alpha):\n",
    "    n_cycles = count_cycles(S)\n",
    "    return n_cycles**alpha/sum([count_cycles(x)**alpha  for x in itertools.permutations(S)])\n",
    "\n",
    "\n",
    "def run(n):\n",
    "    oldS = np.arange(n)\n",
    "    old_n_cycles = count_cycles(oldS)\n",
    "    count_dict = {}\n",
    "    for i in range(N_iterations):\n",
    "        proposedS = propose(oldS)\n",
    "        new_n_cycles = count_cycles(proposedS)\n",
    "        pi_ab = new_n_cycles**alpha/(old_n_cycles**alpha)\n",
    "        q = min(1,pi_ab)\n",
    "        if q>= np.random.uniform():\n",
    "            oldS = proposedS\n",
    "            old_n_cycles = new_n_cycles\n",
    "        tkey = ','.join([str(x+1) for x in oldS.tolist()])\n",
    "        key=\"[\"+tkey+\"]\"\n",
    "        if key not in count_dict:\n",
    "            count_dict[key] = [0,0,0]\n",
    "            count_dict[key][1] = theoretical(oldS,alpha)\n",
    "            count_dict[key][2] = old_n_cycles\n",
    "        count_dict[key][0]+=1\n",
    "    df = pd.DataFrame(count_dict)\n",
    "    df=df.transpose()\n",
    "    df.columns=[r'Simulated $\\pi(s)$', 'Theoretical', 'c(s)']\n",
    "    df[r'Simulated $\\pi(s)$'] = df[r'Simulated $\\pi(s)$']/N_iterations\n",
    "    df['Percentage Error'] = 100*(df[r'Simulated $\\pi(s)$']/df['Theoretical']-1)\n",
    "    df.index.name='State'\n",
    "    return df\n"
   ]
  },
  {
   "cell_type": "markdown",
   "metadata": {
    "collapsed": true
   },
   "source": [
    "## n=2"
   ]
  },
  {
   "cell_type": "code",
   "execution_count": 12,
   "metadata": {
    "collapsed": false
   },
   "outputs": [
    {
     "data": {
      "text/html": [
       "<div style=\"max-height:1000px;max-width:1500px;overflow:auto;\">\n",
       "<table border=\"1\" class=\"dataframe\">\n",
       "  <thead>\n",
       "    <tr style=\"text-align: right;\">\n",
       "      <th></th>\n",
       "      <th>Simulated $\\pi(s)$</th>\n",
       "      <th>Theoretical</th>\n",
       "      <th>c(s)</th>\n",
       "      <th>Percentage Error</th>\n",
       "    </tr>\n",
       "    <tr>\n",
       "      <th>State</th>\n",
       "      <th></th>\n",
       "      <th></th>\n",
       "      <th></th>\n",
       "      <th></th>\n",
       "    </tr>\n",
       "  </thead>\n",
       "  <tbody>\n",
       "    <tr>\n",
       "      <th>[1,2]</th>\n",
       "      <td> 0.8894</td>\n",
       "      <td> 0.888889</td>\n",
       "      <td> 2</td>\n",
       "      <td> 0.0575</td>\n",
       "    </tr>\n",
       "    <tr>\n",
       "      <th>[2,1]</th>\n",
       "      <td> 0.1106</td>\n",
       "      <td> 0.111111</td>\n",
       "      <td> 1</td>\n",
       "      <td>-0.4600</td>\n",
       "    </tr>\n",
       "  </tbody>\n",
       "</table>\n",
       "</div>"
      ],
      "text/plain": [
       "       Simulated $\\pi(s)$  Theoretical  c(s)  Percentage Error\n",
       "State                                                         \n",
       "[1,2]              0.8894     0.888889     2            0.0575\n",
       "[2,1]              0.1106     0.111111     1           -0.4600"
      ]
     },
     "execution_count": 12,
     "metadata": {},
     "output_type": "execute_result"
    }
   ],
   "source": [
    "df  = run(N[0])\n",
    "df"
   ]
  },
  {
   "cell_type": "markdown",
   "metadata": {},
   "source": [
    "## n=3\n"
   ]
  },
  {
   "cell_type": "code",
   "execution_count": 13,
   "metadata": {
    "collapsed": false
   },
   "outputs": [
    {
     "data": {
      "text/html": [
       "<div style=\"max-height:1000px;max-width:1500px;overflow:auto;\">\n",
       "<table border=\"1\" class=\"dataframe\">\n",
       "  <thead>\n",
       "    <tr style=\"text-align: right;\">\n",
       "      <th></th>\n",
       "      <th>Simulated $\\pi(s)$</th>\n",
       "      <th>Theoretical</th>\n",
       "      <th>c(s)</th>\n",
       "      <th>Percentage Error</th>\n",
       "    </tr>\n",
       "    <tr>\n",
       "      <th>State</th>\n",
       "      <th></th>\n",
       "      <th></th>\n",
       "      <th></th>\n",
       "      <th></th>\n",
       "    </tr>\n",
       "  </thead>\n",
       "  <tbody>\n",
       "    <tr>\n",
       "      <th>[1,2,3]</th>\n",
       "      <td> 0.5174</td>\n",
       "      <td> 0.509434</td>\n",
       "      <td> 3</td>\n",
       "      <td>  1.563704</td>\n",
       "    </tr>\n",
       "    <tr>\n",
       "      <th>[1,3,2]</th>\n",
       "      <td> 0.1541</td>\n",
       "      <td> 0.150943</td>\n",
       "      <td> 2</td>\n",
       "      <td>  2.091250</td>\n",
       "    </tr>\n",
       "    <tr>\n",
       "      <th>[2,1,3]</th>\n",
       "      <td> 0.0173</td>\n",
       "      <td> 0.018868</td>\n",
       "      <td> 1</td>\n",
       "      <td> -8.310000</td>\n",
       "    </tr>\n",
       "    <tr>\n",
       "      <th>[2,3,1]</th>\n",
       "      <td> 0.1362</td>\n",
       "      <td> 0.150943</td>\n",
       "      <td> 2</td>\n",
       "      <td> -9.767500</td>\n",
       "    </tr>\n",
       "    <tr>\n",
       "      <th>[3,1,2]</th>\n",
       "      <td> 0.1614</td>\n",
       "      <td> 0.150943</td>\n",
       "      <td> 2</td>\n",
       "      <td>  6.927500</td>\n",
       "    </tr>\n",
       "    <tr>\n",
       "      <th>[3,2,1]</th>\n",
       "      <td> 0.0136</td>\n",
       "      <td> 0.018868</td>\n",
       "      <td> 1</td>\n",
       "      <td>-27.920000</td>\n",
       "    </tr>\n",
       "  </tbody>\n",
       "</table>\n",
       "</div>"
      ],
      "text/plain": [
       "         Simulated $\\pi(s)$  Theoretical  c(s)  Percentage Error\n",
       "State                                                           \n",
       "[1,2,3]              0.5174     0.509434     3          1.563704\n",
       "[1,3,2]              0.1541     0.150943     2          2.091250\n",
       "[2,1,3]              0.0173     0.018868     1         -8.310000\n",
       "[2,3,1]              0.1362     0.150943     2         -9.767500\n",
       "[3,1,2]              0.1614     0.150943     2          6.927500\n",
       "[3,2,1]              0.0136     0.018868     1        -27.920000"
      ]
     },
     "execution_count": 13,
     "metadata": {},
     "output_type": "execute_result"
    }
   ],
   "source": [
    "df = run(N[1])\n",
    "df"
   ]
  },
  {
   "cell_type": "markdown",
   "metadata": {},
   "source": [
    "## n=4"
   ]
  },
  {
   "cell_type": "code",
   "execution_count": 14,
   "metadata": {
    "collapsed": false
   },
   "outputs": [
    {
     "data": {
      "text/html": [
       "<div style=\"max-height:1000px;max-width:1500px;overflow:auto;\">\n",
       "<table border=\"1\" class=\"dataframe\">\n",
       "  <thead>\n",
       "    <tr style=\"text-align: right;\">\n",
       "      <th></th>\n",
       "      <th>Simulated $\\pi(s)$</th>\n",
       "      <th>Theoretical</th>\n",
       "      <th>c(s)</th>\n",
       "      <th>Percentage Error</th>\n",
       "    </tr>\n",
       "    <tr>\n",
       "      <th>State</th>\n",
       "      <th></th>\n",
       "      <th></th>\n",
       "      <th></th>\n",
       "      <th></th>\n",
       "    </tr>\n",
       "  </thead>\n",
       "  <tbody>\n",
       "    <tr>\n",
       "      <th>[1,2,3,4]</th>\n",
       "      <td> 0.1805</td>\n",
       "      <td> 0.169761</td>\n",
       "      <td> 4</td>\n",
       "      <td>  6.325781</td>\n",
       "    </tr>\n",
       "    <tr>\n",
       "      <th>[1,2,4,3]</th>\n",
       "      <td> 0.0678</td>\n",
       "      <td> 0.071618</td>\n",
       "      <td> 3</td>\n",
       "      <td> -5.331111</td>\n",
       "    </tr>\n",
       "    <tr>\n",
       "      <th>[1,3,2,4]</th>\n",
       "      <td> 0.0211</td>\n",
       "      <td> 0.021220</td>\n",
       "      <td> 2</td>\n",
       "      <td> -0.566250</td>\n",
       "    </tr>\n",
       "    <tr>\n",
       "      <th>[1,3,4,2]</th>\n",
       "      <td> 0.0729</td>\n",
       "      <td> 0.071618</td>\n",
       "      <td> 3</td>\n",
       "      <td>  1.790000</td>\n",
       "    </tr>\n",
       "    <tr>\n",
       "      <th>[1,4,2,3]</th>\n",
       "      <td> 0.0751</td>\n",
       "      <td> 0.071618</td>\n",
       "      <td> 3</td>\n",
       "      <td>  4.861852</td>\n",
       "    </tr>\n",
       "    <tr>\n",
       "      <th>[1,4,3,2]</th>\n",
       "      <td> 0.0259</td>\n",
       "      <td> 0.021220</td>\n",
       "      <td> 2</td>\n",
       "      <td> 22.053750</td>\n",
       "    </tr>\n",
       "    <tr>\n",
       "      <th>[2,1,3,4]</th>\n",
       "      <td> 0.0020</td>\n",
       "      <td> 0.002653</td>\n",
       "      <td> 1</td>\n",
       "      <td>-24.600000</td>\n",
       "    </tr>\n",
       "    <tr>\n",
       "      <th>[2,1,4,3]</th>\n",
       "      <td> 0.0016</td>\n",
       "      <td> 0.002653</td>\n",
       "      <td> 1</td>\n",
       "      <td>-39.680000</td>\n",
       "    </tr>\n",
       "    <tr>\n",
       "      <th>[2,3,1,4]</th>\n",
       "      <td> 0.0268</td>\n",
       "      <td> 0.021220</td>\n",
       "      <td> 2</td>\n",
       "      <td> 26.295000</td>\n",
       "    </tr>\n",
       "    <tr>\n",
       "      <th>[2,3,4,1]</th>\n",
       "      <td> 0.0769</td>\n",
       "      <td> 0.071618</td>\n",
       "      <td> 3</td>\n",
       "      <td>  7.375185</td>\n",
       "    </tr>\n",
       "    <tr>\n",
       "      <th>[2,4,1,3]</th>\n",
       "      <td> 0.0758</td>\n",
       "      <td> 0.071618</td>\n",
       "      <td> 3</td>\n",
       "      <td>  5.839259</td>\n",
       "    </tr>\n",
       "    <tr>\n",
       "      <th>[2,4,3,1]</th>\n",
       "      <td> 0.0208</td>\n",
       "      <td> 0.021220</td>\n",
       "      <td> 2</td>\n",
       "      <td> -1.980000</td>\n",
       "    </tr>\n",
       "    <tr>\n",
       "      <th>[3,1,2,4]</th>\n",
       "      <td> 0.0201</td>\n",
       "      <td> 0.021220</td>\n",
       "      <td> 2</td>\n",
       "      <td> -5.278750</td>\n",
       "    </tr>\n",
       "    <tr>\n",
       "      <th>[3,1,4,2]</th>\n",
       "      <td> 0.0695</td>\n",
       "      <td> 0.071618</td>\n",
       "      <td> 3</td>\n",
       "      <td> -2.957407</td>\n",
       "    </tr>\n",
       "    <tr>\n",
       "      <th>[3,2,1,4]</th>\n",
       "      <td> 0.0031</td>\n",
       "      <td> 0.002653</td>\n",
       "      <td> 1</td>\n",
       "      <td> 16.870000</td>\n",
       "    </tr>\n",
       "    <tr>\n",
       "      <th>[3,2,4,1]</th>\n",
       "      <td> 0.0205</td>\n",
       "      <td> 0.021220</td>\n",
       "      <td> 2</td>\n",
       "      <td> -3.393750</td>\n",
       "    </tr>\n",
       "    <tr>\n",
       "      <th>[3,4,1,2]</th>\n",
       "      <td> 0.0029</td>\n",
       "      <td> 0.002653</td>\n",
       "      <td> 1</td>\n",
       "      <td>  9.330000</td>\n",
       "    </tr>\n",
       "    <tr>\n",
       "      <th>[3,4,2,1]</th>\n",
       "      <td> 0.0607</td>\n",
       "      <td> 0.071618</td>\n",
       "      <td> 3</td>\n",
       "      <td>-15.244815</td>\n",
       "    </tr>\n",
       "    <tr>\n",
       "      <th>[4,1,2,3]</th>\n",
       "      <td> 0.0717</td>\n",
       "      <td> 0.071618</td>\n",
       "      <td> 3</td>\n",
       "      <td>  0.114444</td>\n",
       "    </tr>\n",
       "    <tr>\n",
       "      <th>[4,1,3,2]</th>\n",
       "      <td> 0.0253</td>\n",
       "      <td> 0.021220</td>\n",
       "      <td> 2</td>\n",
       "      <td> 19.226250</td>\n",
       "    </tr>\n",
       "    <tr>\n",
       "      <th>[4,2,1,3]</th>\n",
       "      <td> 0.0164</td>\n",
       "      <td> 0.021220</td>\n",
       "      <td> 2</td>\n",
       "      <td>-22.715000</td>\n",
       "    </tr>\n",
       "    <tr>\n",
       "      <th>[4,2,3,1]</th>\n",
       "      <td> 0.0029</td>\n",
       "      <td> 0.002653</td>\n",
       "      <td> 1</td>\n",
       "      <td>  9.330000</td>\n",
       "    </tr>\n",
       "    <tr>\n",
       "      <th>[4,3,1,2]</th>\n",
       "      <td> 0.0571</td>\n",
       "      <td> 0.071618</td>\n",
       "      <td> 3</td>\n",
       "      <td>-20.271481</td>\n",
       "    </tr>\n",
       "    <tr>\n",
       "      <th>[4,3,2,1]</th>\n",
       "      <td> 0.0026</td>\n",
       "      <td> 0.002653</td>\n",
       "      <td> 1</td>\n",
       "      <td> -1.980000</td>\n",
       "    </tr>\n",
       "  </tbody>\n",
       "</table>\n",
       "</div>"
      ],
      "text/plain": [
       "           Simulated $\\pi(s)$  Theoretical  c(s)  Percentage Error\n",
       "State                                                             \n",
       "[1,2,3,4]              0.1805     0.169761     4          6.325781\n",
       "[1,2,4,3]              0.0678     0.071618     3         -5.331111\n",
       "[1,3,2,4]              0.0211     0.021220     2         -0.566250\n",
       "[1,3,4,2]              0.0729     0.071618     3          1.790000\n",
       "[1,4,2,3]              0.0751     0.071618     3          4.861852\n",
       "[1,4,3,2]              0.0259     0.021220     2         22.053750\n",
       "[2,1,3,4]              0.0020     0.002653     1        -24.600000\n",
       "[2,1,4,3]              0.0016     0.002653     1        -39.680000\n",
       "[2,3,1,4]              0.0268     0.021220     2         26.295000\n",
       "[2,3,4,1]              0.0769     0.071618     3          7.375185\n",
       "[2,4,1,3]              0.0758     0.071618     3          5.839259\n",
       "[2,4,3,1]              0.0208     0.021220     2         -1.980000\n",
       "[3,1,2,4]              0.0201     0.021220     2         -5.278750\n",
       "[3,1,4,2]              0.0695     0.071618     3         -2.957407\n",
       "[3,2,1,4]              0.0031     0.002653     1         16.870000\n",
       "[3,2,4,1]              0.0205     0.021220     2         -3.393750\n",
       "[3,4,1,2]              0.0029     0.002653     1          9.330000\n",
       "[3,4,2,1]              0.0607     0.071618     3        -15.244815\n",
       "[4,1,2,3]              0.0717     0.071618     3          0.114444\n",
       "[4,1,3,2]              0.0253     0.021220     2         19.226250\n",
       "[4,2,1,3]              0.0164     0.021220     2        -22.715000\n",
       "[4,2,3,1]              0.0029     0.002653     1          9.330000\n",
       "[4,3,1,2]              0.0571     0.071618     3        -20.271481\n",
       "[4,3,2,1]              0.0026     0.002653     1         -1.980000"
      ]
     },
     "execution_count": 14,
     "metadata": {},
     "output_type": "execute_result"
    }
   ],
   "source": [
    "count_dict = run(N[2])\n",
    "count_dict"
   ]
  },
  {
   "cell_type": "markdown",
   "metadata": {},
   "source": [
    "## N=100"
   ]
  },
  {
   "cell_type": "code",
   "execution_count": null,
   "metadata": {
    "collapsed": false
   },
   "outputs": [],
   "source": [
    "df  = run(N[3])\n",
    "#df\n",
    "expectation = sum(df[r'Simulated $\\pi(s)$']*df['c(s)'])\n",
    "expectation2 = sum(df[r'Simulated $\\pi(s)$']*df['c(s)']*df['c(s)'])\n"
   ]
  },
  {
   "cell_type": "code",
   "execution_count": null,
   "metadata": {
    "collapsed": true
   },
   "outputs": [],
   "source": [
    "print expectation, expectation2"
   ]
  },
  {
   "cell_type": "code",
   "execution_count": null,
   "metadata": {
    "collapsed": true
   },
   "outputs": [],
   "source": [
    "print np.mean(df['c(s)'])"
   ]
  },
  {
   "cell_type": "markdown",
   "metadata": {},
   "source": [
    "$\\sum_{s \\in S_a}\\pi(s)c(s)=E[c(s)]$\n",
    "\n",
    "and similarly, \n",
    "\n",
    "$\\sum_{s \\in S_a}\\pi(s)c^2(s)=E[c^2(s)]=Var(c(s))+E^2[c(s)]$"
   ]
  },
  {
   "cell_type": "code",
   "execution_count": null,
   "metadata": {
    "collapsed": true
   },
   "outputs": [],
   "source": [
    "cycles = df['c(s)']\n",
    "plt.hist(cycles, normed=True)"
   ]
  },
  {
   "cell_type": "markdown",
   "metadata": {},
   "source": [
    "## Problem 3"
   ]
  },
  {
   "cell_type": "code",
   "execution_count": null,
   "metadata": {
    "collapsed": true
   },
   "outputs": [],
   "source": [
    "N = 1000\n",
    "chrom_length = 3*(10**9)\n",
    "transposon_length = 3*1000\n",
    "mu = 0.05\n",
    "t_positions = []\n",
    "\n",
    "x_initial = np.random.uniform(0,chrom_length,size=1)\n",
    "for i in range(N):\n",
    "    temp_mu = np.random.uniform(0,1,1)\n",
    "    if temp_mu <=0.05:\n",
    "        ## Tranpose\n",
    "        ## Ignore overlap with existing region\n",
    "        y,z = np.random.uniform(0, chrom_length,size=2)\n",
    "        "
   ]
  },
  {
   "cell_type": "code",
   "execution_count": null,
   "metadata": {
    "collapsed": true
   },
   "outputs": [],
   "source": []
  },
  {
   "cell_type": "code",
   "execution_count": null,
   "metadata": {
    "collapsed": true
   },
   "outputs": [],
   "source": []
  },
  {
   "cell_type": "code",
   "execution_count": null,
   "metadata": {
    "collapsed": true
   },
   "outputs": [],
   "source": []
  }
 ],
 "metadata": {
  "kernelspec": {
   "display_name": "Python 2",
   "language": "python",
   "name": "python2"
  },
  "language_info": {
   "codemirror_mode": {
    "name": "ipython",
    "version": 2
   },
   "file_extension": ".py",
   "mimetype": "text/x-python",
   "name": "python",
   "nbconvert_exporter": "python",
   "pygments_lexer": "ipython2",
   "version": "2.7.6"
  }
 },
 "nbformat": 4,
 "nbformat_minor": 0
}
