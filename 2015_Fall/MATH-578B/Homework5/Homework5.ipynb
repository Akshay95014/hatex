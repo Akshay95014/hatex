{
 "cells": [
  {
   "cell_type": "markdown",
   "metadata": {},
   "source": [
    "Given: $N \\sim Poisson(\\lambda)$ and $X_1, \\dots, X_n \\sim \\vec{\\pi}$\n",
    "\n",
    "$X_k(t)$ is continous time MC with $X_k(0) = X_k$\n",
    "$N_t(a) = $\\{k:X_k(t) = a\\}$\n",
    "\n",
    "i.e. $N_t$ is the number of visits to state $a$ in time $t$.\n",
    "\n",
    "$\\sum_a\\pi(a)Q_{ab}=0$ for each $b$ with the constraint $\\sum_a\\pi(a)=1$\n",
    "\n",
    "\n",
    "$\\sum_a\\pi(a)Q_{ab}=0$ $\\implies$ $\\vec{\\pi}^TQ=0$ $\\implies$ \n",
    "\n",
    "$$\n",
    "\\begin{align*}\n",
    "\\vec{\\pi}^TQ&=0\\\\\n",
    "\\Longleftrightarrow \\vec{\\pi}^TQ^n&=0\\ \\  \\forall n \\geq 1\\\\ \n",
    "\\Longleftrightarrow \\sum_{n\\geq 1}\\vec{\\pi}\\frac{t^n}{n!}Q^n &=0 \\ \\  \\forall t \\geq 0\\\\\n",
    "\\Longleftrightarrow \\vec{\\pi}\\sum_{n\\geq 0}\\frac{t^n}{n!}Q^n &=\\vec{\\pi}\\\\\n",
    "\\Longleftrightarrow \\vec{\\pi}P &=\\vec{\\pi}\\\\\n",
    "\\Longleftrightarrow \\vec{\\pi}\\  \\text{is a stationary distribution}\n",
    "\\end{align*}\n",
    "$$\n",
    "\n",
    "Now, $P(X_k(t)=a)=\\pi(a)$ and $N_t(a) = \\{k:X_k(t) = a\\}$ $\\implies$ $N_t(a)|N \\sim Binom(N, \\pi(a))$ and \n",
    "$N \\sim Poisson(\\lambda)$ then $N_t \\sim Poisson(\\lambda \\pi)$ [We did this in class TODO]"
   ]
  },
  {
   "cell_type": "markdown",
   "metadata": {
    "collapsed": true
   },
   "source": [
    "## Problem 2"
   ]
  },
  {
   "cell_type": "code",
   "execution_count": 1,
   "metadata": {
    "collapsed": false
   },
   "outputs": [],
   "source": [
    "%matplotlib inline\n",
    "from __future__ import division\n",
    "import pandas as pd\n",
    "import matplotlib\n",
    "import itertools\n",
    "matplotlib.rcParams['figure.figsize'] = (16,12)\n",
    "import matplotlib.pyplot as plt\n",
    "import numpy as np\n",
    "np.random.seed(1)\n",
    "\n",
    "def propose(S):\n",
    "    r = np.random.choice(len(S), 2)\n",
    "    rs = np.sort(r)\n",
    "    j,k=rs[0],rs[1]\n",
    "    y=np.copy(S)\n",
    "    y[j:k+1] = y[j:k+1][::-1]\n",
    "    return y\n",
    "\n",
    "def count_cycles(S):\n",
    "    sample_length = len(S)\n",
    "    n_cycles = 0\n",
    "    index = 0\n",
    "    length_travelled = 0\n",
    "    visited = []\n",
    "    while length_travelled < sample_length:\n",
    "        if S[index] == index and index < sample_length :\n",
    "            index+=1\n",
    "            n_cycles+=1\n",
    "            length_travelled+=1\n",
    "        else:\n",
    "            visited.append(index)\n",
    "            index = S[index]\n",
    "            length_travelled+=1\n",
    "            if index not in visited:\n",
    "                n_cycles+=1\n",
    "    return n_cycles"
   ]
  },
  {
   "cell_type": "code",
   "execution_count": 2,
   "metadata": {
    "collapsed": true
   },
   "outputs": [],
   "source": [
    "N = [2,3,4, 100]\n",
    "alpha = 3"
   ]
  },
  {
   "cell_type": "code",
   "execution_count": 3,
   "metadata": {
    "collapsed": false
   },
   "outputs": [],
   "source": [
    "assert count_cycles([0,1]) == 2\n",
    "assert count_cycles([0,2,1]) == 2\n",
    "assert count_cycles([1,0]) == 1"
   ]
  },
  {
   "cell_type": "code",
   "execution_count": 4,
   "metadata": {
    "collapsed": false
   },
   "outputs": [],
   "source": [
    "N_iterations = 10000\n",
    "\n",
    "def theoretical(S, alpha, denom):\n",
    "    n_cycles = count_cycles(S)\n",
    "    return n_cycles**alpha/denom\n",
    "\n",
    "\n",
    "def run(n, show=True):\n",
    "    oldS = np.arange(n)\n",
    "    old_n_cycles = count_cycles(oldS)\n",
    "    count_dict = {}\n",
    "    if show:\n",
    "        denom = sum([count_cycles(x)**alpha  for x in itertools.permutations(range(n))])\n",
    "    for i in range(N_iterations):\n",
    "        proposedS = propose(oldS)\n",
    "        new_n_cycles = count_cycles(proposedS)\n",
    "        pi_ab = new_n_cycles**alpha/(old_n_cycles**alpha)\n",
    "        q = min(1,pi_ab)\n",
    "        if q>= np.random.uniform():\n",
    "            oldS = proposedS\n",
    "            old_n_cycles = new_n_cycles\n",
    "        tkey = ','.join([str(x+1) for x in oldS.tolist()])\n",
    "        key=\"[\"+tkey+\"]\"\n",
    "        if key not in count_dict:\n",
    "            if show:\n",
    "                count_dict[key] = [0,0,0]\n",
    "                count_dict[key][1] = theoretical(oldS,alpha,denom)\n",
    "                count_dict[key][2] = old_n_cycles\n",
    "            else:\n",
    "                count_dict[key] = [0,0]\n",
    "                count_dict[key][1] = old_n_cycles\n",
    "\n",
    "\n",
    "        count_dict[key][0]+=1\n",
    "    df = pd.DataFrame(count_dict)\n",
    "    df=df.transpose()\n",
    "    if show:\n",
    "        df.columns=[r'Simulated $\\pi(s)$', 'Theoretical', 'c(s)']\n",
    "        df[r'Simulated $\\pi(s)$'] = df[r'Simulated $\\pi(s)$']/N_iterations\n",
    "        df['Percentage Error'] = 100*(df[r'Simulated $\\pi(s)$']/df['Theoretical']-1)\n",
    "    else:\n",
    "        df.columns=[r'Simulated $\\pi(s)$', 'c(s)']\n",
    "        df[r'Simulated $\\pi(s)$'] = df[r'Simulated $\\pi(s)$']/N_iterations\n",
    "        \n",
    "    df.index.name='State'\n",
    "    return df\n"
   ]
  },
  {
   "cell_type": "markdown",
   "metadata": {
    "collapsed": true
   },
   "source": [
    "## n=2"
   ]
  },
  {
   "cell_type": "code",
   "execution_count": 5,
   "metadata": {
    "collapsed": false
   },
   "outputs": [
    {
     "data": {
      "text/html": [
       "<div style=\"max-height:1000px;max-width:1500px;overflow:auto;\">\n",
       "<table border=\"1\" class=\"dataframe\">\n",
       "  <thead>\n",
       "    <tr style=\"text-align: right;\">\n",
       "      <th></th>\n",
       "      <th>Simulated $\\pi(s)$</th>\n",
       "      <th>Theoretical</th>\n",
       "      <th>c(s)</th>\n",
       "      <th>Percentage Error</th>\n",
       "    </tr>\n",
       "    <tr>\n",
       "      <th>State</th>\n",
       "      <th></th>\n",
       "      <th></th>\n",
       "      <th></th>\n",
       "      <th></th>\n",
       "    </tr>\n",
       "  </thead>\n",
       "  <tbody>\n",
       "    <tr>\n",
       "      <th>[1,2]</th>\n",
       "      <td> 0.8891</td>\n",
       "      <td> 0.888889</td>\n",
       "      <td> 2</td>\n",
       "      <td> 0.02375</td>\n",
       "    </tr>\n",
       "    <tr>\n",
       "      <th>[2,1]</th>\n",
       "      <td> 0.1109</td>\n",
       "      <td> 0.111111</td>\n",
       "      <td> 1</td>\n",
       "      <td>-0.19000</td>\n",
       "    </tr>\n",
       "  </tbody>\n",
       "</table>\n",
       "</div>"
      ],
      "text/plain": [
       "       Simulated $\\pi(s)$  Theoretical  c(s)  Percentage Error\n",
       "State                                                         \n",
       "[1,2]              0.8891     0.888889     2           0.02375\n",
       "[2,1]              0.1109     0.111111     1          -0.19000"
      ]
     },
     "execution_count": 5,
     "metadata": {},
     "output_type": "execute_result"
    }
   ],
   "source": [
    "df  = run(N[0])\n",
    "df"
   ]
  },
  {
   "cell_type": "markdown",
   "metadata": {},
   "source": [
    "## n=3\n"
   ]
  },
  {
   "cell_type": "code",
   "execution_count": 6,
   "metadata": {
    "collapsed": false
   },
   "outputs": [
    {
     "data": {
      "text/html": [
       "<div style=\"max-height:1000px;max-width:1500px;overflow:auto;\">\n",
       "<table border=\"1\" class=\"dataframe\">\n",
       "  <thead>\n",
       "    <tr style=\"text-align: right;\">\n",
       "      <th></th>\n",
       "      <th>Simulated $\\pi(s)$</th>\n",
       "      <th>Theoretical</th>\n",
       "      <th>c(s)</th>\n",
       "      <th>Percentage Error</th>\n",
       "    </tr>\n",
       "    <tr>\n",
       "      <th>State</th>\n",
       "      <th></th>\n",
       "      <th></th>\n",
       "      <th></th>\n",
       "      <th></th>\n",
       "    </tr>\n",
       "  </thead>\n",
       "  <tbody>\n",
       "    <tr>\n",
       "      <th>[1,2,3]</th>\n",
       "      <td> 0.4867</td>\n",
       "      <td> 0.509434</td>\n",
       "      <td> 3</td>\n",
       "      <td>-4.462593</td>\n",
       "    </tr>\n",
       "    <tr>\n",
       "      <th>[1,3,2]</th>\n",
       "      <td> 0.1594</td>\n",
       "      <td> 0.150943</td>\n",
       "      <td> 2</td>\n",
       "      <td> 5.602500</td>\n",
       "    </tr>\n",
       "    <tr>\n",
       "      <th>[2,1,3]</th>\n",
       "      <td> 0.0202</td>\n",
       "      <td> 0.018868</td>\n",
       "      <td> 1</td>\n",
       "      <td> 7.060000</td>\n",
       "    </tr>\n",
       "    <tr>\n",
       "      <th>[2,3,1]</th>\n",
       "      <td> 0.1567</td>\n",
       "      <td> 0.150943</td>\n",
       "      <td> 2</td>\n",
       "      <td> 3.813750</td>\n",
       "    </tr>\n",
       "    <tr>\n",
       "      <th>[3,1,2]</th>\n",
       "      <td> 0.1581</td>\n",
       "      <td> 0.150943</td>\n",
       "      <td> 2</td>\n",
       "      <td> 4.741250</td>\n",
       "    </tr>\n",
       "    <tr>\n",
       "      <th>[3,2,1]</th>\n",
       "      <td> 0.0189</td>\n",
       "      <td> 0.018868</td>\n",
       "      <td> 1</td>\n",
       "      <td> 0.170000</td>\n",
       "    </tr>\n",
       "  </tbody>\n",
       "</table>\n",
       "</div>"
      ],
      "text/plain": [
       "         Simulated $\\pi(s)$  Theoretical  c(s)  Percentage Error\n",
       "State                                                           \n",
       "[1,2,3]              0.4867     0.509434     3         -4.462593\n",
       "[1,3,2]              0.1594     0.150943     2          5.602500\n",
       "[2,1,3]              0.0202     0.018868     1          7.060000\n",
       "[2,3,1]              0.1567     0.150943     2          3.813750\n",
       "[3,1,2]              0.1581     0.150943     2          4.741250\n",
       "[3,2,1]              0.0189     0.018868     1          0.170000"
      ]
     },
     "execution_count": 6,
     "metadata": {},
     "output_type": "execute_result"
    }
   ],
   "source": [
    "df = run(N[1])\n",
    "df"
   ]
  },
  {
   "cell_type": "markdown",
   "metadata": {},
   "source": [
    "## n=4"
   ]
  },
  {
   "cell_type": "code",
   "execution_count": 7,
   "metadata": {
    "collapsed": false
   },
   "outputs": [
    {
     "data": {
      "text/html": [
       "<div style=\"max-height:1000px;max-width:1500px;overflow:auto;\">\n",
       "<table border=\"1\" class=\"dataframe\">\n",
       "  <thead>\n",
       "    <tr style=\"text-align: right;\">\n",
       "      <th></th>\n",
       "      <th>Simulated $\\pi(s)$</th>\n",
       "      <th>Theoretical</th>\n",
       "      <th>c(s)</th>\n",
       "      <th>Percentage Error</th>\n",
       "    </tr>\n",
       "    <tr>\n",
       "      <th>State</th>\n",
       "      <th></th>\n",
       "      <th></th>\n",
       "      <th></th>\n",
       "      <th></th>\n",
       "    </tr>\n",
       "  </thead>\n",
       "  <tbody>\n",
       "    <tr>\n",
       "      <th>[1,2,3,4]</th>\n",
       "      <td> 0.1509</td>\n",
       "      <td> 0.169761</td>\n",
       "      <td> 4</td>\n",
       "      <td>-11.110469</td>\n",
       "    </tr>\n",
       "    <tr>\n",
       "      <th>[1,2,4,3]</th>\n",
       "      <td> 0.0738</td>\n",
       "      <td> 0.071618</td>\n",
       "      <td> 3</td>\n",
       "      <td>  3.046667</td>\n",
       "    </tr>\n",
       "    <tr>\n",
       "      <th>[1,3,2,4]</th>\n",
       "      <td> 0.0208</td>\n",
       "      <td> 0.021220</td>\n",
       "      <td> 2</td>\n",
       "      <td> -1.980000</td>\n",
       "    </tr>\n",
       "    <tr>\n",
       "      <th>[1,3,4,2]</th>\n",
       "      <td> 0.0793</td>\n",
       "      <td> 0.071618</td>\n",
       "      <td> 3</td>\n",
       "      <td> 10.726296</td>\n",
       "    </tr>\n",
       "    <tr>\n",
       "      <th>[1,4,2,3]</th>\n",
       "      <td> 0.0762</td>\n",
       "      <td> 0.071618</td>\n",
       "      <td> 3</td>\n",
       "      <td>  6.397778</td>\n",
       "    </tr>\n",
       "    <tr>\n",
       "      <th>[1,4,3,2]</th>\n",
       "      <td> 0.0243</td>\n",
       "      <td> 0.021220</td>\n",
       "      <td> 2</td>\n",
       "      <td> 14.513750</td>\n",
       "    </tr>\n",
       "    <tr>\n",
       "      <th>[2,1,3,4]</th>\n",
       "      <td> 0.0016</td>\n",
       "      <td> 0.002653</td>\n",
       "      <td> 1</td>\n",
       "      <td>-39.680000</td>\n",
       "    </tr>\n",
       "    <tr>\n",
       "      <th>[2,1,4,3]</th>\n",
       "      <td> 0.0023</td>\n",
       "      <td> 0.002653</td>\n",
       "      <td> 1</td>\n",
       "      <td>-13.290000</td>\n",
       "    </tr>\n",
       "    <tr>\n",
       "      <th>[2,3,1,4]</th>\n",
       "      <td> 0.0189</td>\n",
       "      <td> 0.021220</td>\n",
       "      <td> 2</td>\n",
       "      <td>-10.933750</td>\n",
       "    </tr>\n",
       "    <tr>\n",
       "      <th>[2,3,4,1]</th>\n",
       "      <td> 0.0816</td>\n",
       "      <td> 0.071618</td>\n",
       "      <td> 3</td>\n",
       "      <td> 13.937778</td>\n",
       "    </tr>\n",
       "    <tr>\n",
       "      <th>[2,4,1,3]</th>\n",
       "      <td> 0.0655</td>\n",
       "      <td> 0.071618</td>\n",
       "      <td> 3</td>\n",
       "      <td> -8.542593</td>\n",
       "    </tr>\n",
       "    <tr>\n",
       "      <th>[2,4,3,1]</th>\n",
       "      <td> 0.0215</td>\n",
       "      <td> 0.021220</td>\n",
       "      <td> 2</td>\n",
       "      <td>  1.318750</td>\n",
       "    </tr>\n",
       "    <tr>\n",
       "      <th>[3,1,2,4]</th>\n",
       "      <td> 0.0237</td>\n",
       "      <td> 0.021220</td>\n",
       "      <td> 2</td>\n",
       "      <td> 11.686250</td>\n",
       "    </tr>\n",
       "    <tr>\n",
       "      <th>[3,1,4,2]</th>\n",
       "      <td> 0.0693</td>\n",
       "      <td> 0.071618</td>\n",
       "      <td> 3</td>\n",
       "      <td> -3.236667</td>\n",
       "    </tr>\n",
       "    <tr>\n",
       "      <th>[3,2,1,4]</th>\n",
       "      <td> 0.0022</td>\n",
       "      <td> 0.002653</td>\n",
       "      <td> 1</td>\n",
       "      <td>-17.060000</td>\n",
       "    </tr>\n",
       "    <tr>\n",
       "      <th>[3,2,4,1]</th>\n",
       "      <td> 0.0224</td>\n",
       "      <td> 0.021220</td>\n",
       "      <td> 2</td>\n",
       "      <td>  5.560000</td>\n",
       "    </tr>\n",
       "    <tr>\n",
       "      <th>[3,4,1,2]</th>\n",
       "      <td> 0.0037</td>\n",
       "      <td> 0.002653</td>\n",
       "      <td> 1</td>\n",
       "      <td> 39.490000</td>\n",
       "    </tr>\n",
       "    <tr>\n",
       "      <th>[3,4,2,1]</th>\n",
       "      <td> 0.0675</td>\n",
       "      <td> 0.071618</td>\n",
       "      <td> 3</td>\n",
       "      <td> -5.750000</td>\n",
       "    </tr>\n",
       "    <tr>\n",
       "      <th>[4,1,2,3]</th>\n",
       "      <td> 0.0710</td>\n",
       "      <td> 0.071618</td>\n",
       "      <td> 3</td>\n",
       "      <td> -0.862963</td>\n",
       "    </tr>\n",
       "    <tr>\n",
       "      <th>[4,1,3,2]</th>\n",
       "      <td> 0.0218</td>\n",
       "      <td> 0.021220</td>\n",
       "      <td> 2</td>\n",
       "      <td>  2.732500</td>\n",
       "    </tr>\n",
       "    <tr>\n",
       "      <th>[4,2,1,3]</th>\n",
       "      <td> 0.0205</td>\n",
       "      <td> 0.021220</td>\n",
       "      <td> 2</td>\n",
       "      <td> -3.393750</td>\n",
       "    </tr>\n",
       "    <tr>\n",
       "      <th>[4,2,3,1]</th>\n",
       "      <td> 0.0026</td>\n",
       "      <td> 0.002653</td>\n",
       "      <td> 1</td>\n",
       "      <td> -1.980000</td>\n",
       "    </tr>\n",
       "    <tr>\n",
       "      <th>[4,3,1,2]</th>\n",
       "      <td> 0.0750</td>\n",
       "      <td> 0.071618</td>\n",
       "      <td> 3</td>\n",
       "      <td>  4.722222</td>\n",
       "    </tr>\n",
       "    <tr>\n",
       "      <th>[4,3,2,1]</th>\n",
       "      <td> 0.0036</td>\n",
       "      <td> 0.002653</td>\n",
       "      <td> 1</td>\n",
       "      <td> 35.720000</td>\n",
       "    </tr>\n",
       "  </tbody>\n",
       "</table>\n",
       "</div>"
      ],
      "text/plain": [
       "           Simulated $\\pi(s)$  Theoretical  c(s)  Percentage Error\n",
       "State                                                             \n",
       "[1,2,3,4]              0.1509     0.169761     4        -11.110469\n",
       "[1,2,4,3]              0.0738     0.071618     3          3.046667\n",
       "[1,3,2,4]              0.0208     0.021220     2         -1.980000\n",
       "[1,3,4,2]              0.0793     0.071618     3         10.726296\n",
       "[1,4,2,3]              0.0762     0.071618     3          6.397778\n",
       "[1,4,3,2]              0.0243     0.021220     2         14.513750\n",
       "[2,1,3,4]              0.0016     0.002653     1        -39.680000\n",
       "[2,1,4,3]              0.0023     0.002653     1        -13.290000\n",
       "[2,3,1,4]              0.0189     0.021220     2        -10.933750\n",
       "[2,3,4,1]              0.0816     0.071618     3         13.937778\n",
       "[2,4,1,3]              0.0655     0.071618     3         -8.542593\n",
       "[2,4,3,1]              0.0215     0.021220     2          1.318750\n",
       "[3,1,2,4]              0.0237     0.021220     2         11.686250\n",
       "[3,1,4,2]              0.0693     0.071618     3         -3.236667\n",
       "[3,2,1,4]              0.0022     0.002653     1        -17.060000\n",
       "[3,2,4,1]              0.0224     0.021220     2          5.560000\n",
       "[3,4,1,2]              0.0037     0.002653     1         39.490000\n",
       "[3,4,2,1]              0.0675     0.071618     3         -5.750000\n",
       "[4,1,2,3]              0.0710     0.071618     3         -0.862963\n",
       "[4,1,3,2]              0.0218     0.021220     2          2.732500\n",
       "[4,2,1,3]              0.0205     0.021220     2         -3.393750\n",
       "[4,2,3,1]              0.0026     0.002653     1         -1.980000\n",
       "[4,3,1,2]              0.0750     0.071618     3          4.722222\n",
       "[4,3,2,1]              0.0036     0.002653     1         35.720000"
      ]
     },
     "execution_count": 7,
     "metadata": {},
     "output_type": "execute_result"
    }
   ],
   "source": [
    "count_dict = run(N[2])\n",
    "count_dict"
   ]
  },
  {
   "cell_type": "markdown",
   "metadata": {},
   "source": [
    "## N=100"
   ]
  },
  {
   "cell_type": "code",
   "execution_count": 8,
   "metadata": {
    "collapsed": false
   },
   "outputs": [],
   "source": [
    "df  = run(N[3], show=False)\n"
   ]
  },
  {
   "cell_type": "markdown",
   "metadata": {},
   "source": [
    "$\\sum_{s \\in S_a}\\pi(s)c(s)=E[c(s)]$\n",
    "\n",
    "and similarly, \n",
    "\n",
    "$\\sum_{s \\in S_a}\\pi(s)c^2(s)=E[c^2(s)]=Var(c(s))+E^2[c(s)]$"
   ]
  },
  {
   "cell_type": "code",
   "execution_count": 9,
   "metadata": {
    "collapsed": false
   },
   "outputs": [
    {
     "name": "stdout",
     "output_type": "stream",
     "text": [
      "Simulated E[c(s)] =79.2362\t\t Theoretical(M0M) E[c(s)]: 74.9541157482\n",
      "Simulated E[c^2(s)] =6536.9272\t\t Theoretical(M0M) E[c^2(s)]: 5929.13534701\n"
     ]
    }
   ],
   "source": [
    "expectation = sum(df[r'Simulated $\\pi(s)$']*df['c(s)'])\n",
    "expectation2 = sum(df[r'Simulated $\\pi(s)$']*df['c(s)']*df['c(s)'])\n",
    "t_expectation = np.mean(df['c(s)'])\n",
    "t_expectation2 = np.var(df['c(s)'])+np.mean(df['c(s)'])**2\n",
    "print 'Simulated E[c(s)] ={}\\t\\t Theoretical(M0M) E[c(s)]: {}'.format(expectation, t_expectation)\n",
    "print 'Simulated E[c^2(s)] ={}\\t\\t Theoretical(M0M) E[c^2(s)]: {}'.format(expectation2, t_expectation2)\n"
   ]
  },
  {
   "cell_type": "code",
   "execution_count": 11,
   "metadata": {
    "collapsed": false
   },
   "outputs": [
    {
     "data": {
      "text/plain": [
       "(array([ 0.00039302,  0.00102186,  0.00288218,  0.00563335,  0.00788668,\n",
       "         0.01160731,  0.01669042,  0.02083028,  0.02426269,  0.02242857]),\n",
       " array([  12. ,   20.8,   29.6,   38.4,   47.2,   56. ,   64.8,   73.6,\n",
       "          82.4,   91.2,  100. ]),\n",
       " <a list of 10 Patch objects>)"
      ]
     },
     "execution_count": 11,
     "metadata": {},
     "output_type": "execute_result"
    },
    {
     "data": {
      "image/png": "[encoded data removed]",
      "text/plain": [
       "<matplotlib.figure.Figure at 0x7f07515c2b50>"
      ]
     },
     "metadata": {},
     "output_type": "display_data"
    }
   ],
   "source": [
    "cycles = df['c(s)']\n",
    "plt.hist(cycles, normed=True)"
   ]
  },
  {
   "cell_type": "markdown",
   "metadata": {},
   "source": [
    "## Problem 3"
   ]
  },
  {
   "cell_type": "markdown",
   "metadata": {},
   "source": [
    "## Part (A)"
   ]
  },
  {
   "cell_type": "code",
   "execution_count": 21,
   "metadata": {
    "collapsed": true
   },
   "outputs": [],
   "source": [
    "%matplotlib inline\n",
    "from __future__ import division\n",
    "import pandas as pd\n",
    "import matplotlib\n",
    "matplotlib.rcParams['figure.figsize'] = (16,12)\n",
    "import matplotlib.pyplot as plt\n",
    "import itertools\n",
    "import numpy as np\n",
    "\n",
    "\n",
    "def run():\n",
    "    N = 1000\n",
    "    N_iterations = 200\n",
    "    chrom_length = 3*(10**9)\n",
    "    transposon_length = 3*1000\n",
    "    mu = 0.05\n",
    "    t_positions = []\n",
    "\n",
    "    n_initial = np.random.random_integers(N-1)\n",
    "    x_initial = np.random.random_integers(chrom_length-1)\n",
    "\n",
    "    offspring_positions = []\n",
    "    all_positions = [[] for t in range(N)]\n",
    "    all_positions[n_initial].append(x_initial)\n",
    "    all_t_count =[]\n",
    "\n",
    "    for nn in range(N_iterations):\n",
    "        for i in range(N):\n",
    "            indicator = np.random.binomial(1,mu,len(all_positions[i]))\n",
    "            temp_indices = []\n",
    "            for ind, ind_value in enumerate(indicator):\n",
    "                if ind_value == 1:\n",
    "                    temp_indices.append(ind)\n",
    "\n",
    "            for j in temp_indices:\n",
    "                x_temp = np.random.random_integers(chrom_length-1)\n",
    "                all_positions[i][j] = x_temp\n",
    "                all_positions[i].append(np.random.random_integers(chrom_length-1))\n",
    "        offspring_positions = [[] for t in range(N)]\n",
    "        for j in range(N):\n",
    "            y,z = np.random.random_integers(0,N-1,2)\n",
    "            y_parent = np.random.binomial(1,0.5,len(all_positions[y]))\n",
    "            z_parent = np.random.binomial(1,0.5,len(all_positions[z]))\n",
    "            temp_y = []\n",
    "            temp_z = []\n",
    "            for index,value in enumerate(y_parent):\n",
    "                if value>=1:\n",
    "                      temp_y.append(all_positions[y][index])\n",
    "            for index,value in enumerate(z_parent):\n",
    "                if value>=1:\n",
    "                      temp_z.append(all_positions[z][index])\n",
    "            for t_y in temp_y:\n",
    "                offspring_positions[j].append(t_y)\n",
    "            for t_z in temp_z:\n",
    "                offspring_positions[j].append(t_z)\n",
    "        all_positions = offspring_positions\n",
    "        count_t = 0\n",
    "        count_x = []\n",
    "        for p in range(N):\n",
    "            count_t += len(all_positions[p])\n",
    "            count_x.append(all_positions[p])\n",
    "        survived_t = np.unique(count_x, return_counts=True)[1]\n",
    "        all_t_count.append((count_t, len(survived_t[survived_t>=N*mu])))\n",
    "    return all_t_count\n",
    "    \n",
    "    "
   ]
  },
  {
   "cell_type": "code",
   "execution_count": 22,
   "metadata": {
    "collapsed": false
   },
   "outputs": [
    {
     "data": {
      "text/plain": [
       "<matplotlib.text.Text at 0x7f074edaec90>"
      ]
     },
     "execution_count": 22,
     "metadata": {},
     "output_type": "execute_result"
    },
    {
     "data": {
      "image/png": "[encoded data removed]",
      "text/plain": [
       "<matplotlib.figure.Figure at 0x7f074edefd90>"
      ]
     },
     "metadata": {},
     "output_type": "display_data"
    }
   ],
   "source": [
    "all_t_count = run()\n",
    "plt.plot([x[0] for x in all_t_count])\n",
    "plt.title('No. of Transpososn v/s Generations')\n",
    "plt.xlabel('Generations')\n",
    "plt.ylabel('No. of Transpososn')\n"
   ]
  },
  {
   "cell_type": "code",
   "execution_count": 24,
   "metadata": {
    "collapsed": true
   },
   "outputs": [],
   "source": [
    "die_out_transposons = all_t_count"
   ]
  },
  {
   "cell_type": "code",
   "execution_count": 26,
   "metadata": {
    "collapsed": false
   },
   "outputs": [
    {
     "data": {
      "text/plain": [
       "<matplotlib.text.Text at 0x7f074eb33210>"
      ]
     },
     "execution_count": 26,
     "metadata": {},
     "output_type": "execute_result"
    },
    {
     "data": {
      "image/png": "[encoded data removed]",
      "text/plain": [
       "<matplotlib.figure.Figure at 0x7f074eb435d0>"
      ]
     },
     "metadata": {},
     "output_type": "display_data"
    }
   ],
   "source": [
    "plt.plot([x[1] for x in die_out_transposons])\n",
    "plt.title('No. of Surviving Transpososn v/s Generations')\n",
    "plt.xlabel('Generations')\n",
    "plt.ylabel('No.Surviving of Transpososn')"
   ]
  },
  {
   "cell_type": "code",
   "execution_count": 33,
   "metadata": {
    "collapsed": false
   },
   "outputs": [
    {
     "data": {
      "text/plain": [
       "<matplotlib.text.Text at 0x7f074e63ef90>"
      ]
     },
     "execution_count": 33,
     "metadata": {},
     "output_type": "execute_result"
    },
    {
     "data": {
      "image/png": "[encoded data removed]",
      "text/plain": [
       "<matplotlib.figure.Figure at 0x7f074e6cc410>"
      ]
     },
     "metadata": {},
     "output_type": "display_data"
    }
   ],
   "source": [
    "def run():\n",
    "    N = 1000\n",
    "    N_iterations = 200\n",
    "    chrom_length = 3*(10**9)\n",
    "    transposon_length = 3*1000\n",
    "    mu = 0.05\n",
    "    t_positions = []\n",
    "\n",
    "    n_initial = 3#np.random.random_integers(N-1)\n",
    "    x_initial = 3#np.random.random_integers(chrom_length-1)\n",
    "\n",
    "    offspring_positions = []\n",
    "    all_positions = [[] for t in range(N)]\n",
    "    all_positions[n_initial].append(x_initial)\n",
    "    all_t_count =[]\n",
    "\n",
    "    for nn in range(N_iterations):\n",
    "        for i in range(N):\n",
    "            indicator = np.random.binomial(1,mu,len(all_positions[i]))\n",
    "            temp_indices = []\n",
    "            for ind, ind_value in enumerate(indicator):\n",
    "                if ind_value == 1:\n",
    "                    temp_indices.append(ind)\n",
    "\n",
    "            for j in temp_indices:\n",
    "                x_temp = np.random.random_integers(chrom_length-1)\n",
    "                all_positions[i][j] = x_temp\n",
    "                all_positions[i].append(np.random.random_integers(chrom_length-1))\n",
    "        offspring_positions = [[] for t in range(N)]\n",
    "        for j in range(N):\n",
    "            y,z = np.random.random_integers(0,N-1,2)\n",
    "            y_parent = np.random.binomial(1,0.5,len(all_positions[y]))\n",
    "            z_parent = np.random.binomial(1,0.5,len(all_positions[z]))\n",
    "            temp_y = []\n",
    "            temp_z = []\n",
    "            for index,value in enumerate(y_parent):\n",
    "                if value>=1:\n",
    "                      temp_y.append(all_positions[y][index])\n",
    "            for index,value in enumerate(z_parent):\n",
    "                if value>=1:\n",
    "                      temp_z.append(all_positions[z][index])\n",
    "            for t_y in temp_y:\n",
    "                offspring_positions[j].append(t_y)\n",
    "            for t_z in temp_z:\n",
    "                offspring_positions[j].append(t_z)\n",
    "        all_positions = offspring_positions\n",
    "        count_t = 0\n",
    "        count_x = []\n",
    "        for p in range(N):\n",
    "            count_t += len(all_positions[p])\n",
    "            count_x.append(all_positions[p])\n",
    "        survived_t = np.unique(count_x, return_counts=True)[1]\n",
    "        all_t_count.append((count_t, len(survived_t[survived_t>=N*mu])))\n",
    "    return all_t_count\n",
    "all_t_count = run()\n",
    "plt.plot([x[0] for x in all_t_count])\n",
    "plt.title('No. of Transpososn v/s Generations')\n",
    "plt.xlabel('Generations')\n",
    "plt.ylabel('No. of Transpososn')\n"
   ]
  },
  {
   "cell_type": "code",
   "execution_count": 34,
   "metadata": {
    "collapsed": true
   },
   "outputs": [],
   "source": [
    "incre_count = all_t_count"
   ]
  },
  {
   "cell_type": "markdown",
   "metadata": {},
   "source": [
    "## Part (B)\n",
    "\n",
    "Treating the total number of transposons $N(t)$ at any time $t$ to be a branching process, then $N(t+1) = \\sum_{i=1}^{N(t)} W_{t,i}$ Where $W_{t,i}$ is the number of locations of the $i^{th} transposon in the offspring.\n",
    "\n",
    "Now consider $E[N_t]$\n",
    "\n",
    "Claim: $E[N_t] = (1+\\mu)^t$\n",
    "\n",
    "Proof: $$\n",
    "With probability of $\\mu$ the transposon undergoes becomes 2 from 1. and hence $W_{t,i}$, the number  of locations of the $i^{th}$ transposon in the offspring is a poisson random varaible with mean $1+\\mu$\n",
    "\n",
    "$W_k \\sim Poisson(1+\\mu)$\n",
    "\\begin{align*}\n",
    "E[N_t] = E[\\sum_{i=1}^{N(t-1)} W_{t,i}] &= E[E[\\sum_{i=1}^{n} W_{t,i}|N(t-1)=n]]\\\\ \n",
    "&= E[N(t-1)] \\times (1+\\mu)\\\\\n",
    "&= N(1+\\mu)^t\n",
    "\\end{align*}\n",
    "$$\n",
    "\n",
    "\n",
    "\n",
    "\n",
    "Thus, the expected number of total transposons is an exponential.\n"
   ]
  },
  {
   "cell_type": "markdown",
   "metadata": {},
   "source": [
    "## Part (C)\n",
    "\n",
    "$P(X>0) \\leq EX$\n",
    "\n",
    "Consider $X_t$ as the total number of trasposon copies at location $x$ at generation $t$ \n",
    "For each new generation, the new arrival at $x$ is a poisson process with mean = $2 \\times \\mu \\times N(t) \\times \\frac{1}{L}$. Let $R(t)$ represent the new arrivals at x.\n",
    "\n",
    "Thus, $R(t) \\sim \\text{Poisson}(\\frac{2\\mu N(t)}{L})$\n",
    "\n",
    "Now Using a branching process model for number of transposon copies located at location $x$, the offspring mean number of offspring transposons is = $(1-\\mu)*1 + \\mu*2 = 1+\\mu$\n",
    "\n",
    "Let $Z_{t,k}(u)$= Number of offspring copies of $k^{th}$ transposon at $x$ that occured at time $t$ inserted at time u ($u \\leq t)\n",
    "\n",
    "Using branching process property, $E[Z_{t,k}(t+u)] = (1+\\mu)^u$\n",
    "\n",
    "~~And using $P(X(t)>0) \\leq E[X]$ for all possible positons of genome, we have~~\n",
    "\n",
    "~~(x_1>0) \\times P(x_2>0) \\cdots P(x_L >0) \\leq \\big(\\frac{2\\mu EN(t)}{L}\\big)^L  = \\big(\\frac{2\\mu (1+\\mu)^t}{L}\\big)^L~~\n",
    "\n",
    "\n",
    "Then $X_t = \\sum_{u \\leq t} \\sum_{k=1}^{R(u)} Z_{u,k}(0) = \\sum_{u \\leq 0}E[R(u)]E[Z_{u,1}(0)] = $\n",
    "\n"
   ]
  },
  {
   "cell_type": "code",
   "execution_count": null,
   "metadata": {
    "collapsed": true
   },
   "outputs": [],
   "source": []
  },
  {
   "cell_type": "code",
   "execution_count": null,
   "metadata": {
    "collapsed": true
   },
   "outputs": [],
   "source": []
  },
  {
   "cell_type": "code",
   "execution_count": null,
   "metadata": {
    "collapsed": true
   },
   "outputs": [],
   "source": []
  },
  {
   "cell_type": "code",
   "execution_count": null,
   "metadata": {
    "collapsed": true
   },
   "outputs": [],
   "source": []
  }
 ],
 "metadata": {
  "kernelspec": {
   "display_name": "Python 2",
   "language": "python",
   "name": "python2"
  },
  "language_info": {
   "codemirror_mode": {
    "name": "ipython",
    "version": 2
   },
   "file_extension": ".py",
   "mimetype": "text/x-python",
   "name": "python",
   "nbconvert_exporter": "python",
   "pygments_lexer": "ipython2",
   "version": "2.7.6"
  }
 },
 "nbformat": 4,
 "nbformat_minor": 0
}
