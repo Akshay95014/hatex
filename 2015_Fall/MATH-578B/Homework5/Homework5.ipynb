{
 "cells": [
  {
   "cell_type": "markdown",
   "metadata": {},
   "source": [
    "Given: $N \\sim Poisson(\\lambda)$ and $X_1, \\dots, X_n \\sim \\vec{\\pi}$\n",
    "\n",
    "$X_k(t)$ is continous time MC with $X_k(0) = X_k$\n",
    "$N_t(a) = $\\{k:X_k(t) = a\\}$\n",
    "\n",
    "i.e. $N_t$ is the number of visits to state $a$ in time $t$.\n",
    "\n",
    "$\\sum_a\\pi(a)Q_{ab}=0$ for each $b$ with the constraint $\\sum_a\\pi(a)=1$\n",
    "\n",
    "\n",
    "$\\sum_a\\pi(a)Q_{ab}=0$ $\\implies$ $\\vec{\\pi}^TQ=0$ $\\implies$ \n",
    "\n",
    "$$\n",
    "\\begin{align*}\n",
    "\\vec{\\pi}^TQ&=0\\\\\n",
    "\\Longleftrightarrow \\vec{\\pi}^TQ^n&=0\\ \\  \\forall n \\geq 1\\\\ \n",
    "\\Longleftrightarrow \\sum_{n\\geq 1}\\vec{\\pi}\\frac{t^n}{n!}Q^n &=0 \\ \\  \\forall t \\geq 0\\\\\n",
    "\\Longleftrightarrow \\vec{\\pi}\\sum_{n\\geq 0}\\frac{t^n}{n!}Q^n &=\\vec{\\pi}\\\\\n",
    "\\Longleftrightarrow \\vec{\\pi}P &=\\vec{\\pi}\\\\\n",
    "\\Longleftrightarrow \\vec{\\pi}\\  \\text{is a stationary distribution}\n",
    "\\end{align*}\n",
    "$$\n",
    "\n",
    "Now, $P(X_k(t)=a)=\\pi(a)$ and $N_t(a) = \\{k:X_k(t) = a\\}$ $\\implies$ $N_t(a)|N \\sim Binom(N, \\pi(a))$ and \n",
    "$N \\sim Poisson(\\lambda)$ then $N_t \\sim Poisson(\\lambda \\pi)$ [We did this in class TODO]"
   ]
  },
  {
   "cell_type": "markdown",
   "metadata": {
    "collapsed": true
   },
   "source": [
    "## Problem 2"
   ]
  },
  {
   "cell_type": "code",
   "execution_count": 97,
   "metadata": {
    "collapsed": false
   },
   "outputs": [],
   "source": [
    "%matplotlib inline\n",
    "from __future__ import division\n",
    "import matplotlib\n",
    "matplotlib.rcParams['figure.figsize'] = (16,12)\n",
    "import matplotlib.pyplot as plt\n",
    "import numpy as np\n",
    "N_iterations = 100000\n",
    "\n",
    "def propose(S):\n",
    "    r = np.random.choice(len(S), 2)\n",
    "    rs = np.sort(r)\n",
    "    j,k=rs[0],rs[1]\n",
    "    y=np.copy(S)\n",
    "    y[j:k+1] = y[j:k+1][::-1]\n",
    "    return y\n",
    "\n",
    "def count_cycles(S):\n",
    "    sample_length = len(S)\n",
    "    n_cycles = 0\n",
    "    index = 0\n",
    "    length_travelled = 0\n",
    "    visited = []\n",
    "    while length_travelled < sample_length:\n",
    "        if S[index] == index and index < sample_length :\n",
    "            index+=1\n",
    "            n_cycles+=1\n",
    "            length_travelled+=1\n",
    "        else:\n",
    "            visited.append(index)\n",
    "            index = S[index]\n",
    "            length_travelled+=1\n",
    "            if index not in visited:\n",
    "                n_cycles+=1\n",
    "    return n_cycles\n",
    "            \n"
   ]
  },
  {
   "cell_type": "code",
   "execution_count": 98,
   "metadata": {
    "collapsed": true
   },
   "outputs": [],
   "source": [
    "N = [2,3,4]\n",
    "alpha = 3"
   ]
  },
  {
   "cell_type": "code",
   "execution_count": 99,
   "metadata": {
    "collapsed": false
   },
   "outputs": [
    {
     "data": {
      "text/plain": [
       "2"
      ]
     },
     "execution_count": 99,
     "metadata": {},
     "output_type": "execute_result"
    }
   ],
   "source": [
    "count_cycles([0,1])"
   ]
  },
  {
   "cell_type": "code",
   "execution_count": 100,
   "metadata": {
    "collapsed": false
   },
   "outputs": [
    {
     "data": {
      "text/plain": [
       "2"
      ]
     },
     "execution_count": 100,
     "metadata": {},
     "output_type": "execute_result"
    }
   ],
   "source": [
    "count_cycles([0,2,1])"
   ]
  },
  {
   "cell_type": "code",
   "execution_count": 102,
   "metadata": {
    "collapsed": false
   },
   "outputs": [
    {
     "name": "stdout",
     "output_type": "stream",
     "text": [
      "12 0.8902\n",
      "21 0.1098\n"
     ]
    }
   ],
   "source": [
    "oldS = np.arange(N[0])\n",
    "old_n_cycles = count_cycles(oldS)\n",
    "count_dict = {}\n",
    "for i in range(N_iterations):\n",
    "    proposedS = propose(oldS)\n",
    "    new_n_cycles = count_cycles(proposedS)\n",
    "    pi_ab = new_n_cycles**alpha/(old_n_cycles**alpha)\n",
    "    q = min(1,pi_ab)\n",
    "    if q>= np.random.uniform():\n",
    "        oldS = proposedS\n",
    "        old_n_cycles = new_n_cycles\n",
    "    key = ''.join([str(x+1) for x in oldS.tolist()])\n",
    "    if key not in count_dict:\n",
    "        count_dict[key]=0\n",
    "    count_dict[key]+=1\n",
    "        \n",
    "for key in sorted(count_dict.keys()):\n",
    "    print key, count_dict[key]/N_iterations"
   ]
  },
  {
   "cell_type": "code",
   "execution_count": null,
   "metadata": {
    "collapsed": true
   },
   "outputs": [],
   "source": []
  },
  {
   "cell_type": "code",
   "execution_count": null,
   "metadata": {
    "collapsed": true
   },
   "outputs": [],
   "source": []
  }
 ],
 "metadata": {
  "kernelspec": {
   "display_name": "Python 2",
   "language": "python",
   "name": "python2"
  },
  "language_info": {
   "codemirror_mode": {
    "name": "ipython",
    "version": 2
   },
   "file_extension": ".py",
   "mimetype": "text/x-python",
   "name": "python",
   "nbconvert_exporter": "python",
   "pygments_lexer": "ipython2",
   "version": "2.7.6"
  }
 },
 "nbformat": 4,
 "nbformat_minor": 0
}
