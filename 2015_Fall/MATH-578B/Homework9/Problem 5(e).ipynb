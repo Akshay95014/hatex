{
 "cells": [
  {
   "cell_type": "code",
   "execution_count": 2,
   "metadata": {
    "collapsed": false
   },
   "outputs": [],
   "source": [
    "%matplotlib inline\n",
    "from __future__ import division\n",
    "import numpy as np\n",
    "from numpy import linalg as LA\n",
    "import matplotlib.pyplot as plt\n",
    "import seaborn as sns\n",
    "p = np.array([1/6,1/3,1/3,1/6])\n",
    "n_indiv = 200\n",
    "n_haplotypes = 2*n_indiv\n",
    "haplotype_config = [[0,0],[0,1],[1,0],[1,1]]\n",
    "haplotype_count_dict = {'[0,0]':0,'[0,1]':0, '[1,0]':0, '[1,1]':0}\n",
    "max_iter = 1000\n",
    "def count_g(genotype,i,j,ph):\n",
    "    n0000 = genotype[0,0,0,0];\n",
    "    n0001 = genotype[0,0,1,0]+genotype[0,0,1,0]\n",
    "    n0100 = genotype[1,0,0,0]+genotype[0,1,0,0]\n",
    "    n0101 = genotype[1,0,1,0]+genotype[0,1,0,1] + genotype[0,1,1,0] + genotype[1,0,0,1]\n",
    "    n0111 = genotype[1,0,1,1]+genotype[0,1,1,1]\n",
    "    n1101 = genotype[1,1,1,0]+genotype[1,1,0,1]\n",
    "    n0011 = genotype[0,0,1,1]\n",
    "    n1111 = genotype[1,1,1,1]\n",
    "    n1100 = genotype[1,1,0,0]\n",
    "    d = ph[0,0]*ph[1,1]+ph[0,1]*ph[1,0]\n",
    "    if(i==0 and j==0):\n",
    "        return 2*n0000+n0001+n0100+n0101*(ph[0,0]*ph[1,1]/d)\n",
    "    elif(i==0 and j==1):\n",
    "        return 2*n0011+n0001+n0111+n0101*(ph[0,1]*ph[1,0]/d)\n",
    "    elif(i==1 and j==0):\n",
    "        return 2*n1100+n1101+n0100+n0101*(ph[0,1]*ph[1,0]/d)\n",
    "    else:\n",
    "        return 2*n1111+n1101+n0111+n0101*(ph[0,0]*ph[1,1]/d) \n",
    "norms = []\n",
    "for i in range(1,max_iter):\n",
    "    assign_hap = np.random.choice(4, n_haplotypes ,p=p)\n",
    "    config = []\n",
    "    for ah in assign_hap:\n",
    "        config.append(haplotype_config[ah])\n",
    "\n",
    "    genotype = np.zeros((2,2,2,2))\n",
    "    for j in range(0,n_haplotypes-1):\n",
    "        genotype[config[j][0], config[j][1], config[j+1][0], config[j+1][1]]+=1\n",
    "\n",
    "    n0 = np.ones((2,2))*n_indiv/2\n",
    "    ph = np.zeros((2,2))\n",
    "    pnew = n0/n_haplotypes\n",
    "    while (LA.norm(ph.flatten()-pnew.flatten(),2)>1e-6):\n",
    "        n0[0,0] = count_g(genotype,0,0,pnew)\n",
    "        n0[0,1] = count_g(genotype,0,1,pnew)\n",
    "        n0[1,0] = count_g(genotype,1,0,pnew)\n",
    "        n0[1,1] = count_g(genotype,1,1,pnew)\n",
    "        ph = pnew\n",
    "        pnew = n0/n_haplotypes\n",
    "    norms.append(LA.norm(ph.flatten()-pnew.flatten(),2))"
   ]
  },
  {
   "cell_type": "code",
   "execution_count": 5,
   "metadata": {
    "collapsed": false
   },
   "outputs": [
    {
     "data": {
      "text/plain": [
       "<matplotlib.text.Text at 0x108594810>"
      ]
     },
     "execution_count": 5,
     "metadata": {},
     "output_type": "execute_result"
    },
    {
     "data": {
      "image/png": "[encoded data removed]",
      "text/plain": [
       "<matplotlib.figure.Figure at 0x1083d7f50>"
      ]
     },
     "metadata": {},
     "output_type": "display_data"
    }
   ],
   "source": [
    "plt.hist(norms)\n",
    "plt.xlabel('Euclidean Distance')\n",
    "plt.ylabel('Frequency')\n",
    "plt.title('Euclidean distance between simulated and original solution')"
   ]
  },
  {
   "cell_type": "code",
   "execution_count": null,
   "metadata": {
    "collapsed": true
   },
   "outputs": [],
   "source": []
  }
 ],
 "metadata": {
  "kernelspec": {
   "display_name": "Python 2",
   "language": "python",
   "name": "python2"
  },
  "language_info": {
   "codemirror_mode": {
    "name": "ipython",
    "version": 2
   },
   "file_extension": ".py",
   "mimetype": "text/x-python",
   "name": "python",
   "nbconvert_exporter": "python",
   "pygments_lexer": "ipython2",
   "version": "2.7.10"
  }
 },
 "nbformat": 4,
 "nbformat_minor": 0
}
