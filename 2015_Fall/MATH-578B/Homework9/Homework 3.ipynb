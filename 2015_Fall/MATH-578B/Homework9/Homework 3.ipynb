{
 "cells": [
  {
   "cell_type": "code",
   "execution_count": 153,
   "metadata": {
    "collapsed": false
   },
   "outputs": [],
   "source": [
    "from __future__ import division\n",
    "from ipy_table import *\n",
    "locus1_alleles = ['a', 'A']\n",
    "locus2_alleles = ['b', 'B']\n",
    "\n",
    "locus1_genotypes = set([('').join(sorted(x+y)) for x in locus1_alleles for y in  locus1_alleles])\n",
    "locus2_genotypes = set([('').join(sorted(x+y)) for x in locus2_alleles for y in  locus2_alleles])\n",
    "locus1_genotypes = sorted(locus1_genotypes)\n",
    "locus2_genotypes = sorted(locus2_genotypes)"
   ]
  },
  {
   "cell_type": "code",
   "execution_count": 154,
   "metadata": {
    "collapsed": false
   },
   "outputs": [],
   "source": [
    "phenotypes = sorted(locus2_genotypes)\n",
    "phenotypes = [['Locus'] + phenotypes]\n",
    "for i, l1 in enumerate(locus1_genotypes):\n",
    "    phenotypes.append([locus1_genotypes[i]])\n",
    "    for j, l2 in enumerate(locus2_genotypes):\n",
    "        phenotype = list(set([('').join(sorted(x+y)) for x in l1 for y in l2]))\n",
    "        if len(phenotype)==1:\n",
    "            element = '{}/{}'.format(phenotype[0], phenotype[0])\n",
    "        elif len(phenotype)==2:\n",
    "            element = '{}/{}'.format(phenotype[0], phenotype[1])\n",
    "        else:\n",
    "            element = '{}/{}, {}/{}'.format(phenotype[0], phenotype[3], phenotype[1], phenotype[2])\n",
    "        phenotypes[i+1].append(element)                          "
   ]
  },
  {
   "cell_type": "code",
   "execution_count": 155,
   "metadata": {
    "collapsed": false
   },
   "outputs": [
    {
     "data": {
      "text/html": [
       "<table border=\"1\" cellpadding=\"3\" cellspacing=\"0\"  style=\"border:1px solid black;border-collapse:collapse;\"><tr><td  style=\"background-color:White;border-left: 1px solid transparent;border-top: 1px solid transparent;\"><b>Locus</b></td><td  style=\"background-color:LightGray;\"><b>BB</b></td><td  style=\"background-color:LightGray;\"><b>Bb</b></td><td  style=\"background-color:LightGray;\"><b>bb</b></td></tr><tr><td  style=\"background-color:LightGray;\"><b>AA</b></td><td  style=\"background-color:Ivory;\">AB/AB</td><td  style=\"background-color:Ivory;\">AB/Ab</td><td  style=\"background-color:Ivory;\">Ab/Ab</td></tr><tr><td  style=\"background-color:LightGray;\"><b>Aa</b></td><td  style=\"background-color:AliceBlue;\">AB/Ba</td><td  style=\"background-color:red;\">AB/Ab,&nbspab/Ba</td><td  style=\"background-color:AliceBlue;\">Ab/ab</td></tr><tr><td  style=\"background-color:LightGray;\"><b>aa</b></td><td  style=\"background-color:Ivory;\">Ba/Ba</td><td  style=\"background-color:Ivory;\">ab/Ba</td><td  style=\"background-color:Ivory;\">ab/ab</td></tr></table>"
      ],
      "text/plain": [
       "<ipy_table.IpyTable at 0x7f495556d410>"
      ]
     },
     "execution_count": 155,
     "metadata": {},
     "output_type": "execute_result"
    }
   ],
   "source": [
    "make_table(phenotypes)\n",
    "apply_theme('basic_both')\n",
    "set_cell_style(2, 2, color='red')"
   ]
  },
  {
   "cell_type": "code",
   "execution_count": 156,
   "metadata": {
    "collapsed": true
   },
   "outputs": [],
   "source": [
    "data = [[10,15,5], [10,50,13], [3,13,10]]\n",
    "total = sum([sum(i) for i in zip(*data)])\n",
    "\n"
   ]
  },
  {
   "cell_type": "code",
   "execution_count": 157,
   "metadata": {
    "collapsed": false
   },
   "outputs": [
    {
     "data": {
      "text/plain": [
       "129"
      ]
     },
     "execution_count": 157,
     "metadata": {},
     "output_type": "execute_result"
    }
   ],
   "source": [
    "total"
   ]
  },
  {
   "cell_type": "code",
   "execution_count": 164,
   "metadata": {
    "collapsed": false
   },
   "outputs": [],
   "source": [
    "x = 10 #AB/Ab\n",
    "newx = 20\n",
    "counts = {}\n",
    "\n",
    "for i, l1 in enumerate(locus1_genotypes):\n",
    "    for j, l2 in enumerate(locus2_genotypes):\n",
    "        counts[l1+l2] = data[i][j]\n",
    "            \n",
    "p = {'AB':1/6, 'Ab': 1/3, 'aB': 1/3, 'ab': 1/6}    "
   ]
  },
  {
   "cell_type": "code",
   "execution_count": 165,
   "metadata": {
    "collapsed": false
   },
   "outputs": [
    {
     "data": {
      "text/plain": [
       "{'AABB': 10,\n",
       " 'AABb': 15,\n",
       " 'AAbb': 5,\n",
       " 'AaBB': 10,\n",
       " 'AaBb': 50,\n",
       " 'Aabb': 13,\n",
       " 'aaBB': 3,\n",
       " 'aaBb': 13,\n",
       " 'aabb': 10}"
      ]
     },
     "execution_count": 165,
     "metadata": {},
     "output_type": "execute_result"
    }
   ],
   "source": [
    "counts"
   ]
  },
  {
   "cell_type": "code",
   "execution_count": 166,
   "metadata": {
    "collapsed": false
   },
   "outputs": [
    {
     "name": "stdout",
     "output_type": "stream",
     "text": [
      "{'AB': 0.16666666666666666, 'ab': 0.16666666666666666, 'aB': 0.3333333333333333, 'Ab': 0.3333333333333333}\n",
      "20\n",
      "{'AB': 0.2131782945736434, 'ab': 0.2558139534883721, 'aB': 0.22868217054263565, 'Ab': 0.2131782945736434}\n",
      "10.0\n",
      "{'AB': 0.1744186046511628, 'ab': 0.21705426356589147, 'aB': 0.26744186046511625, 'Ab': 0.25193798449612403}\n",
      "26.4\n",
      "{'AB': 0.23798449612403103, 'ab': 0.2806201550387597, 'aB': 0.20387596899224805, 'Ab': 0.1883720930232558}\n",
      "17.9871520343\n",
      "{'AB': 0.2053765582723304, 'ab': 0.24801221718705907, 'aB': 0.23648390684394868, 'Ab': 0.22098003087495643}\n",
      "31.7447712848\n",
      "{'AB': 0.25870066389445745, 'ab': 0.30133632280918615, 'aB': 0.1831598012218216, 'Ab': 0.16765592525282935}\n",
      "24.6796509569\n",
      "{'AB': 0.23131647657709364, 'ab': 0.2739521354918223, 'aB': 0.21054398853918543, 'Ab': 0.19504011257019319}\n",
      "35.8702507371\n",
      "{'AB': 0.2746908943299741, 'ab': 0.31732655324470277, 'aB': 0.16716957078630496, 'Ab': 0.1516656948173127}\n",
      "30.3395168388\n",
      "{'AB': 0.25325394123551276, 'ab': 0.29588960015024146, 'aB': 0.18860652388076632, 'Ab': 0.17310264791177407}\n",
      "38.7336682141\n",
      "{'AB': 0.28578941168270544, 'ab': 0.32842507059743414, 'aB': 0.1560710534335736, 'Ab': 0.14056717746458136}\n",
      "34.8265347944\n",
      "{'AB': 0.2706454836991902, 'ab': 0.31328114261391893, 'aB': 0.17121498141708888, 'Ab': 0.15571110544809663}\n",
      "40.5273399969\n",
      "{'AB': 0.29274162789499225, 'ab': 0.3353772868097209, 'aB': 0.14911883722128683, 'Ab': 0.13361496125229458}\n",
      "38.0392532452\n",
      "{'AB': 0.2830978807954778, 'ab': 0.3257335397102065, 'aB': 0.15876258432080123, 'Ab': 0.14325870835180898}\n",
      "41.564803569\n",
      "{'AB': 0.296762804531068, 'ab': 0.3393984634457967, 'aB': 0.14509766058521104, 'Ab': 0.1295937846162188}\n",
      "40.1076895304\n",
      "{'AB': 0.29111507569913203, 'ab': 0.33375073461386073, 'aB': 0.15074538941714707, 'Ab': 0.13524151344815483}\n",
      "42.1339390444\n",
      "{'AB': 0.29896875598586, 'ab': 0.3416044149005887, 'aB': 0.1428917091304191, 'Ab': 0.12738783316142685}\n",
      "41.3281278596\n",
      "{'AB': 0.29584545682006036, 'ab': 0.33848111573478906, 'aB': 0.14601500829621875, 'Ab': 0.1305111323272265}\n",
      "42.4364638069\n",
      "{'AB': 0.30014133258470804, 'ab': 0.34277699149943675, 'aB': 0.14171913253157106, 'Ab': 0.12621525656257881}\n",
      "42.0061099332\n",
      "{'AB': 0.2984732943146459, 'ab': 0.3411089532293746, 'aB': 0.14338717080163313, 'Ab': 0.12788329483264088}\n",
      "42.5944708173\n",
      "{'AB': 0.3007537628578556, 'ab': 0.3433894217725843, 'aB': 0.14110670225842345, 'Ab': 0.1256028262894312}\n",
      "42.3691150141\n",
      "{'AB': 0.299880290752468, 'ab': 0.34251594966719673, 'aB': 0.14198017436381105, 'Ab': 0.1264762983948188}\n",
      "42.6762239242\n",
      "{'AB': 0.30107063536520895, 'ab': 0.3437062942799376, 'aB': 0.1407898297510701, 'Ab': 0.12528595378207785}\n",
      "42.5594631807\n",
      "{'AB': 0.30061807434378496, 'ab': 0.34325373325851366, 'aB': 0.1412423907724941, 'Ab': 0.12573851480350184}\n",
      "42.7183148726\n",
      "{'AB': 0.30123377857594513, 'ab': 0.34386943749067383, 'aB': 0.14062668654033392, 'Ab': 0.12512281057134167}\n",
      "42.6581566597\n",
      "{'AB': 0.30100060720807986, 'ab': 0.34363626612280856, 'aB': 0.14085985790819916, 'Ab': 0.1253559819392069}\n",
      "42.7399302012\n",
      "{'AB': 0.3013175589194921, 'ab': 0.3439532178342208, 'aB': 0.140542906196787, 'Ab': 0.12503903022779475}\n",
      "42.7090250865\n",
      "{'AB': 0.30119777165295464, 'ab': 0.3438334305676833, 'aB': 0.14066269346332447, 'Ab': 0.12515881749433222}\n",
      "42.7510158779\n",
      "{'AB': 0.30136052665853974, 'ab': 0.34399618557326844, 'aB': 0.14049993845773934, 'Ab': 0.12499606248874709}\n",
      "42.7351627744\n",
      "{'AB': 0.3012990805210366, 'ab': 0.34393473943576525, 'aB': 0.14056138459524248, 'Ab': 0.12505750862625023}\n",
      "42.7566974468\n",
      "{'AB': 0.3013825482433512, 'ab': 0.3440182071580799, 'aB': 0.14047791687292788, 'Ab': 0.12497404090393563}\n",
      "42.7485717001\n",
      "{'AB': 0.30135105310110344, 'ab': 0.3439867120158321, 'aB': 0.1405094120151756, 'Ab': 0.12500553604618336}\n",
      "42.7596083205\n",
      "{'AB': 0.3013938306997475, 'ab': 0.34402948961447616, 'aB': 0.14046663441653157, 'Ab': 0.1249627584475393}\n",
      "42.7554449949\n",
      "{'AB': 0.3013776937785332, 'ab': 0.3440133526932619, 'aB': 0.14048277133774592, 'Ab': 0.12497889536875366}\n",
      "42.761099401\n",
      "{'AB': 0.3013996100813268, 'ab': 0.3440352689960555, 'aB': 0.14046085503495223, 'Ab': 0.12495697906595998}\n",
      "42.7589667029\n",
      "{'AB': 0.3013913438098263, 'ab': 0.344027002724555, 'aB': 0.14046912130645278, 'Ab': 0.12496524533746053}\n",
      "42.7618631297\n",
      "{'AB': 0.30140257027021145, 'ab': 0.34403822918494015, 'aB': 0.1404578948460676, 'Ab': 0.12495401887707537}\n",
      "42.7607707511\n",
      "{'AB': 0.30139833624442003, 'ab': 0.3440339951591487, 'aB': 0.14046212887185905, 'Ab': 0.12495825290286681}\n",
      "42.7622542919\n",
      "{'AB': 0.3014040864027402, 'ab': 0.3440397453174689, 'aB': 0.14045637871353886, 'Ab': 0.1249525027445466}\n",
      "42.7616947999\n",
      "{'AB': 0.3014019178289627, 'ab': 0.34403757674369134, 'aB': 0.14045854728731635, 'Ab': 0.1249546713183241}\n",
      "42.7624546303\n",
      "{'AB': 0.30140486290818236, 'ab': 0.34404052182291106, 'aB': 0.1404556022080967, 'Ab': 0.12495172623910444}\n",
      "42.7621680788\n",
      "{'AB': 0.30140375224325844, 'ab': 0.34403941115798714, 'aB': 0.1404567128730206, 'Ab': 0.12495283690402836}\n",
      "42.7625572348\n",
      "{'AB': 0.30140526059986966, 'ab': 0.34404091951459836, 'aB': 0.1404552045164094, 'Ab': 0.12495132854741714}\n",
      "42.7624104755\n",
      "{'AB': 0.30140469176548224, 'ab': 0.34404035068021094, 'aB': 0.14045577335079684, 'Ab': 0.12495189738180461}\n",
      "42.7626097839\n",
      "{'AB': 0.3014054642786537, 'ab': 0.34404112319338237, 'aB': 0.14045500083762535, 'Ab': 0.1249511248686331}\n",
      "42.7625346207\n",
      "{'AB': 0.30140517294844454, 'ab': 0.3440408318631732, 'aB': 0.14045529216783456, 'Ab': 0.12495141619884233}\n",
      "42.762636697\n",
      "{'AB': 0.30140556859291245, 'ab': 0.34404122750764116, 'aB': 0.14045489652336665, 'Ab': 0.1249510205543744}\n",
      "42.7625982021\n",
      "{'AB': 0.3014054193878334, 'ab': 0.3440410783025621, 'aB': 0.14045504572844567, 'Ab': 0.1249511697594534}\n",
      "42.7626504805\n",
      "{'AB': 0.3014056220174588, 'ab': 0.34404128093218744, 'aB': 0.1404548430988203, 'Ab': 0.12495096712982805}\n",
      "42.7626307653\n",
      "{'AB': 0.301405545602061, 'ab': 0.34404120451678966, 'aB': 0.14045491951421807, 'Ab': 0.12495104354522583}\n",
      "42.7626575397\n",
      "{'AB': 0.30140564937881636, 'ab': 0.344041308293545, 'aB': 0.14045481573746268, 'Ab': 0.12495093976847044}\n",
      "42.7626474426\n",
      "{'AB': 0.30140561024269963, 'ab': 0.3440412691574283, 'aB': 0.1404548548735795, 'Ab': 0.12495097890458724}\n",
      "42.7626611551\n",
      "{'AB': 0.30140566339191743, 'ab': 0.34404132230664614, 'aB': 0.14045480172436162, 'Ab': 0.12495092575536935}\n",
      "42.7626559839\n",
      "{'AB': 0.30140564334838005, 'ab': 0.34404130226310875, 'aB': 0.140454821767899, 'Ab': 0.12495094579890677}\n",
      "42.7626630067\n",
      "{'AB': 0.3014056705687162, 'ab': 0.3440413294834449, 'aB': 0.14045479454756282, 'Ab': 0.12495091857857057}\n",
      "42.7626603583\n",
      "{'AB': 0.3014056603034339, 'ab': 0.34404131921816256, 'aB': 0.1404548048128452, 'Ab': 0.12495092884385293}\n",
      "42.762663955\n",
      "{'AB': 0.30140567424430775, 'ab': 0.34404133315903646, 'aB': 0.14045479087197132, 'Ab': 0.12495091490297908}\n",
      "42.7626625986\n",
      "{'AB': 0.3014056689869519, 'ab': 0.3440413279016806, 'aB': 0.14045479612932715, 'Ab': 0.12495092016033489}\n",
      "42.7626644407\n"
     ]
    }
   ],
   "source": [
    "while abs(newx-x)>= 1e-6:\n",
    "    x = newx\n",
    "    print(p)\n",
    "    newx = counts['AaBb'] * (p['AB']*p['ab']/(p['AB']*p['ab']+p['Ab']*p['aB']))\n",
    "    print(x)\n",
    "    p['AB'] = (2*counts['AABB']+ counts['AABb'] + x)/(2*total)\n",
    "    p['Ab'] = (counts['AABb']+2*counts['AAbb']+counts['AaBb']-x)/(2*total)\n",
    "    p['aB'] = (counts['AaBB']+counts['AaBb']-x+2*counts['aaBB']+counts['Aabb'])/(2*total)\n",
    "    p['ab'] = (x+counts['aaBb']+counts['Aabb']+2*counts['aabb'])/(2*total)\n",
    "    "
   ]
  },
  {
   "cell_type": "code",
   "execution_count": 167,
   "metadata": {
    "collapsed": false
   },
   "outputs": [
    {
     "data": {
      "text/plain": [
       "42.762664440703766"
      ]
     },
     "execution_count": 167,
     "metadata": {},
     "output_type": "execute_result"
    }
   ],
   "source": [
    "x"
   ]
  },
  {
   "cell_type": "code",
   "execution_count": null,
   "metadata": {
    "collapsed": true
   },
   "outputs": [],
   "source": []
  }
 ],
 "metadata": {
  "kernelspec": {
   "display_name": "Python 2",
   "language": "python",
   "name": "python2"
  },
  "language_info": {
   "codemirror_mode": {
    "name": "ipython",
    "version": 2
   },
   "file_extension": ".py",
   "mimetype": "text/x-python",
   "name": "python",
   "nbconvert_exporter": "python",
   "pygments_lexer": "ipython2",
   "version": "2.7.10"
  }
 },
 "nbformat": 4,
 "nbformat_minor": 0
}
