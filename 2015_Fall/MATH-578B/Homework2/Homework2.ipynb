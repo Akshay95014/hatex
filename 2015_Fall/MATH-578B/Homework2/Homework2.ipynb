{
 "cells": [
  {
   "cell_type": "markdown",
   "metadata": {},
   "source": [
    "## Problem 2\n",
    "\n",
    "Define $h(a) = P(\\tau_{\\phi} < \\tau_{\\dagger}) | X_0=a)$\n",
    "\n",
    "To show: $P(X_{n+1}=b|X_n=a\\ and\\ \\tau_{\\phi} < \\tau_{\\dagger}) = \\frac{h(b)}{h(a)}P_{ab}$\n",
    "\n",
    "LHS: $P(X_{n+1}=b|X_n=a\\ and\\ \\tau_{\\phi} < \\tau_{\\dagger})$ \n",
    "#### Incorrect version\n",
    "LHS: \n",
    "~~\\begin{align}\n",
    "~~P(X_{1}=b|X_0=a\\ and\\ \\tau_{\\phi} < \\tau_{\\dagger}) &= P(X_{1}=b|X_0=a, \\tau_{\\phi} < \\tau_{\\dagger}|X_0=a)~~\\\\\n",
    "&=P(\\tau_{\\phi} < \\tau_{\\dagger}|X_0=a) \\times P(X_1=b|X_0=a)\\ \\text{if $a \\notin \\phi,\\dagger$}\\\\\n",
    "&=h(a) \\times P_{ab} \\\\\n",
    "&\\neq RHS??\n",
    "\\end{align}~~\n",
    "\n",
    "#### Corrected Version\n",
    "Consider \n",
    "\n",
    "$P(A|B,C)=P(X_{n+1}=b|X_n=a\\ and\\ \\tau_{\\phi} < \\tau_{\\dagger})$\n",
    "Then\n",
    "$P(A|B,C)= \\frac{P(A,B,C)}{P(B,C)}=\\frac{P(A,C|B)P(B)}{P(C|B)P(B)}=\\frac{P(A,C|B)}{P(C|B)} =\\frac{P(A|C) \\times{P(B|A,C)}}{P(B|C)}$\n",
    "\n",
    "Thus,\n",
    "\n",
    "$$\n",
    "LHS=P(X_{n+1}=b|X_n=a\\ and\\ \\tau_{\\phi} < \\tau_{\\dagger}) = \\frac{P(X_{n+1}=b,\\tau_{\\phi} < \\tau_{\\dagger}|X_n=a)}\n",
    "{P(\\tau_{\\phi} < \\tau_{\\dagger}|X_n=a)}\n",
    "$$\n",
    "\n",
    "Now,  $n > min(\\tau_{\\phi},\\tau_{\\dagger})$\n",
    "and hence:\n",
    "\n",
    "$$\n",
    "\\begin{align}\n",
    "P(X_{n+1}=b|X_n=a\\ and\\ \\tau_{\\phi} < \\tau_{\\dagger}) &= \\frac{P(X_{n+1}=b,\\tau_{\\phi} < \\tau_{\\dagger}|X_n=a)}\n",
    "{P(\\tau_{\\phi} < \\tau_{\\dagger}|X_n=a)} \\\\\n",
    "&=  \\frac{P(X_{n+1}=b|X_n=a)\\times P(\\tau_{\\phi} < \\tau_{\\dagger}|X_n=a,X_{n+1}=b)}{P(\\tau_{\\phi} < \\tau_{\\dagger}|X_n=a)}\n",
    "\\end{align}\n",
    "$$\n",
    "\n",
    "Using markov property and time homogeneity:\n",
    "$P(\\tau_{\\phi} < \\tau_{\\dagger}|X_n=a,X_{n+1}=b)=P(\\tau_{\\phi} < \\tau_{\\dagger}|X_0=b)$\n",
    "and hence:\n",
    "\n",
    "$$\n",
    "\\begin{align}\n",
    "P(X_{n+1}=b|X_n=a\\ and\\ \\tau_{\\phi} < \\tau_{\\dagger}) &=  \\frac{P(X_{n+1}=b|X_n=a)\\times P(\\tau_{\\phi} < \\tau_{\\dagger}|X_n=a,X_{n+1}=b)}{P(\\tau_{\\phi} < \\tau_{\\dagger}|X_n=a)}\\\\\n",
    "&=\\frac{h(b)\\times P_{ab}}{h(a)}\\\\\n",
    "&= RHS\n",
    "\\end{align}\n",
    "$$\n"
   ]
  },
  {
   "cell_type": "markdown",
   "metadata": {},
   "source": [
    "## Problem 3\n",
    "\n",
    "If initial state $X_t=A$,\n",
    "\n",
    "$P(X_{t+1}=A) = 0.5$ and $P(X_{t+1}=A\\cup\\{b\\}-\\{a\\})=0.5$\n",
    "\n",
    "**Observation 1**: $X_t$ is irreducbile. The construction allows to reach every state from any state.\n",
    "\n",
    "Example: Let $A=\\{1,2,3,4,5\\}$ for $n=10$ and $k=5$. let $a$=3 and let $b=6$\n",
    "\n",
    "Then we have: $P(X_{t+1}=\\{1,2,3,4,5\\}) = 0.5$ and $P(X_{t+1}=\\{1,2,4,5,x\\})=0.5*1/5$ where $x\\ \\in \\{6,7,8,9,10\\}$\n",
    "\n",
    "**Observation 2**: For $X$ to be aperioidic, it is imporatant to have the $X_{t+1}=X_t$ with probabulity 0.5(any non-zero probability would do). Otherwise the diagonal of the trasition probability matrix will be zero, and in such cases it is possible for the chain to be periodic. An example (without taking into account the actual transition probabilities) is:\n",
    "For state space.$\\{1,2,3,4\\}$\n",
    "$$\n",
    "P = \\begin{bmatrix}\n",
    "0 & 0.5 & 0 & 0.5\\\\\n",
    "0.5 & 0 & 0.5 & 0\\\\\n",
    "0 & 0.5 & 0 & 0.5\\\\\n",
    "0.5 & 0 & 0.5 & 0\\\\\n",
    "\\end{bmatrix}\n",
    "$$\n",
    "\n",
    "and $(P^2)_{ii}>0$\n",
    "It is possible to return to the same state with a period of 2:\n",
    "$P(X_n=2|X_0=1)= 0 \\ for\\ $n=2k$\\ and\\ 1\\ for\\ $n=2k-1$\\ where\\ k=1,2,3...$\n",
    "\n",
    "\n",
    "### About uniform stationary distribution\n",
    "\n",
    "From observations 1,2 we know that the markv chain is irreducible and aperiodic. There is another observation:\n",
    "\n",
    "**Observation 3**: $P$ the transition probabilty matrix is symmetric.\n",
    "\n",
    "$P_{ii} = 0.5$\n",
    "\n",
    "$P_{ij} = 0.5 * \\underbrace{\\frac{1}{|k|}}_\\text{Probability of selecting 'i' uniformly}  * \\underbrace{\\frac{1}{|A|-|k|}}_\\text{Probability of selecting 'j' uniformly}$ $\\forall j \\neq i$\n",
    "\n",
    "and hence $P_{ij} =P_{ji}$ $\\implies$ $P=P^T$ $\\implies$ $\\pi$ is uniformly distributed (Because $P$ is reversible)\n",
    "\n",
    "\n",
    " \n",
    "\n"
   ]
  },
  {
   "cell_type": "markdown",
   "metadata": {},
   "source": [
    "## Problem 4"
   ]
  },
  {
   "cell_type": "markdown",
   "metadata": {},
   "source": [
    "### Part (4a)"
   ]
  },
  {
   "cell_type": "code",
   "execution_count": 1,
   "metadata": {
    "collapsed": false
   },
   "outputs": [
    {
     "name": "stdout",
     "output_type": "stream",
     "text": [
      "[[ 0.417022    0.5234847   0.47514525 ...,  0.41077488  0.47791837\n",
      "   0.52720653]\n",
      " [ 0.5234847   0.5270581   0.72129764 ...,  0.17310173  0.36455267\n",
      "   0.90610878]\n",
      " [ 0.47514525  0.72129764  0.91560635 ...,  0.29658343  0.8926068\n",
      "   0.43092462]\n",
      " ..., \n",
      " [ 0.41077488  0.17310173  0.29658343 ...,  0.83527618  0.36756992\n",
      "   0.06630671]\n",
      " [ 0.47791837  0.36455267  0.8926068  ...,  0.36756992  0.50837092\n",
      "   0.09638852]\n",
      " [ 0.52720653  0.90610878  0.43092462 ...,  0.06630671  0.09638852\n",
      "   0.76279378]]\n"
     ]
    }
   ],
   "source": [
    "%matplotlib inline\n",
    "from __future__ import division\n",
    "import numpy as np\n",
    "import matplotlib.pyplot as plt\n",
    "np.random.seed(1)\n",
    "D = np.random.rand(100,100)\n",
    "## This is not symmetric, so we make it symmetric\n",
    "D = (D+D.T)/2\n",
    "print (D)"
   ]
  },
  {
   "cell_type": "code",
   "execution_count": 2,
   "metadata": {
    "collapsed": false
   },
   "outputs": [],
   "source": [
    "import math\n",
    "N_steps = 10000\n",
    "\n",
    "def L(sigma):\n",
    "    s=0\n",
    "    for i in range(0, len(sigma)-1):\n",
    "        s+=D[sigma[i], sigma[i+1]]\n",
    "    return s\n",
    "\n",
    "def propose(sigma):\n",
    "    r = np.random.choice(len(sigma), 2)\n",
    "    rs = np.sort(r)\n",
    "    j,k=rs[0],rs[1]\n",
    "    x=(sigma[j:k])#.reverse()\n",
    "    x=x[::-1]\n",
    "    x0=  sigma[:j]\n",
    "    x1 = sigma[k:]\n",
    "    y=np.concatenate((x0,x,x1))\n",
    "    return y\n",
    "\n",
    "\n",
    "def pi(sigma,T):\n",
    "    return math.exp(-L(sigma)/T)\n",
    "\n",
    "def metropolis(sigma,T,L_0):\n",
    "    sigma_n = propose(sigma)\n",
    "    L_n = L(sigma_n)\n",
    "    pi_ab = math.exp(-(L_n-L_0)/T)\n",
    "    q = min(1, pi_ab)\n",
    "    b = np.random.uniform(size=1)\n",
    "    if (b<q):\n",
    "        return sigma_n\n",
    "    else:\n",
    "        return sigma\n",
    "    "
   ]
  },
  {
   "cell_type": "code",
   "execution_count": 3,
   "metadata": {
    "collapsed": false
   },
   "outputs": [
    {
     "name": "stdout",
     "output_type": "stream",
     "text": [
      "[80 49 18 11 67 21 88 85 81 86 52 39 52 13  9 98 78 46 26 63 86  2 96 45 13\n",
      " 67 37 36 54 63 65 58 49 48 59 26  2 26 44 29 34 72 62 52 75 72 95  0 51 39\n",
      " 60 24 95 80 34 36 55 31 66 80 56 23 20 56 59 27 27 89 80 34 58 74 70 81  7\n",
      " 35 29 74 13 99 43 60 27 97 16 55 25 19 45 80 48 73 22 31 20 16 17 59 28 70]\n"
     ]
    }
   ],
   "source": [
    "sigma_0 = np.random.choice(100,100)\n",
    "L_0 = L(sigma_0)\n",
    "print sigma_0"
   ]
  },
  {
   "cell_type": "code",
   "execution_count": 4,
   "metadata": {
    "collapsed": false
   },
   "outputs": [],
   "source": [
    "T = [0.05,10]\n",
    "def plotter(t):\n",
    "    L_history = []\n",
    "    sigma_history = []\n",
    "    sigma_0 = np.random.choice(100,100)\n",
    "    L_0 = L(sigma_0)\n",
    "    L_history.append(L_0)\n",
    "    sigma_history.append(sigma_0)\n",
    "    sigma = metropolis(sigma_0,t,L_0)\n",
    "    for i in range(1, N_steps):\n",
    "        sigma_t = metropolis(sigma_history[i-1],t,L_history[i-1])\n",
    "        L_1 = L(sigma_t)\n",
    "        L_history.append(L_1)\n",
    "        sigma_history.append(sigma_t)\n",
    "    plt.figure(0)\n",
    "\n",
    "    plt.hist(L_history, 20)\n",
    "    #plt.xlim(min(L_history)-25, max(L_history)+0.5)\n",
    "    plt.xlabel('Length')\n",
    "    plt.ylabel('Frequency')\n",
    "    plt.title('Frequency of L')\n",
    "    plt.figure(1)\n",
    "\n",
    "    plt.plot(range(1, N_steps+1),L_history)\n",
    "    plt.ylim(min(L_history), max(L_history))\n",
    "    plt.xlabel('N_steps')\n",
    "    plt.ylabel('L')\n",
    "    plt.title('Variation of L with N_steps')\n",
    "    return L_history"
   ]
  },
  {
   "cell_type": "markdown",
   "metadata": {},
   "source": [
    "## T = 0.05"
   ]
  },
  {
   "cell_type": "code",
   "execution_count": 5,
   "metadata": {
    "collapsed": false
   },
   "outputs": [
    {
     "data": {
      "image/png": "[encoded data removed]",
      "text/plain": [
       "<matplotlib.figure.Figure at 0x7f93a9c5f5d0>"
      ]
     },
     "metadata": {},
     "output_type": "display_data"
    },
    {
     "data": {
      "image/png": "[encoded data removed]",
      "text/plain": [
       "<matplotlib.figure.Figure at 0x7f93a98d8410>"
      ]
     },
     "metadata": {},
     "output_type": "display_data"
    }
   ],
   "source": [
    "L_t0=plotter(T[0])"
   ]
  },
  {
   "cell_type": "markdown",
   "metadata": {},
   "source": [
    "## T=10"
   ]
  },
  {
   "cell_type": "code",
   "execution_count": 6,
   "metadata": {
    "collapsed": false
   },
   "outputs": [
    {
     "data": {
      "image/png": "[encoded data removed]",
      "text/plain": [
       "<matplotlib.figure.Figure at 0x7f93c0176850>"
      ]
     },
     "metadata": {},
     "output_type": "display_data"
    },
    {
     "data": {
      "image/png": "[encoded data removed]",
      "text/plain": [
       "<matplotlib.figure.Figure at 0x7f93a97ccf50>"
      ]
     },
     "metadata": {},
     "output_type": "display_data"
    }
   ],
   "source": [
    "L_t1= plotter(T[1])"
   ]
  },
  {
   "cell_type": "markdown",
   "metadata": {},
   "source": [
    "## Correlation plots"
   ]
  },
  {
   "cell_type": "code",
   "execution_count": 7,
   "metadata": {
    "collapsed": false
   },
   "outputs": [
    {
     "name": "stderr",
     "output_type": "stream",
     "text": [
      "/home/saket/anaconda/lib/python2.7/site-packages/ipykernel/__main__.py:5: DeprecationWarning: using a non-integer number instead of an integer will result in an error in the future\n"
     ]
    }
   ],
   "source": [
    "from scipy.signal import correlate\n",
    "def autocorr(x):\n",
    "    result = correlate(x, x, mode='full')\n",
    "    result /= result[result.argmax()]\n",
    "    return result[result.size/2:]\n",
    "\n",
    "cov_t0 = autocorr(L_t0)\n",
    "cov_t1 = autocorr(L_t1)\n"
   ]
  },
  {
   "cell_type": "code",
   "execution_count": 8,
   "metadata": {
    "collapsed": false
   },
   "outputs": [
    {
     "data": {
      "text/plain": [
       "<matplotlib.text.Text at 0x7f939b2ff190>"
      ]
     },
     "execution_count": 8,
     "metadata": {},
     "output_type": "execute_result"
    },
    {
     "data": {
      "image/png": "[encoded data removed]",
      "text/plain": [
       "<matplotlib.figure.Figure at 0x7f93a9596550>"
      ]
     },
     "metadata": {},
     "output_type": "display_data"
    }
   ],
   "source": [
    "plt.plot(cov_t0)\n",
    "plt.ylabel('Autocorrelation')\n",
    "plt.xlabel('N_steps')\n",
    "plt.title('Autocorrelation of L_i for T=0.05')"
   ]
  },
  {
   "cell_type": "code",
   "execution_count": 9,
   "metadata": {
    "collapsed": false
   },
   "outputs": [
    {
     "data": {
      "text/plain": [
       "<matplotlib.text.Text at 0x7f939b296810>"
      ]
     },
     "execution_count": 9,
     "metadata": {},
     "output_type": "execute_result"
    },
    {
     "data": {
      "image/png": "[encoded data removed]",
      "text/plain": [
       "<matplotlib.figure.Figure at 0x7f939b2c2390>"
      ]
     },
     "metadata": {},
     "output_type": "display_data"
    }
   ],
   "source": [
    "plt.plot(cov_t1)\n",
    "plt.ylabel('Autocorrelation')\n",
    "plt.xlabel('N_steps')\n",
    "plt.title('Autocorrelation of L_i for T=10')"
   ]
  },
  {
   "cell_type": "markdown",
   "metadata": {},
   "source": [
    "#### Result\n",
    "The autocorrelation seems to be high even for large values of $N_{step}$ for both the temperature values. I expected higher $T$ to yield lower autocorrelations."
   ]
  },
  {
   "cell_type": "markdown",
   "metadata": {},
   "source": [
    "## Problem 1\n",
    "Let the state space be $S = \\{\\phi, \\alpha, \\beta, \\alpha+\\beta, pol, \\dagger\\}$ \n",
    "Definitions:\n",
    "1. $\\tau_a = \\{ n \\geq 0: X_n=a\\}$\n",
    "\n",
    "2. $N = \\sum_{k=0}^{\\tau_{\\phi}}I_{X_k=\\dagger}$ \n",
    "\n",
    "3. $u(a) = E[N|X_0=a] \\forall a \\in S $\n",
    "\n",
    "$u(a) = \\sum_{k=0}^{\\tau_{\\phi}}P(X_k=\\dagger|X_0=a)=\\sum_{b \\neq a, \\dagger }P(X_1=b|X_0=a)P(X_k=\\dagger|X_0=b)$ $\\implies$ $u(a)=\\sum_{b \\neq a, \\dagger} P_{ab}u(b)$\n",
    "\n",
    "And hence $u$ solves the following set of equations:\n",
    "\n",
    "$u=(I-P_{-})^{-1}v$ where v is (0,0,0,1) in this case. and $P_{-}$ represents the matrix with that last and first row and columns removed.\n"
   ]
  },
  {
   "cell_type": "code",
   "execution_count": 10,
   "metadata": {
    "collapsed": false
   },
   "outputs": [],
   "source": [
    "k_a=0.2\n",
    "k_b=0.2\n",
    "k_p=0.5\n",
    "P = np.matrix([[1-k_a-k_b, k_a ,k_b, 0, 0, 0],\n",
    "               [k_a, 1-k_a-k_b, 0, k_b, 0, 0],\n",
    "               [k_b, 0, 1-k_a-k_b, k_a, 0, 0],\n",
    "               [0, k_b, k_a, 1-k_a-k_b-k_p, k_p, 0],\n",
    "               [0, 0, 0, 0, 0, 1],\n",
    "               [0, 0, 0, 1, 0, 0]])\n"
   ]
  },
  {
   "cell_type": "code",
   "execution_count": 11,
   "metadata": {
    "collapsed": false
   },
   "outputs": [
    {
     "name": "stdout",
     "output_type": "stream",
     "text": [
      "[[ 0.4  0.  -0.2  0. ]\n",
      " [ 0.   0.4 -0.2  0. ]\n",
      " [-0.2 -0.2  0.9 -0.5]\n",
      " [ 0.   0.   0.   1. ]]\n",
      "[[ 2.85714286  0.35714286  0.71428571  0.35714286]\n",
      " [ 0.35714286  2.85714286  0.71428571  0.35714286]\n",
      " [ 0.71428571  0.71428571  1.42857143  0.71428571]\n",
      " [ 0.          0.          0.          1.        ]]\n"
     ]
    }
   ],
   "source": [
    "Q=P[1:5,1:5]\n",
    "iq = np.eye(4)-Q\n",
    "iqi = np.linalg.inv(iq)\n",
    "print(iq)\n",
    "print(iqi)"
   ]
  },
  {
   "cell_type": "code",
   "execution_count": 12,
   "metadata": {
    "collapsed": false
   },
   "outputs": [
    {
     "name": "stdout",
     "output_type": "stream",
     "text": [
      "U=[[ 0.35714286]\n",
      " [ 0.35714286]\n",
      " [ 0.71428571]\n",
      " [ 1.        ]]\n"
     ]
    }
   ],
   "source": [
    "print 'U={}'.format(iqi[:,-1])\n",
    "u=iqi[:,-1]"
   ]
  },
  {
   "cell_type": "code",
   "execution_count": 13,
   "metadata": {
    "collapsed": false
   },
   "outputs": [],
   "source": [
    "PP = {}\n",
    "states = ['phi', 'alpha', 'beta', 'ab', 'pol', 'd']\n",
    "\n",
    "PP['phi']= [1-k_a-k_b, k_a ,k_b, 0, 0, 0]\n",
    "PP['alpha'] = [k_a, 1-k_a-k_b, 0, k_b, 0, 0]\n",
    "PP['beta'] = [k_b, 0, 1-k_a-k_b, k_a, 0, 0]\n",
    "PP['ab']= [0, k_b, k_a, 1-k_a-k_b-k_p, k_p, 0]\n",
    "PP['pol']=  [0, 0, 0, 0, 0, 1]\n",
    "PP['d']= [0, 0, 0, 1, 0, 0]\n",
    "def h(x):\n",
    "    s=0\n",
    "    ht=0\n",
    "    cc=0\n",
    "    for j in range(1,100):\n",
    "        new_state=x\n",
    "        for i in range(1,10000):\n",
    "            old_state=new_state\n",
    "            probs = PP[old_state]\n",
    "            z=np.random.choice(6, 1, p=probs)\n",
    "            new_state = states[z[0]]\n",
    "            s+=z[0]\n",
    "            if new_state=='d':\n",
    "                ht+=i\n",
    "                cc+=1\n",
    "                break\n",
    "            else:\n",
    "                continue\n",
    "\n",
    "    return s/1000, ht/cc\n",
    "\n"
   ]
  },
  {
   "cell_type": "markdown",
   "metadata": {},
   "source": [
    "### $\\alpha$"
   ]
  },
  {
   "cell_type": "code",
   "execution_count": 14,
   "metadata": {
    "collapsed": false
   },
   "outputs": [
    {
     "name": "stdout",
     "output_type": "stream",
     "text": [
      "Simulation: 18.2323232323\t Calculation: [[ 0.35714286]]\n"
     ]
    }
   ],
   "source": [
    "print('Simulation: {}\\t Calculation: {}'.format(h('alpha')[1],u[0]))"
   ]
  },
  {
   "cell_type": "markdown",
   "metadata": {},
   "source": [
    "## $\\beta$"
   ]
  },
  {
   "cell_type": "code",
   "execution_count": 15,
   "metadata": {
    "collapsed": false
   },
   "outputs": [
    {
     "name": "stdout",
     "output_type": "stream",
     "text": [
      "Simulation: 17.0\t Calculation: [[ 0.35714286]]\n"
     ]
    }
   ],
   "source": [
    "print('Simulation: {}\\t Calculation: {}'.format(h('beta')[1],u[1]))"
   ]
  },
  {
   "cell_type": "markdown",
   "metadata": {},
   "source": [
    "## $\\alpha+\\beta$"
   ]
  },
  {
   "cell_type": "code",
   "execution_count": 16,
   "metadata": {
    "collapsed": false
   },
   "outputs": [
    {
     "name": "stdout",
     "output_type": "stream",
     "text": [
      "Simulation: 8.92929292929\t Calculation: [[ 0.71428571]]\n"
     ]
    }
   ],
   "source": [
    "print('Simulation: {}\\t Calculation: {}'.format(h('ab')[1],u[2]))"
   ]
  },
  {
   "cell_type": "markdown",
   "metadata": {},
   "source": [
    "## pol"
   ]
  },
  {
   "cell_type": "code",
   "execution_count": 17,
   "metadata": {
    "collapsed": false
   },
   "outputs": [
    {
     "name": "stdout",
     "output_type": "stream",
     "text": [
      "Simulation: 1.0\t Calculation: [[ 1.]]\n"
     ]
    }
   ],
   "source": [
    "print('Simulation: {}\\t Calculation: {}'.format(h('pol')[1],u[3]))"
   ]
  },
  {
   "cell_type": "markdown",
   "metadata": {},
   "source": [
    "## Result\n",
    "\n",
    "The simulation and calculation do not agree. The simulation implementation doesn't look correct. However, looking at $\\alpha$ and $\\beta$ results, the simulation and calculated results seem to be in-sync."
   ]
  },
  {
   "cell_type": "code",
   "execution_count": null,
   "metadata": {
    "collapsed": true
   },
   "outputs": [],
   "source": []
  }
 ],
 "metadata": {
  "kernelspec": {
   "display_name": "Python 2",
   "language": "python",
   "name": "python2"
  },
  "language_info": {
   "codemirror_mode": {
    "name": "ipython",
    "version": 2
   },
   "file_extension": ".py",
   "mimetype": "text/x-python",
   "name": "python",
   "nbconvert_exporter": "python",
   "pygments_lexer": "ipython2",
   "version": "2.7.10"
  }
 },
 "nbformat": 4,
 "nbformat_minor": 0
}
