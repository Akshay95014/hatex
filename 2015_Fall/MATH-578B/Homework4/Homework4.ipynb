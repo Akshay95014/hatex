{
 "cells": [
  {
   "cell_type": "markdown",
   "metadata": {},
   "source": [
    "### Given\n",
    "Density of bacteria in plate = $\\rho= 10/cm^2$\n",
    "Area $A=10cm^2$\n",
    "Probability of a bacteria carrying mutation = $\\mu$\n",
    "\n",
    "\n",
    "### Facts\n",
    "\n",
    "Bacteria on plate are like 'white and black'\n",
    "\n",
    "\n"
   ]
  }
 ],
 "metadata": {
  "kernelspec": {
   "display_name": "Python 2",
   "language": "python",
   "name": "python2"
  },
  "language_info": {
   "codemirror_mode": {
    "name": "ipython",
    "version": 2
   },
   "file_extension": ".py",
   "mimetype": "text/x-python",
   "name": "python",
   "nbconvert_exporter": "python",
   "pygments_lexer": "ipython2",
   "version": "2.7.10"
  }
 },
 "nbformat": 4,
 "nbformat_minor": 0
}
