{
 "cells": [
  {
   "cell_type": "markdown",
   "metadata": {},
   "source": [
    "### Given\n",
    "Density of bacteria in plate = $\\rho= 10/cm^2$\n",
    "Area $A=10cm^2$\n",
    "Probability of a bacteria carrying mutation = $\\mu$\n",
    "\n",
    "\n",
    "### Facts\n",
    "\n",
    "Bacteria on plate are like 'white and black' balls in a box with thw white ones representing the mutated copies.\n",
    "Thus, assuming total number $N \\sim Poisson(\\lambda)$ and the coordinates $(X_i,Y_i)$ to be in a uniform square(assume the 'dish' to be square ) it is safe to assume, that this is a poisson point process with intensity $\\mu$ and the mutated 'whites' make it a poisson coloring problem.\n",
    "\n",
    "Hence, if $MW$ represents the mutated whites and $UB$ represent the unmutated black balls, we have \n",
    "\n",
    "$MW \\sim PPP(\\mu\\rho)$ and $UB \\sim PPP((1-\\mu)\\rho)$\n",
    "\n",
    "\n",
    "Thus for part (a): P(probability that n 'mutated whites' exist) = $\\frac{e^{-\\rho\\mu A}(\\mu\\rho A)^n}{n!}$\n",
    "\n"
   ]
  },
  {
   "cell_type": "markdown",
   "metadata": {},
   "source": [
    "### Part (b)"
   ]
  },
  {
   "cell_type": "code",
   "execution_count": 1,
   "metadata": {
    "collapsed": true
   },
   "outputs": [],
   "source": [
    "from math import log, exp, e\n",
    "t_min_grow = log(10)/log(1.05)\n",
    "rho = 10\n",
    "A = 10\n",
    "N = rho*A\n"
   ]
  },
  {
   "cell_type": "code",
   "execution_count": 2,
   "metadata": {
    "collapsed": false
   },
   "outputs": [
    {
     "name": "stdout",
     "output_type": "stream",
     "text": [
      "47.1936328191\n"
     ]
    }
   ],
   "source": [
    "print t_min_grow"
   ]
  },
  {
   "cell_type": "markdown",
   "metadata": {},
   "source": [
    "Radius of cell growing for last $t$ minutes: $1.05^t \\times 10^{-3}cm$. Thus for a cell to form a detectable cluster it should grow for atleast: $\\frac{log(10)}{log(1.05}=47.19$ minutes"
   ]
  },
  {
   "cell_type": "markdown",
   "metadata": {},
   "source": [
    "And the total time for grow is $60$ minutes, so that MAX wait time before growth starts is $60-47.19=12.81$ minutes"
   ]
  },
  {
   "cell_type": "code",
   "execution_count": 3,
   "metadata": {
    "collapsed": false
   },
   "outputs": [
    {
     "name": "stdout",
     "output_type": "stream",
     "text": [
      "0.472971156268\n"
     ]
    }
   ],
   "source": [
    "delta = (1-exp(-12.81/20))\n",
    "print(delta)"
   ]
  },
  {
   "cell_type": "markdown",
   "metadata": {},
   "source": [
    "$\\delta = p(\\text{wait time $\\leq$ 12.81 minutes}) = 1-\\exp(-12.81/20) = 0.473$\n"
   ]
  },
  {
   "cell_type": "markdown",
   "metadata": {},
   "source": [
    "So now we need these criteria for calling a ball white: \n",
    "- It gets mutated (PPP)\n",
    "- It has a waiting time of <12.81 minutes\n",
    "\n",
    "So we have a new $PPP(\\rho \\mu \\delta)$ and \n",
    "$\\frac{17}{\\rho \\times A} = \\exp(-\\rho \\mu \\delta A) \\times \\frac{(\\rho \\mu \\delta A)^{17}}{17!}$"
   ]
  },
  {
   "cell_type": "markdown",
   "metadata": {},
   "source": [
    "$\\ln(\\frac{17}{\\rho A}) = -\\rho \\mu \\delta A + 17 \\ln(\\rho \\mu \\delta A) - \\ln(17!)$"
   ]
  },
  {
   "cell_type": "code",
   "execution_count": 4,
   "metadata": {
    "collapsed": false
   },
   "outputs": [],
   "source": [
    "from sympy import solve, Eq, symbols\n",
    "from mpmath import log as mpl\n",
    "from math import factorial\n",
    "mu= symbols('mu')\n",
    "lhs = log(17/100.0,e)\n",
    "rhs = Eq(-rho*mu*delta*A + 17*(rho*mu*delta*A-1) -mpl(factorial(17)))\n",
    "s = solve(rhs, mu)\n"
   ]
  },
  {
   "cell_type": "code",
   "execution_count": 5,
   "metadata": {
    "collapsed": false
   },
   "outputs": [
    {
     "name": "stdout",
     "output_type": "stream",
     "text": [
      "[0.0667391034061759]\n"
     ]
    }
   ],
   "source": [
    "print (s)"
   ]
  },
  {
   "cell_type": "markdown",
   "metadata": {},
   "source": [
    "Thus, approximated $\\mu = 0.0667$ for the given dataset!"
   ]
  },
  {
   "cell_type": "markdown",
   "metadata": {},
   "source": [
    "## Problem 2"
   ]
  },
  {
   "cell_type": "code",
   "execution_count": 6,
   "metadata": {
    "collapsed": false
   },
   "outputs": [
    {
     "name": "stdout",
     "output_type": "stream",
     "text": [
      "Populating the interactive namespace from numpy and matplotlib\n"
     ]
    },
    {
     "name": "stderr",
     "output_type": "stream",
     "text": [
      "WARNING: pylab import has clobbered these variables: ['solve', 'mpl', 'e', 'log', 'exp']\n",
      "`%matplotlib` prevents importing * from pylab and numpy\n"
     ]
    }
   ],
   "source": [
    "%pylab inline\n",
    "import matplotlib.pyplot as plt\n",
    "N = 10**6\n",
    "N_t = 10**6\n",
    "mu = 10**-6\n",
    "s = 0.001\n",
    "generations = 10000\n",
    "mu_t = N_t*mu\n",
    "\n",
    "from scipy.stats import poisson, binom \n",
    "import numpy as np\n",
    "\n",
    "def run_generations(distribution):\n",
    "    mutations = []\n",
    "    all_mutations = []\n",
    "    for t in range(generations):\n",
    "        # of mutations in generation t\n",
    "        offspring_mutations = []\n",
    "        for mutation in mutations:\n",
    "            # an individual carrying n mutations leaves behind on average (1 − s)^n copies of each of her genes\n",
    "            if distribution == 'poisson':\n",
    "                mutated_copies = np.sum(poisson.rvs(1-s, size=mutation))\n",
    "            else:\n",
    "                p = (1-s)/2\n",
    "                mutated_copies = np.sum(binom.rvs(2, p, size=mutation))\n",
    "            offspring_mutations.append(mutated_copies)\n",
    "\n",
    "        M_t =  poisson.rvs(mu_t, size=1)[0]\n",
    "        offspring_mutations.append(M_t)\n",
    "        ## Done with this generation\n",
    "        mutations = offspring_mutations\n",
    "        all_mutations.append(mutations)\n",
    "    return all_mutations"
   ]
  },
  {
   "cell_type": "markdown",
   "metadata": {},
   "source": [
    "## Poisson"
   ]
  },
  {
   "cell_type": "code",
   "execution_count": null,
   "metadata": {
    "collapsed": false
   },
   "outputs": [],
   "source": [
    "pylab.rcParams['figure.figsize'] = (16.0, 12.0)\n",
    "all_mutations = run_generations('poisson')\n",
    "plt.plot(range(1,generations+1),[np.mean(x) for x in all_mutations])\n",
    "plt.title('Average distinct mutation per generations')"
   ]
  },
  {
   "cell_type": "code",
   "execution_count": null,
   "metadata": {
    "collapsed": false
   },
   "outputs": [],
   "source": [
    "plt.plot(range(1,generations+1),[np.sum(x) for x in all_mutations])\n",
    "plt.title('Total mutation per generations')"
   ]
  },
  {
   "cell_type": "code",
   "execution_count": null,
   "metadata": {
    "collapsed": false
   },
   "outputs": [],
   "source": [
    "plt.hist([np.max(x) for x in all_mutations], 50)\n",
    "plt.title('Most common mutation')"
   ]
  },
  {
   "cell_type": "code",
   "execution_count": null,
   "metadata": {
    "collapsed": false
   },
   "outputs": [],
   "source": [
    "plt.hist([np.mean(x) for x in all_mutations], 50)\n",
    "plt.title('Distinct mutation')"
   ]
  },
  {
   "cell_type": "markdown",
   "metadata": {},
   "source": [
    "## Poisson Results"
   ]
  },
  {
   "cell_type": "code",
   "execution_count": null,
   "metadata": {
    "collapsed": false
   },
   "outputs": [],
   "source": [
    "mu = 10**-6\n",
    "s = 0.001\n",
    "N= 10**6\n",
    "theoretical_tot_mut = mu*N/s\n",
    "print(theoretical_tot_mut)"
   ]
  },
  {
   "cell_type": "code",
   "execution_count": null,
   "metadata": {
    "collapsed": false
   },
   "outputs": [],
   "source": [
    "print ('Average total mutations per generation: {}'.format(np.mean([np.sum(x) for x in all_mutations])))\n",
    "print ('Average distinct mutations per generation: {}'.format(np.mean([len(x) for x in all_mutations])))\n",
    "print ('Theoretical total mutations per generation: {}'.format(theoretical_tot_mut)\n"
   ]
  },
  {
   "cell_type": "markdown",
   "metadata": {
    "collapsed": true
   },
   "source": [
    "## Binomial"
   ]
  },
  {
   "cell_type": "code",
   "execution_count": null,
   "metadata": {
    "collapsed": false
   },
   "outputs": [],
   "source": [
    "pylab.rcParams['figure.figsize'] = (16.0, 12.0)\n",
    "all_mutations = run_generations('binomial')\n",
    "plt.plot(range(1,generations+1),[np.mean(x) for x in all_mutations])\n",
    "plt.title('Average distinct mutation per generations')"
   ]
  },
  {
   "cell_type": "code",
   "execution_count": null,
   "metadata": {
    "collapsed": false
   },
   "outputs": [],
   "source": [
    "plt.plot(range(1,generations+1),[np.sum(x) for x in all_mutations])\n",
    "plt.title('Total mutation per generations')"
   ]
  },
  {
   "cell_type": "code",
   "execution_count": null,
   "metadata": {
    "collapsed": false
   },
   "outputs": [],
   "source": [
    "plt.hist([np.max(x) for x in all_mutations], 50)\n",
    "plt.title('Most common mutation')"
   ]
  },
  {
   "cell_type": "code",
   "execution_count": null,
   "metadata": {
    "collapsed": false
   },
   "outputs": [],
   "source": [
    "plt.hist([np.mean(x) for x in all_mutations], 50)\n",
    "plt.title('Distinct mutation')"
   ]
  },
  {
   "cell_type": "markdown",
   "metadata": {},
   "source": [
    "## Binomial results\n"
   ]
  },
  {
   "cell_type": "code",
   "execution_count": null,
   "metadata": {
    "collapsed": false
   },
   "outputs": [],
   "source": [
    "mu = 10**-6\n",
    "s=0.001\n",
    "N= 10**6\n",
    "theoretical_tot_mut = mu*N/s\n",
    "print(theoretical_tot_mut)\n",
    "\n",
    "print ('Average total mutations per generation: {}'.format(np.mean([np.sum(x) for x in all_mutations])))\n",
    "print ('Average distinct mutations per generation: {}'.format(np.mean([len(x) for x in all_mutations])))\n",
    "print ('Theoretical total mutations per generation: {}'.format(theoretical_tot_mut)\n"
   ]
  },
  {
   "cell_type": "code",
   "execution_count": null,
   "metadata": {
    "collapsed": true
   },
   "outputs": [],
   "source": []
  }
 ],
 "metadata": {
  "kernelspec": {
   "display_name": "Python 2",
   "language": "python",
   "name": "python2"
  },
  "language_info": {
   "codemirror_mode": {
    "name": "ipython",
    "version": 2
   },
   "file_extension": ".py",
   "mimetype": "text/x-python",
   "name": "python",
   "nbconvert_exporter": "python",
   "pygments_lexer": "ipython2",
   "version": "2.7.10"
  }
 },
 "nbformat": 4,
 "nbformat_minor": 0
}
