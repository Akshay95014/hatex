{
 "cells": [
  {
   "cell_type": "markdown",
   "metadata": {},
   "source": [
    "### Given\n",
    "Density of bacteria in plate = $\\rho= 10/cm^2$\n",
    "Area $A=10cm^2$\n",
    "Probability of a bacteria carrying mutation = $\\mu$\n",
    "\n",
    "\n",
    "### Facts\n",
    "\n",
    "Bacteria on plate are like 'white and black' balls in a box with thw white ones representing the mutated copies.\n",
    "Thus, assuming total number $N \\sim Poisson(\\lambda)$ and the coordinates $(X_i,Y_i)$ to be in a uniform square(assume the 'dish' to be square ) it is safe to assume, that this is a poisson point process with intensity $\\mu$ and the mutated 'whites' make it a poisson coloring problem.\n",
    "\n",
    "Hence, if $MW$ represents the mutated whites and $UB$ represent the unmutated black balls, we have \n",
    "\n",
    "$MW \\sim PPP(\\mu\\rho)$ and $UB \\sim PPP((1-\\mu)\\rho)$\n",
    "\n",
    "\n",
    "Thus for part (a): P(probability that n 'mutated whites' exist) = $\\frac{e^{-\\rho\\mu}(\\mu\\rho)^n}{n!}$\n",
    "\n"
   ]
  },
  {
   "cell_type": "code",
   "execution_count": null,
   "metadata": {
    "collapsed": true
   },
   "outputs": [],
   "source": []
  }
 ],
 "metadata": {
  "kernelspec": {
   "display_name": "Python 2",
   "language": "python",
   "name": "python2"
  },
  "language_info": {
   "codemirror_mode": {
    "name": "ipython",
    "version": 2
   },
   "file_extension": ".py",
   "mimetype": "text/x-python",
   "name": "python",
   "nbconvert_exporter": "python",
   "pygments_lexer": "ipython2",
   "version": "2.7.10"
  }
 },
 "nbformat": 4,
 "nbformat_minor": 0
}
