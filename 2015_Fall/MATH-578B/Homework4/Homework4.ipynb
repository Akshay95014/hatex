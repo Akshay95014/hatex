{
 "cells": [
  {
   "cell_type": "markdown",
   "metadata": {},
   "source": [
    "### Given\n",
    "Density of bacteria in plate = $\\rho= 10/cm^2$\n",
    "Area $A=10cm^2$\n",
    "Probability of a bacteria carrying mutation = $\\mu$\n",
    "\n",
    "\n",
    "### Facts\n",
    "\n",
    "Bacteria on plate are like 'white and black' balls in a box with thw white ones representing the mutated copies.\n",
    "Thus, assuming total number $N \\sim Poisson(\\lambda)$ and the coordinates $(X_i,Y_i)$ to be in a uniform square(assume the 'dish' to be square ) it is safe to assume, that this is a poisson point process with intensity $\\mu$ and the mutated 'whites' make it a poisson coloring problem.\n",
    "\n",
    "Hence, if $MW$ represents the mutated whites and $UB$ represent the unmutated black balls, we have \n",
    "\n",
    "$MW \\sim PPP(\\mu\\rho)$ and $UB \\sim PPP((1-\\mu)\\rho)$\n",
    "\n",
    "\n",
    "Thus for part (a): P(probability that n 'mutated whites' exist) = $\\frac{e^{-\\rho\\mu}(\\mu\\rho)^n}{n!}$\n",
    "\n"
   ]
  },
  {
   "cell_type": "markdown",
   "metadata": {},
   "source": [
    "### Part (b)"
   ]
  },
  {
   "cell_type": "code",
   "execution_count": 12,
   "metadata": {
    "collapsed": true
   },
   "outputs": [],
   "source": [
    "from math import log, exp, e\n",
    "t_min_grow = log(10)/log(1.05)\n",
    "rho = 10\n",
    "A = 10\n",
    "N = rho*A\n"
   ]
  },
  {
   "cell_type": "code",
   "execution_count": 13,
   "metadata": {
    "collapsed": false
   },
   "outputs": [
    {
     "name": "stdout",
     "output_type": "stream",
     "text": [
      "47.1936328191\n"
     ]
    }
   ],
   "source": [
    "print t_min_grow"
   ]
  },
  {
   "cell_type": "markdown",
   "metadata": {},
   "source": [
    "Radius of cell growing for last $t$ minutes: $1.05^t \\times 10^{-3}cm$. Thus for a cell to form a detectable cluster it should grow for atleast: $\\frac{log(10)}{log(1.05}=47.19$ minutes"
   ]
  },
  {
   "cell_type": "markdown",
   "metadata": {},
   "source": [
    "And the total time for grow is $60$ minutes, so that MAX wait time before growth starts is $60-47.19=12.81$ minutes"
   ]
  },
  {
   "cell_type": "code",
   "execution_count": 19,
   "metadata": {
    "collapsed": false
   },
   "outputs": [
    {
     "name": "stdout",
     "output_type": "stream",
     "text": [
      "0.472971156268\n"
     ]
    }
   ],
   "source": [
    "delta = (1-exp(-12.81/20))\n",
    "print(delta)"
   ]
  },
  {
   "cell_type": "markdown",
   "metadata": {},
   "source": [
    "$\\delta = p(\\text{wait time $\\leq$ 12.81 minutes}) = 1-\\exp(-12.81/20) = 0.473$\n"
   ]
  },
  {
   "cell_type": "markdown",
   "metadata": {},
   "source": [
    "So now we need these criteria for calling a ball white: \n",
    "- It gets mutated (PPP)\n",
    "- It has a waiting time of <12.81 minutes\n",
    "\n",
    "So we have a new $PPP(\\rho \\mu \\delta)$ and \n",
    "$\\frac{17}{\\rho \\times A} = \\exp(-\\rho \\mu \\delta) \\times \\frac{(\\rho \\mu \\delta)^{17}}{17!}$"
   ]
  },
  {
   "cell_type": "markdown",
   "metadata": {},
   "source": [
    "$\\ln(\\frac{17}{\\rho A}) = -\\rho \\mu \\delta + 17 \\ln(\\rho \\mu \\delta) - \\ln(17!)$"
   ]
  },
  {
   "cell_type": "code",
   "execution_count": 25,
   "metadata": {
    "collapsed": false
   },
   "outputs": [],
   "source": [
    "from sympy import solve, Eq, symbols\n",
    "from mpmath import log as mpl\n",
    "from math import factorial\n",
    "mu= symbols('mu')\n",
    "lhs = log(17/100.0,e)\n",
    "rhs = Eq(-rho*mu*delta + 17*(rho*mu*delta-1) -mpl(factorial(17)))\n",
    "s = solve(rhs, mu)\n"
   ]
  },
  {
   "cell_type": "code",
   "execution_count": 26,
   "metadata": {
    "collapsed": false
   },
   "outputs": [
    {
     "name": "stdout",
     "output_type": "stream",
     "text": [
      "[0.667391034061759]\n"
     ]
    }
   ],
   "source": [
    "print (s)"
   ]
  },
  {
   "cell_type": "markdown",
   "metadata": {},
   "source": [
    "Thus, approximated $\\mu = 0.667$ for the given dataset!"
   ]
  }
 ],
 "metadata": {
  "kernelspec": {
   "display_name": "Python 2",
   "language": "python",
   "name": "python2"
  },
  "language_info": {
   "codemirror_mode": {
    "name": "ipython",
    "version": 2
   },
   "file_extension": ".py",
   "mimetype": "text/x-python",
   "name": "python",
   "nbconvert_exporter": "python",
   "pygments_lexer": "ipython2",
   "version": "2.7.10"
  }
 },
 "nbformat": 4,
 "nbformat_minor": 0
}
