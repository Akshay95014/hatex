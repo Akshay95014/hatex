{
 "cells": [
  {
   "cell_type": "markdown",
   "metadata": {},
   "source": [
    "$$\\vec{x(t)} = \\begin{bmatrix} y(t) & \\dot{y(t)}\\end{bmatrix}^T$$\n",
    "\n",
    "\\begin{eqnarray*}\n",
    "m\\ddot{y} + c\\dot{y} + ky = bu\\\\\n",
    "\\ddot{y} + \\frac{c}{m}\\dot{y} + \\frac{k}{m}y = \\frac{b}{m}u\\\\\n",
    "\\ddot{y} = -\\frac{c}{m}\\dot{y} - \\frac{k}{m}y - \\frac{b}{m}u\\\\\n",
    "\\end{eqnarray*}\n",
    "\n",
    "Thus we have:\n",
    "\n",
    "\\begin{eqnarray*}\n",
    "\\frac{dy}{dt} = \\dot{y}\\\\\n",
    "\\frac{d\\dot{y}}{dt} = -\\frac{c}{m}\\dot{y} - \\frac{k}{m}y - \\frac{b}{m}u\n",
    "\\end{eqnarray*}\n",
    "\n",
    "Thus,\n",
    "\\begin{eqnarray*}\n",
    "\\frac{d}{dt}\\begin{bmatrix} y(t) \\\\ \\dot{y}(t)  \\end{bmatrix} = \\begin{bmatrix} 0 & 1\\\\ -\\frac{k}{m} & -\\frac{c}{m} \\end{bmatrix} \\begin{bmatrix} y(t-1) \\\\ \\dot{y}(t-1) \\end{bmatrix} + \\begin{bmatrix} 0 \\\\ 1 \\end{bmatrix} u \\\\\n",
    "\\frac{d}{dt}\\vec{x}(t) = \\begin{bmatrix} 0 & 1\\\\ -\\frac{k}{m} & -\\frac{c}{m} \\end{bmatrix} \\vec{x}(t-1) + \\begin{bmatrix} 0 \\\\ 1 \\end{bmatrix} u \\\\\n",
    "\\frac{d}{dt}\\vec{x}(t) = F \\vec{x}(t-1) + B u \\\\\n",
    "\\end{eqnarray*}\n",
    "\n",
    "and the equation for measurement is given by:\n",
    "\\begin{eqnarray*}\n",
    "y_k = y(k\\tau) + \\omega_k\\\\\n",
    "y_k = \\begin{bmatrix} 1 \\\\ 0\\end{bmatrix}  \\begin{bmatrix} y(t-1) \\\\ \\dot{y}(t-1) \\end{bmatrix} + \\omega_k \\\\\n",
    "y_k = \\begin{bmatrix} 1 \\\\ 0\\end{bmatrix} \\vec{x}(t-1) + \\omega_k\n",
    "\\end{eqnarray*}"
   ]
  },
  {
   "cell_type": "markdown",
   "metadata": {},
   "source": [
    "For discrete time we approximate $\\phi = \\exp({F(t)\\Delta t})$ and hence (by using integrating factor $\\exp(\\int_{t_0}^T F(\\tau) d\\tau) = \\exp(Ft-F0) = \\exp(F(t))$\n",
    "$$\n",
    "\\phi = \\exp\\begin{bmatrix}\n",
    "0 & 1 \\\\\n",
    "-\\frac{k}{m} & -\\frac{c}{m}\n",
    "\\end{bmatrix} \\Delta t = \\exp\\begin{bmatrix}\n",
    "0 & \\Delta t \\\\\n",
    "-\\frac{k}{m} \\Delta t & -\\frac{c}{m} \\Delta t\n",
    "\\end{bmatrix}\n",
    "$$\n",
    "\n",
    "Similarly, $B = exp(F(t)) \\times B$\n",
    "\n",
    "$$\n",
    "B = \\exp\\begin{bmatrix}\n",
    "0 & \\Delta t \\\\\n",
    "-\\frac{k}{m} \\Delta t & -\\frac{c}{m} \\Delta t\n",
    "\\end{bmatrix} \\times \\begin{bmatrix} 0 \\\\ 1 \\end{bmatrix} = \\exp \\begin{bmatrix} \\Delta t \\\\ -\\frac{c}{m} \\Delta t  \\end{bmatrix}\n",
    "$$"
   ]
  },
  {
   "cell_type": "code",
   "execution_count": null,
   "metadata": {
    "collapsed": true
   },
   "outputs": [],
   "source": []
  }
 ],
 "metadata": {
  "kernelspec": {
   "display_name": "Python 2",
   "language": "python",
   "name": "python2"
  },
  "language_info": {
   "codemirror_mode": {
    "name": "ipython",
    "version": 2
   },
   "file_extension": ".py",
   "mimetype": "text/x-python",
   "name": "python",
   "nbconvert_exporter": "python",
   "pygments_lexer": "ipython2",
   "version": "2.7.11"
  }
 },
 "nbformat": 4,
 "nbformat_minor": 0
}
