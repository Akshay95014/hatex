{
 "cells": [
  {
   "cell_type": "markdown",
   "metadata": {},
   "source": [
    "$$\\vec{x(t)} = \\begin{bmatrix} y(t) & \\dot{y(t)}\\end{bmatrix}^T$$\n",
    "\n",
    "\\begin{eqnarray*}\n",
    "m\\ddot{y} + c\\dot{y} + ky = bu\\\\\n",
    "\\ddot{y} + \\frac{c}{m}\\dot{y} + \\frac{k}{m}y = \\frac{b}{m}u\\\\\n",
    "\\ddot{y} = -\\frac{c}{m}\\dot{y} - \\frac{k}{m}y - \\frac{b}{m}u\\\\\n",
    "\\end{eqnarray*}\n",
    "\n",
    "Thus we have:\n",
    "\n",
    "\\begin{eqnarray*}\n",
    "\\frac{dy}{dt} = \\dot{y}\\\\\n",
    "\\frac{d\\dot{y}}{dt} = -\\frac{c}{m}\\dot{y} - \\frac{k}{m}y - \\frac{b}{m}u\n",
    "\\end{eqnarray*}\n",
    "\n",
    "Thus,\n",
    "\\begin{eqnarray*}\n",
    "\\frac{d}{dt}\\begin{bmatrix} y(t) \\\\ \\dot{y}(t)  \\end{bmatrix} = \\begin{bmatrix} 0 & 1\\\\ -\\frac{k}{m} & -\\frac{c}{m} \\end{bmatrix} \\begin{bmatrix} y(t-1) \\\\ \\dot{y}(t-1) \\end{bmatrix} + \\begin{bmatrix} 0 \\\\ 1 \\end{bmatrix} u \\\\\n",
    "\\frac{d}{dt}\\vec{x}(t) = \\begin{bmatrix} 0 & 1\\\\ -\\frac{k}{m} & -\\frac{c}{m} \\end{bmatrix} \\vec{x}(t-1) + \\begin{bmatrix} 0 \\\\ 1 \\end{bmatrix} u \n",
    "\\end{eqnarray*}\n"
   ]
  },
  {
   "cell_type": "code",
   "execution_count": null,
   "metadata": {
    "collapsed": true
   },
   "outputs": [],
   "source": []
  }
 ],
 "metadata": {
  "kernelspec": {
   "display_name": "Python 2",
   "language": "python",
   "name": "python2"
  },
  "language_info": {
   "codemirror_mode": {
    "name": "ipython",
    "version": 2
   },
   "file_extension": ".py",
   "mimetype": "text/x-python",
   "name": "python",
   "nbconvert_exporter": "python",
   "pygments_lexer": "ipython2",
   "version": "2.7.11"
  }
 },
 "nbformat": 4,
 "nbformat_minor": 0
}
