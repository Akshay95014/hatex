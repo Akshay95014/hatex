{
 "cells": [
  {
   "cell_type": "code",
   "execution_count": 89,
   "metadata": {
    "collapsed": false
   },
   "outputs": [],
   "source": [
    "%matplotlib inline\n",
    "from __future__ import division\n",
    "import scipy\n",
    "from scipy.stats import binom, uniform\n",
    "import numpy as np\n",
    "import matplotlib.pyplot as plt\n",
    "import seaborn as sns\n",
    "import matplotlib.cm as cm\n",
    "from math import sqrt, pi, exp, log\n",
    "\n",
    "plt.rcParams['figure.figsize'] = (10.0, 8.0)\n",
    "T = 1000\n",
    "scale=1\n",
    "colors = cm.rainbow(np.linspace(0, 1, 6))\n",
    "scipy.set_printoptions(precision = 4, suppress = True)\n",
    "V = ['0','1','2','3','4','5']\n",
    "Q = ['-1','0','1']\n",
    "M = 5"
   ]
  },
  {
   "cell_type": "code",
   "execution_count": 90,
   "metadata": {
    "collapsed": true
   },
   "outputs": [],
   "source": [
    "def b(x, q):\n",
    "    p = binom.pmf(x, M, 0.5+0.25*q, loc=0)\n",
    "    return p\n",
    "\n",
    "def alpha_pass2(yt,A,B,PI):\n",
    "    alpha = [{} for t in range(0,T)]\n",
    "    c = [0 for t in range(0,T)]\n",
    "    alpha[0] = {i: PI[i]*B[i][yt[0]] for i in Q}\n",
    "    c[0] = sum(alpha[0].values())    \n",
    "    c[0]=1/c[0]\n",
    "    alpha[0].update((x, y*c[0]) for x, y in alpha[0].items())\n",
    "    for t in range(1,T):\n",
    "        for i in Q:\n",
    "            alpha[t][i] = sum([A[j][i]*alpha[t-1][i] for j in Q])                \n",
    "            alpha[t][i] = alpha[t][i]*B[i][yt[t]]\n",
    "            c[t] = c[t]+alpha[t][i]\n",
    "        c[t]=1/c[t]\n",
    "        alpha[t].update((x, y*c[t]) for x, y in alpha[t].items())\n",
    "    return {'alpha': alpha, 'c': c}\n",
    "\n",
    "\n",
    "\n",
    "def restimate(gamma, gammaij, yt, c ):\n",
    "    pi1 = {i: gamma[0][i] for i in Q}\n",
    "    #Aest = np.array([[0, 0, 0.], [0, 0, 0], [0, 0, 0]])\n",
    "    for i in Q:\n",
    "        Aest = {str(k):{} for k in Q}\n",
    "        for j in Q:\n",
    "            num = 0\n",
    "            denom = 0\n",
    "            for t in range(0,T-1):\n",
    "                num = num + gammaij[t][i][j]\n",
    "                denom = denom+ gamma[t][i]\n",
    "            Aest[i][str(j)] = num/denom\n",
    "            \n",
    "    for i in Q:\n",
    "        B = {k: {} for k in Q}\n",
    "        for j in V:\n",
    "            num = 0\n",
    "            denom = 0\n",
    "            for t in range(0,T):\n",
    "                if yt[t] == j:\n",
    "                    num = num + gamma[t][i]\n",
    "                denom = denom + gamma[t][i]\n",
    "            B[i][j] = num/denom\n",
    "    \n",
    "    logP = -sum(log(x) for x in c)        \n",
    "    return {'A': Aest, 'B': B, 'logP': logP}\n",
    "\n",
    "def viterbi(yt,PI,A,B):\n",
    "    delta = [{} for t in range(0,T)]\n",
    "    path = {}\n",
    "    for q in Q:\n",
    "        delta[0][q] = log(PI[q])+log(B[q][yt[0]]) \n",
    "        path[q] = [q]\n",
    "    #print path\n",
    "    for t in range(1,T):\n",
    "        tempath = {}\n",
    "        for q in Q:\n",
    "            (Z, state) =  max(( delta[t-1][x] +log(B[q][yt[t]]) + log(A[x][q]),x) for x in Q)\n",
    "            delta[t][q] = Z\n",
    "            #print(q,state)\n",
    "            tempath[q] = path[state]+[q]\n",
    "        path = tempath\n",
    "        #print path\n",
    "    #print(delta)\n",
    "    (p, state) = max((delta[T-1][q], q) for q in Q)\n",
    "    #print(p)\n",
    "    return path[state],delta\n",
    "\n",
    "def Yt(q):\n",
    "    q=float(q)\n",
    "    return str(binom.rvs(M, 0.5+0.25*q))\n",
    "\n",
    "\n",
    "def YtDiscrete(q):\n",
    "    values = ['-1', '0', '1']\n",
    "    probabilities = [0.005, 0.005, 0.005]\n",
    "    for i, x in enumerate(values):\n",
    "        if x==q:\n",
    "            probabilities[i] = 0.990            \n",
    "    return np.random.choice(values, p=probabilities)\n",
    "\n",
    "def run_hmm(A, PI, discrete=False):\n",
    "    states = []\n",
    "    probs = []\n",
    "    if discrete:\n",
    "        Y = YtDiscrete\n",
    "    else:\n",
    "        Y = Yt\n",
    "    for key,value in PI.iteritems():\n",
    "        states.append(key)\n",
    "        probs.append(value)\n",
    "    starting_state = np.random.choice(states,p=probs)\n",
    "    prev_state = starting_state\n",
    "    xt = [prev_state]\n",
    "    yt = [Y(prev_state)]\n",
    "    #print(xt,yt)\n",
    "    for t in range(1,T):\n",
    "        state_tpm = A[xt[t-1]]\n",
    "        row_states = []\n",
    "        row_probs = []\n",
    "        for key,value in state_tpm.iteritems():\n",
    "            row_states.append(key)\n",
    "            row_probs.append(value)\n",
    "        next_state = np.random.choice(row_states, p=row_probs)\n",
    "        xt.append(next_state)\n",
    "        yt.append(Y(next_state)) \n",
    "    return {'xt': xt, 'yt': yt}\n"
   ]
  },
  {
   "cell_type": "code",
   "execution_count": 91,
   "metadata": {
    "collapsed": false
   },
   "outputs": [],
   "source": [
    "V = ['0','1','2','3','4','5']\n",
    "Q = ['-1','0','1']\n",
    "B0 = {}\n",
    "for q in Q:\n",
    "    B0[q] = {}\n",
    "    for v in V:\n",
    "        vi = int(v)\n",
    "        B0[q][v] = b(vi, int(q))\n",
    "\n",
    "A0 = {'-1': {'-1': 0.990 , '0': 0.005, '1': 0.005} , \n",
    "     '0': {'-1': 0.005 , '0': 0.990, '1': 0.005} , \n",
    "     '1': {'-1': 0.005 , '0': 0.005, '1': 0.990}}\n",
    "PI0 = {'-1':1/3,'0':1/3,'1':1/3}\n",
    "B0  = A0\n",
    "V=Q"
   ]
  },
  {
   "cell_type": "markdown",
   "metadata": {},
   "source": [
    "## Part (a) [Check for discrete distro]"
   ]
  },
  {
   "cell_type": "code",
   "execution_count": 92,
   "metadata": {
    "collapsed": false
   },
   "outputs": [
    {
     "data": {
      "text/plain": [
       "<matplotlib.text.Text at 0x7fa1f1098b50>"
      ]
     },
     "execution_count": 92,
     "metadata": {},
     "output_type": "execute_result"
    },
    {
     "data": {
      "image/png": "[encoded data removed]",
      "text/plain": [
       "<matplotlib.figure.Figure at 0x7fa1f1070a10>"
      ]
     },
     "metadata": {},
     "output_type": "display_data"
    }
   ],
   "source": [
    "np.random.seed(100)\n",
    "for i in range(0,5):\n",
    "    d = run_hmm(A0, PI0, discrete=True)\n",
    "    xt = d['xt']\n",
    "    yt = d['yt']\n",
    "    plt.scatter(xt, yt, color=colors[i])\n",
    "plt.title('Y v/s X')\n",
    "plt.xlabel('x')\n",
    "plt.ylabel('y')"
   ]
  },
  {
   "cell_type": "code",
   "execution_count": 93,
   "metadata": {
    "collapsed": false
   },
   "outputs": [
    {
     "data": {
      "image/png": "[encoded data removed]",
      "text/plain": [
       "<matplotlib.figure.Figure at 0x7fa1f113fd50>"
      ]
     },
     "metadata": {},
     "output_type": "display_data"
    }
   ],
   "source": [
    "fig = plt.figure()\n",
    "np.random.seed(100)\n",
    "for i in range(0,5):\n",
    "    d = run_hmm(A0, PI0, discrete=True)\n",
    "    ax = fig.add_subplot(3,2,i+1)\n",
    "    xt = d['xt']\n",
    "    yt = d['yt']\n",
    "    xtp, delta = viterbi(yt,PI0,A0,B0)\n",
    "    plt.scatter(xtp, xt, color=colors[i])\n",
    "    plt.title('Run {}'.format(i+1))\n",
    "    plt.xlabel(\"x'\")\n",
    "    plt.ylabel('x')"
   ]
  },
  {
   "cell_type": "markdown",
   "metadata": {},
   "source": [
    "## Part (a) [Actual]"
   ]
  },
  {
   "cell_type": "code",
   "execution_count": 94,
   "metadata": {
    "collapsed": false
   },
   "outputs": [],
   "source": [
    "V = ['0','1','2','3','4','5']\n",
    "Q = ['-1','0','1']\n",
    "B0 = {}\n",
    "for q in Q:\n",
    "    B0[q] = {}\n",
    "    for v in V:\n",
    "        vi = int(v)\n",
    "        B0[q][v] = b(vi, int(q))\n",
    "\n",
    "A0 = {'-1': {'-1': 0.990 , '0': 0.005, '1': 0.005} , \n",
    "     '0': {'-1': 0.005 , '0': 0.990, '1': 0.005} , \n",
    "     '1': {'-1': 0.005 , '0': 0.005, '1': 0.990}}\n",
    "PI0 = {'-1':1/3,'0':1/3,'1':1/3}\n",
    "\n"
   ]
  },
  {
   "cell_type": "code",
   "execution_count": 95,
   "metadata": {
    "collapsed": false
   },
   "outputs": [
    {
     "data": {
      "text/plain": [
       "<matplotlib.text.Text at 0x7fa1f0b47c10>"
      ]
     },
     "execution_count": 95,
     "metadata": {},
     "output_type": "execute_result"
    },
    {
     "data": {
      "image/png": "[encoded data removed]",
      "text/plain": [
       "<matplotlib.figure.Figure at 0x7fa1f0ebc890>"
      ]
     },
     "metadata": {},
     "output_type": "display_data"
    }
   ],
   "source": [
    "np.random.seed(100)\n",
    "for i in range(0,5):\n",
    "    d = run_hmm(A0, PI0, discrete=False)\n",
    "    xt = d['xt']\n",
    "    yt = d['yt']\n",
    "    plt.scatter(xt, yt, color=colors[i])\n",
    "plt.title('Y v/s X')\n",
    "plt.xlabel('x')\n",
    "plt.ylabel('y')"
   ]
  },
  {
   "cell_type": "code",
   "execution_count": 96,
   "metadata": {
    "collapsed": false
   },
   "outputs": [
    {
     "data": {
      "image/png": "[encoded data removed]",
      "text/plain": [
       "<matplotlib.figure.Figure at 0x7fa1f13b2410>"
      ]
     },
     "metadata": {},
     "output_type": "display_data"
    }
   ],
   "source": [
    "fig = plt.figure()\n",
    "np.random.seed(100)\n",
    "for i in range(0,5):\n",
    "    d = run_hmm(A0, PI0, discrete=False)\n",
    "    ax = fig.add_subplot(3,2,i+1)\n",
    "    xt = d['xt']\n",
    "    yt = d['yt']\n",
    "    xtp, delta = viterbi(yt,PI0,A0,B0)\n",
    "    plt.scatter(xtp, xt, color=colors[i])\n",
    "    plt.title('Run {}'.format(i+1))\n",
    "    plt.xlabel(\"x'\")\n",
    "    plt.ylabel('x')"
   ]
  },
  {
   "cell_type": "markdown",
   "metadata": {},
   "source": [
    "## Part (b)"
   ]
  },
  {
   "cell_type": "code",
   "execution_count": 97,
   "metadata": {
    "collapsed": false
   },
   "outputs": [
    {
     "name": "stdout",
     "output_type": "stream",
     "text": [
      "logProb = -1846.46897755\n",
      "logProb = -1889.32552012\n",
      "logProb = -1861.71821553\n",
      "logProb = -1730.39971565\n",
      "logProb = -1676.97025488\n",
      "logProb = -1870.45855227\n"
     ]
    }
   ],
   "source": [
    "np.random.seed(100)\n",
    "for i in range(0,6):\n",
    "    d = run_hmm(A0, PI0)\n",
    "    xt = d['xt']\n",
    "    yt = d['yt']\n",
    "    alp = alpha_pass2(yt,A0,B0,PI0)\n",
    "    alpha = alp['alpha']\n",
    "    c = alp['c']\n",
    "    sumlogc = sum([log(x) for x in c])\n",
    "    prob = (-sumlogc)\n",
    "    print('logProb = {}'.format(prob))"
   ]
  },
  {
   "cell_type": "markdown",
   "metadata": {},
   "source": [
    "# Part (c)"
   ]
  },
  {
   "cell_type": "code",
   "execution_count": 108,
   "metadata": {
    "collapsed": true
   },
   "outputs": [],
   "source": [
    "def beta_pass2(yt,A,B,c):\n",
    "    beta = [{} for t in range(0,T)]\n",
    "    beta[T-1] = {i: c[T-1] for i in Q} \n",
    "    \n",
    "    for t in range(T-2,-1,-1):\n",
    "        for i in Q:\n",
    "            beta[t][i] = sum([A[i][j] *B[j][yt[t+1]] *beta[t+1][j] for j in Q])\n",
    "            beta[t][i] = c[t]*beta[t][i]\n",
    "        \n",
    "    return beta\n",
    "\n",
    "def gamma_pass2(yt, A, B, c, alpha, beta):\n",
    "    gammaij = [{} for t in range(0,T)]\n",
    "    gamma = [{} for t in range(0,T)]\n",
    "    for t in range(0,T-1):\n",
    "        denom = 0\n",
    "        for i in Q:\n",
    "            for j in Q:\n",
    "                denom = denom +  alpha[t][i]*A[i][j]*B[j][yt[t+1]]*beta[t+1][j]\n",
    "                \n",
    "        for i in Q:\n",
    "            gammaij[t][i] =  {}\n",
    "            for j in Q:\n",
    "                gammaij[t][i][j] = alpha[t][i]*A[i][j]*B[j][yt[t+1]]*beta[t+1][j]/denom\n",
    "            gamma[t][i] = sum(gammaij[t][i].values())\n",
    "            \n",
    "    denom = sum(alpha[T-1].values())\n",
    "    for i in Q:\n",
    "            gamma[T-1][i] = alpha[T-1][i]/denom\n",
    "    \n",
    "\n",
    "    return {'gamma': gamma, 'gammaij': gammaij}"
   ]
  },
  {
   "cell_type": "code",
   "execution_count": 113,
   "metadata": {
    "collapsed": false
   },
   "outputs": [
    {
     "data": {
      "image/png": "[encoded data removed]",
      "text/plain": [
       "<matplotlib.figure.Figure at 0x7fa1f0f310d0>"
      ]
     },
     "metadata": {},
     "output_type": "display_data"
    }
   ],
   "source": [
    "import operator\n",
    "fig = plt.figure()\n",
    "\n",
    "np.random.seed(100)\n",
    "for i in range(0,6):\n",
    "    d = run_hmm(A0, PI0)\n",
    "    xt = d['xt']\n",
    "    yt = d['yt']\n",
    "    alp = alpha_pass2(yt,A0,B0,PI0)\n",
    "    alpha = alp['alpha']\n",
    "    c = alp['c']\n",
    "    sumlogc = sum([log(x) for x in c])\n",
    "    prob = (-sumlogc)\n",
    "    beta = beta_pass2(yt,A0,B0,c)\n",
    "    gamm = gamma_pass2(yt, A0, B0, c, alpha, beta)\n",
    "    gamma = gamm['gamma']\n",
    "    xtp = []\n",
    "    for t in range(0,T):\n",
    "        stats = gamma[t]\n",
    "        ml = max(stats.iteritems(), key=operator.itemgetter(1))[0]\n",
    "        xtp.append(ml)\n",
    "    ax = fig.add_subplot(3,2,i+1)    \n",
    "    plt.scatter(xtp, xt, color=colors[i])\n",
    "    plt.title('Run {}'.format(i+1))\n",
    "    plt.xlabel(\"x'\")\n",
    "    plt.ylabel('x')"
   ]
  },
  {
   "cell_type": "markdown",
   "metadata": {},
   "source": [
    "# Part (e)"
   ]
  },
  {
   "cell_type": "code",
   "execution_count": null,
   "metadata": {
    "collapsed": true
   },
   "outputs": [],
   "source": []
  }
 ],
 "metadata": {
  "kernelspec": {
   "display_name": "Python 2",
   "language": "python",
   "name": "python2"
  },
  "language_info": {
   "codemirror_mode": {
    "name": "ipython",
    "version": 2
   },
   "file_extension": ".py",
   "mimetype": "text/x-python",
   "name": "python",
   "nbconvert_exporter": "python",
   "pygments_lexer": "ipython2",
   "version": "2.7.11"
  }
 },
 "nbformat": 4,
 "nbformat_minor": 0
}
