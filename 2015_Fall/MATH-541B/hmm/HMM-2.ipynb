{
 "cells": [
  {
   "cell_type": "code",
   "execution_count": 1,
   "metadata": {
    "collapsed": false
   },
   "outputs": [
    {
     "name": "stderr",
     "output_type": "stream",
     "text": [
      "/home/saket/anaconda/lib/python2.7/site-packages/matplotlib/__init__.py:872: UserWarning: axes.color_cycle is deprecated and replaced with axes.prop_cycle; please use the latter.\n",
      "  warnings.warn(self.msg_depr % (key, alt_key))\n"
     ]
    }
   ],
   "source": [
    "%matplotlib inline\n",
    "from __future__ import division\n",
    "import scipy\n",
    "from scipy.stats import binom, uniform\n",
    "import numpy as np\n",
    "import matplotlib.pyplot as plt\n",
    "import seaborn as sns\n",
    "import matplotlib.cm as cm\n",
    "from math import sqrt, pi, exp, log\n",
    "\n",
    "plt.rcParams['figure.figsize'] = (10.0, 8.0)\n",
    "T = 1000\n",
    "scale=1\n",
    "colors = cm.rainbow(np.linspace(0, 1, 6))\n",
    "scipy.set_printoptions(precision = 4, suppress = True)\n",
    "V = ['0','1','2','3','4','5']\n",
    "Q = ['-1','0','1']\n",
    "M = 5"
   ]
  },
  {
   "cell_type": "code",
   "execution_count": 2,
   "metadata": {
    "collapsed": true
   },
   "outputs": [],
   "source": [
    "def b(x, q):\n",
    "    p = binom.pmf(x, M, 0.5+0.25*q, loc=0)\n",
    "    return p\n",
    "\n",
    "def Yt(q):\n",
    "    q=float(q)\n",
    "    return str(binom.rvs(M, 0.5+0.25*q))\n",
    "\n",
    "\n",
    "def YtDiscrete(q):\n",
    "    values = ['-1', '0', '1']\n",
    "    probabilities = [0.005, 0.005, 0.005]\n",
    "    for i, x in enumerate(values):\n",
    "        if x==q:\n",
    "            probabilities[i] = 0.990            \n",
    "    return np.random.choice(values, p=probabilities)\n",
    "\n",
    "def alpha_pass2(O,A,B,PI):\n",
    "    alpha = [{} for t in range(0,T)]\n",
    "    c = [0 for t in range(0,T)]\n",
    "    alpha[0] = {i: PI[i]*B[i][O[0]] for i in Q}\n",
    "    c[0] = sum(alpha[0].values())    \n",
    "    c[0]=1/c[0]\n",
    "    alpha[0].update((x, y*c[0]) for x, y in alpha[0].items())\n",
    "    for t in range(1,T):\n",
    "        for i in Q:\n",
    "            alpha[t][i] = sum([A[j][i]*alpha[t-1][i] for j in Q])                \n",
    "            alpha[t][i] = alpha[t][i]*B[i][yt[t]]\n",
    "            c[t] = c[t]+alpha[t][i]\n",
    "        c[t]=1/c[t]\n",
    "        alpha[t].update((x, y*c[t]) for x, y in alpha[t].items())\n",
    "    return {'alpha': alpha, 'c': c}\n",
    "\n",
    "def beta_pass2(O,A,B,c):\n",
    "    beta = [{} for t in range(0,T)]\n",
    "    beta[T-1] = {i: c[T-1] for i in Q} \n",
    "    \n",
    "    for t in range(T-2,-1,-1):\n",
    "        for i in Q:\n",
    "            beta[t][i] = sum([A[i][j] *B[j][O[t+1]] *beta[t+1][j] for j in Q])\n",
    "            beta[t][i] = c[t]*beta[t][i]\n",
    "        \n",
    "    return beta\n",
    "\n",
    "def gamma_pass2(O, A, B, c, al, be):\n",
    "    gammaij = [{} for t in range(0,T)]\n",
    "    gamma = [{} for t in range(0,T)]\n",
    "    for t in range(0,T-1):\n",
    "        denom = 0\n",
    "        for i in Q:\n",
    "            for j in Q:\n",
    "                denom = denom +  al[t][i]*A[i][j]*B[j][O[t+1]]*be[t+1][j]\n",
    "                \n",
    "        for i in Q:\n",
    "            gammaij[t][i] =  {}\n",
    "            for j in Q:\n",
    "                gammaij[t][i][j] = al[t][i]*A[i][j]*B[j][O[t+1]]*be[t+1][j]/denom\n",
    "            gamma[t][i] = sum(gammaij[t][i].values())\n",
    "            \n",
    "    denom = sum(alpha[T-1].values())\n",
    "    for i in Q:\n",
    "            gamma[T-1][i] = al[T-1][i]/denom\n",
    "    \n",
    "\n",
    "    return {'gamma': gamma, 'gammaij': gammaij}\n",
    "\n",
    "def viterbi(yt,PI,A,B):\n",
    "    delta = [{} for t in range(0,T)]\n",
    "    path = {}\n",
    "    for q in Q:\n",
    "        delta[0][q] = log(PI[q])+log(B[q][yt[0]]) \n",
    "        path[q] = [q]\n",
    "    #print path\n",
    "    for t in range(1,T):\n",
    "        tempath = {}\n",
    "        for q in Q:\n",
    "            (Z, state) =  max(( delta[t-1][x] +log(B[q][yt[t]]) + log(A[x][q]),x) for x in Q)\n",
    "            delta[t][q] = Z\n",
    "            #print(q,state)\n",
    "            tempath[q] = path[state]+[q]\n",
    "        path = tempath\n",
    "        #print path\n",
    "    #print(delta)\n",
    "    (p, state) = max((delta[T-1][q], q) for q in Q)\n",
    "    #print(p)\n",
    "    return path[state],delta\n",
    "\n",
    "\n",
    "def run_hmm(A, PI, discrete=False):\n",
    "    states = []\n",
    "    probs = []\n",
    "    if discrete:\n",
    "        Y = YtDiscrete\n",
    "    else:\n",
    "        Y = Yt\n",
    "    for key,value in PI.iteritems():\n",
    "        states.append(key)\n",
    "        probs.append(value)\n",
    "    starting_state = np.random.choice(states,p=probs)\n",
    "    prev_state = starting_state\n",
    "    xt = [prev_state]\n",
    "    yt = [Y(prev_state)]\n",
    "    #print(xt,yt)\n",
    "    for t in range(1,T):\n",
    "        state_tpm = A[xt[t-1]]\n",
    "        row_states = []\n",
    "        row_probs = []\n",
    "        for key,value in state_tpm.iteritems():\n",
    "            row_states.append(key)\n",
    "            row_probs.append(value)\n",
    "        next_state = np.random.choice(row_states, p=row_probs)\n",
    "        xt.append(next_state)\n",
    "        yt.append(Y(next_state)) \n",
    "    return {'xt': xt, 'yt': yt}\n"
   ]
  },
  {
   "cell_type": "code",
   "execution_count": 3,
   "metadata": {
    "collapsed": false
   },
   "outputs": [],
   "source": [
    "V = ['0','1','2','3','4','5']\n",
    "Q = ['-1','0','1']\n",
    "B0 = {}\n",
    "for q in Q:\n",
    "    B0[q] = {}\n",
    "    for v in V:\n",
    "        vi = int(v)\n",
    "        B0[q][v] = b(vi, int(q))\n",
    "\n",
    "A0 = {'-1': {'-1': 0.990 , '0': 0.005, '1': 0.005} , \n",
    "     '0': {'-1': 0.005 , '0': 0.990, '1': 0.005} , \n",
    "     '1': {'-1': 0.005 , '0': 0.005, '1': 0.990}}\n",
    "PI0 = {'-1':1/3,'0':1/3,'1':1/3}\n"
   ]
  },
  {
   "cell_type": "markdown",
   "metadata": {},
   "source": [
    "## Part (a) [Check for discrete distro]"
   ]
  },
  {
   "cell_type": "code",
   "execution_count": 4,
   "metadata": {
    "collapsed": false
   },
   "outputs": [
    {
     "data": {
      "text/plain": [
       "<matplotlib.text.Text at 0x7fa5b8a25b50>"
      ]
     },
     "execution_count": 4,
     "metadata": {},
     "output_type": "execute_result"
    },
    {
     "data": {
      "image/png": "[encoded data removed]",
      "text/plain": [
       "<matplotlib.figure.Figure at 0x7fa5e4f872d0>"
      ]
     },
     "metadata": {},
     "output_type": "display_data"
    }
   ],
   "source": [
    "V = Q\n",
    "B0 = A0\n",
    "np.random.seed(100)\n",
    "for i in range(0,5):\n",
    "    d = run_hmm(A0, PI0, discrete=True)\n",
    "    xt = d['xt']\n",
    "    yt = d['yt']\n",
    "    plt.scatter(xt, yt, color=colors[i])\n",
    "plt.title('Y v/s X')\n",
    "plt.xlabel('x')\n",
    "plt.ylabel('y')"
   ]
  },
  {
   "cell_type": "code",
   "execution_count": 5,
   "metadata": {
    "collapsed": false
   },
   "outputs": [
    {
     "data": {
      "image/png": "[encoded data removed]",
      "text/plain": [
       "<matplotlib.figure.Figure at 0x7fa5b8a4a610>"
      ]
     },
     "metadata": {},
     "output_type": "display_data"
    }
   ],
   "source": [
    "fig = plt.figure()\n",
    "np.random.seed(100)\n",
    "for i in range(0,5):\n",
    "    d = run_hmm(A0, PI0, discrete=True)\n",
    "    ax = fig.add_subplot(3,2,i+1)\n",
    "    xt = d['xt']\n",
    "    yt = d['yt']\n",
    "    xtp, delta = viterbi(yt,PI0,A0,B0)\n",
    "    plt.scatter(xtp, xt, color=colors[i])\n",
    "    plt.title('Run {}'.format(i+1))\n",
    "    plt.xlabel(\"x'\")\n",
    "    plt.ylabel('x')"
   ]
  },
  {
   "cell_type": "markdown",
   "metadata": {},
   "source": [
    "## Part (a) [Actual]"
   ]
  },
  {
   "cell_type": "code",
   "execution_count": 6,
   "metadata": {
    "collapsed": false
   },
   "outputs": [],
   "source": [
    "V = ['0','1','2','3','4','5']\n",
    "Q = ['-1','0','1']\n",
    "B0 = {}\n",
    "for q in Q:\n",
    "    B0[q] = {}\n",
    "    for v in V:\n",
    "        vi = int(v)\n",
    "        B0[q][v] = b(vi, int(q))\n",
    "\n",
    "A0 = {'-1': {'-1': 0.990 , '0': 0.005, '1': 0.005} , \n",
    "     '0': {'-1': 0.005 , '0': 0.990, '1': 0.005} , \n",
    "     '1': {'-1': 0.005 , '0': 0.005, '1': 0.990}}\n",
    "PI0 = {'-1':1/3,'0':1/3,'1':1/3}\n"
   ]
  },
  {
   "cell_type": "code",
   "execution_count": 7,
   "metadata": {
    "collapsed": false
   },
   "outputs": [
    {
     "data": {
      "text/plain": [
       "<matplotlib.text.Text at 0x7fa5b509e990>"
      ]
     },
     "execution_count": 7,
     "metadata": {},
     "output_type": "execute_result"
    },
    {
     "data": {
      "image/png": "[encoded data removed]",
      "text/plain": [
       "<matplotlib.figure.Figure at 0x7fa5b8ab6950>"
      ]
     },
     "metadata": {},
     "output_type": "display_data"
    }
   ],
   "source": [
    "np.random.seed(100)\n",
    "for i in range(0,5):\n",
    "    d = run_hmm(A0, PI0, discrete=False)\n",
    "    xt = d['xt']\n",
    "    yt = d['yt']\n",
    "    plt.scatter(xt, yt, color=colors[i])\n",
    "plt.title('Y v/s X')\n",
    "plt.xlabel('x')\n",
    "plt.ylabel('y')"
   ]
  },
  {
   "cell_type": "code",
   "execution_count": 8,
   "metadata": {
    "collapsed": false
   },
   "outputs": [
    {
     "data": {
      "image/png": "[encoded data removed]",
      "text/plain": [
       "<matplotlib.figure.Figure at 0x7fa5b4d16810>"
      ]
     },
     "metadata": {},
     "output_type": "display_data"
    }
   ],
   "source": [
    "fig = plt.figure()\n",
    "np.random.seed(100)\n",
    "for i in range(0,5):\n",
    "    d = run_hmm(A0, PI0, discrete=False)\n",
    "    ax = fig.add_subplot(3,2,i+1)\n",
    "    xt = d['xt']\n",
    "    yt = d['yt']\n",
    "    xtp, delta = viterbi(yt,PI0,A0,B0)\n",
    "    plt.scatter(xtp, xt, color=colors[i])\n",
    "    plt.title('Run {}'.format(i+1))\n",
    "    plt.xlabel(\"x'\")\n",
    "    plt.ylabel('x')"
   ]
  },
  {
   "cell_type": "markdown",
   "metadata": {},
   "source": [
    "## Part (b)"
   ]
  },
  {
   "cell_type": "code",
   "execution_count": 9,
   "metadata": {
    "collapsed": false
   },
   "outputs": [
    {
     "name": "stdout",
     "output_type": "stream",
     "text": [
      "logProb = -1846.46897755\n",
      "logProb = -1889.32552012\n",
      "logProb = -1861.71821553\n",
      "logProb = -1730.39971565\n",
      "logProb = -1676.97025488\n",
      "logProb = -1870.45855227\n"
     ]
    }
   ],
   "source": [
    "np.random.seed(100)\n",
    "for i in range(0,6):\n",
    "    d = run_hmm(A0, PI0)\n",
    "    xt = d['xt']\n",
    "    yt = d['yt']\n",
    "    alp = alpha_pass2(yt,A0,B0,PI0)\n",
    "    alpha = alp['alpha']\n",
    "    c = alp['c']\n",
    "    sumlogc = sum([log(x) for x in c])\n",
    "    prob = (-sumlogc)\n",
    "    print('logProb = {}'.format(prob))"
   ]
  },
  {
   "cell_type": "markdown",
   "metadata": {},
   "source": [
    "# Part (c)"
   ]
  },
  {
   "cell_type": "code",
   "execution_count": 10,
   "metadata": {
    "collapsed": false
   },
   "outputs": [
    {
     "data": {
      "image/png": "[encoded data removed]",
      "text/plain": [
       "<matplotlib.figure.Figure at 0x7fa5b48d9490>"
      ]
     },
     "metadata": {},
     "output_type": "display_data"
    }
   ],
   "source": [
    "import operator\n",
    "fig = plt.figure()\n",
    "\n",
    "np.random.seed(100)\n",
    "for i in range(0,6):\n",
    "    d = run_hmm(A0, PI0)\n",
    "    xt = d['xt']\n",
    "    yt = d['yt']\n",
    "    alp = alpha_pass2(yt,A0,B0,PI0)\n",
    "    alpha = alp['alpha']\n",
    "    c = alp['c']\n",
    "    sumlogc = sum([log(x) for x in c])\n",
    "    prob = (-sumlogc)\n",
    "    beta = beta_pass2(yt,A0,B0,c)\n",
    "    gamm = gamma_pass2(yt, A0, B0, c, alpha, beta)\n",
    "    gamma = gamm['gamma']\n",
    "    xtp = []\n",
    "    for t in range(0,T):\n",
    "        stats = gamma[t]\n",
    "        ml = max(stats.iteritems(), key=operator.itemgetter(1))[0]\n",
    "        xtp.append(ml)\n",
    "    ax = fig.add_subplot(3,2,i+1)    \n",
    "    plt.scatter(xtp, xt, color=colors[i])\n",
    "    plt.title('Run {}'.format(i+1))\n",
    "    plt.xlabel(\"x'\")\n",
    "    plt.ylabel('x')"
   ]
  },
  {
   "cell_type": "markdown",
   "metadata": {},
   "source": [
    "\n",
    "# Part (e)"
   ]
  },
  {
   "cell_type": "code",
   "execution_count": 11,
   "metadata": {
    "collapsed": true
   },
   "outputs": [],
   "source": [
    "def restimate(gamma, gammaij, c ):\n",
    "    pi1 = {i: gamma[0][i] for i in Q}\n",
    "    #print('PI', pi1)\n",
    "\n",
    "    Aest = {str(k):{} for k in Q}\n",
    "\n",
    "    for i in Q:\n",
    "        for j in Q:\n",
    "            num = 0\n",
    "            denom = 0\n",
    "            for t in range(0,T-1):\n",
    "                num = num + gammaij[t][i][j]\n",
    "                denom = denom+ gamma[t][i]\n",
    "            Aest[i][j] = num/denom\n",
    "    Best = {k: {} for k in Q}\n",
    "    \n",
    "    for i in Q:\n",
    "        for j in V:\n",
    "            num = 0\n",
    "            denom = 0\n",
    "            for t in range(0,T):\n",
    "                if yt[t] == j:\n",
    "                    num = num + gamma[t][i]\n",
    "                denom = denom + gamma[t][i]\n",
    "            Best[i][j] = num/denom\n",
    "    \n",
    "    logP = -sum(log(x) for x in c)        \n",
    "    return {'A': Aest, 'B': Best, 'logP': logP, 'PI': pi1}"
   ]
  },
  {
   "cell_type": "code",
   "execution_count": 12,
   "metadata": {
    "collapsed": false
   },
   "outputs": [],
   "source": [
    "np.random.seed(100)\n",
    "d = run_hmm(A0, PI0)\n",
    "xt = d['xt']\n",
    "yt = d['yt']"
   ]
  },
  {
   "cell_type": "code",
   "execution_count": 33,
   "metadata": {
    "collapsed": false
   },
   "outputs": [
    {
     "name": "stdout",
     "output_type": "stream",
     "text": [
      "(1, -1791.7594692280547)\n",
      "(2, -1730.5070204876558)\n",
      "(3, -1730.5070204876556)\n",
      "(4, -1730.5070204876754)\n",
      "4\n",
      "('A', {'1': {'1': 0.7777777777777846, '0': 0.11111111111110795, '-1': 0.11111111111110795}, '0': {'1': 0.11111111111111628, '0': 0.7777777777777738, '-1': 0.11111111111111012}, '-1': {'1': 0.11111111111111628, '0': 0.11111111111111012, '-1': 0.7777777777777738}})\n",
      "('B', {'1': {'1': 0.1709999999999365, '0': 0.08699999999999375, '3': 0.236999999999992, '2': 0.20599999999997556, '5': 0.09700000000004706, '4': 0.202000000000056}, '0': {'1': 0.17100000000003204, '0': 0.08700000000000316, '3': 0.23700000000000407, '2': 0.20600000000001234, '5': 0.09699999999997651, '4': 0.20199999999997204}, '-1': {'1': 0.17100000000003204, '0': 0.08700000000000316, '3': 0.23700000000000407, '2': 0.20600000000001234, '5': 0.09699999999997651, '4': 0.2019999999999721}})\n",
      "('PI', {'1': 0.3333333333333323, '0': 0.3333333333333339, '-1': 0.3333333333333339})\n"
     ]
    }
   ],
   "source": [
    "notconverge = True\n",
    "oldlogP = -10e6\n",
    "iters = 0\n",
    "Aest = {'-1': {'-1': 7/9 , '0': 1/9, '1': 1/9} , \n",
    "     '0': {'-1': 1/9 , '0': 7/9, '1': 1/9} , \n",
    "     '1': {'-1': 1/9 , '0': 1/9, '1': 7/9}}\n",
    "PIest = {'-1':1/3,'0':1/3,'1':1/3}\n",
    "Best = {}\n",
    "for q in Q:\n",
    "    Best[q] = {}\n",
    "    for v in V:\n",
    "        vi = int(v)\n",
    "        Best[q][v] = 1/6\n",
    "\n",
    "while notconverge and iters<300:\n",
    "    iters +=1\n",
    "    alp = alpha_pass2(yt,Aest,Best,PIest)\n",
    "    alpha = alp['alpha']\n",
    "    c = alp['c']\n",
    "    #print(alpha)\n",
    "    beta = beta_pass2(yt,Aest,Best,c)\n",
    "    gamm = gamma_pass2(yt, Aest, Best, c, alpha, beta)\n",
    "    gamma = gamm['gamma']\n",
    "    gammaij = gamm['gammaij']\n",
    "    restimated = restimate(gamma, gammaij, c )\n",
    "    Aest = restimated['A']\n",
    "    Best = restimated['B']\n",
    "    PIest = restimated['PI']\n",
    "    logP = restimated['logP']\n",
    "    print(iters, logP)\n",
    "    if oldlogP < logP and iters<1000:\n",
    "        oldlogP = logP\n",
    "\n",
    "    else:\n",
    "        print iters\n",
    "        print('A', Aest)    \n",
    "        print('B', Best)\n",
    "        print('PI', PIest)\n",
    "        break\n",
    "\n",
    "\n",
    "\n",
    "    "
   ]
  },
  {
   "cell_type": "code",
   "execution_count": null,
   "metadata": {
    "collapsed": true
   },
   "outputs": [],
   "source": []
  }
 ],
 "metadata": {
  "kernelspec": {
   "display_name": "Python 2",
   "language": "python",
   "name": "python2"
  },
  "language_info": {
   "codemirror_mode": {
    "name": "ipython",
    "version": 2
   },
   "file_extension": ".py",
   "mimetype": "text/x-python",
   "name": "python",
   "nbconvert_exporter": "python",
   "pygments_lexer": "ipython2",
   "version": "2.7.11"
  }
 },
 "nbformat": 4,
 "nbformat_minor": 0
}
