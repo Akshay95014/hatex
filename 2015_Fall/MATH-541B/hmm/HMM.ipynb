{
 "cells": [
  {
   "cell_type": "code",
   "execution_count": 29,
   "metadata": {
    "collapsed": false
   },
   "outputs": [],
   "source": [
    "%matplotlib inline\n",
    "from __future__ import division\n",
    "import numpy as np\n",
    "import matplotlib.pyplot as plt\n",
    "np.random.seed(100)\n",
    "A = np.array([[0.990, 0.005, 0.005], [0.005, 0.990, 0.005], [0.005, 0.005, 0.990]])\n",
    "pi = np.array([1/3, 1/3, 1/3])\n",
    "Q = np.array([-1, 0, 1])\n",
    "T = 1000"
   ]
  },
  {
   "cell_type": "code",
   "execution_count": 32,
   "metadata": {
    "collapsed": false
   },
   "outputs": [],
   "source": [
    "def Yt(xt):\n",
    "    return np.random.normal(loc=xt, scale=0.005)\n",
    "\n",
    "def run_hmm():\n",
    "    starting_state = np.random.choice(Q,p=pi)\n",
    "    prev_state = starting_state\n",
    "    xt = [prev_state]\n",
    "    yt = [Yt(xt)]\n",
    "    for t in range(1,T):\n",
    "        next_state = np.random.choice(Q, p=A[xt[t-1]+1,:])\n",
    "        xt.append(next_state)\n",
    "        yt.append(Yt(next_state)) \n",
    "    return {'xt': xt, 'yt': yt}"
   ]
  },
  {
   "cell_type": "code",
   "execution_count": 33,
   "metadata": {
    "collapsed": false
   },
   "outputs": [
    {
     "data": {
      "image/png": "[encoded data removed]",
      "text/plain": [
       "<matplotlib.figure.Figure at 0x7f5e84115790>"
      ]
     },
     "metadata": {},
     "output_type": "display_data"
    }
   ],
   "source": [
    "for i in range(1,5):\n",
    "    d = run_hmm()\n",
    "    xt = d['xt']\n",
    "    yt = d['yt']\n",
    "    plt.scatter(xt, yt)"
   ]
  },
  {
   "cell_type": "code",
   "execution_count": null,
   "metadata": {
    "collapsed": true
   },
   "outputs": [],
   "source": [
    "def viterbi():\n",
    "    #todo"
   ]
  }
 ],
 "metadata": {
  "kernelspec": {
   "display_name": "Python 2",
   "language": "python",
   "name": "python2"
  },
  "language_info": {
   "codemirror_mode": {
    "name": "ipython",
    "version": 2
   },
   "file_extension": ".py",
   "mimetype": "text/x-python",
   "name": "python",
   "nbconvert_exporter": "python",
   "pygments_lexer": "ipython2",
   "version": "2.7.10"
  }
 },
 "nbformat": 4,
 "nbformat_minor": 0
}
