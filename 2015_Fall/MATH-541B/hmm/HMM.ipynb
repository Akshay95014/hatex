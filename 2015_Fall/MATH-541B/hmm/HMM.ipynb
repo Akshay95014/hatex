{
 "cells": [
  {
   "cell_type": "code",
   "execution_count": 46,
   "metadata": {
    "collapsed": false
   },
   "outputs": [],
   "source": [
    "%matplotlib inline\n",
    "from __future__ import division\n",
    "import numpy as np\n",
    "import matplotlib.pyplot as plt\n",
    "import seaborn as sns\n",
    "import matplotlib.cm as cm\n",
    "\n",
    "plt.rcParams['figure.figsize'] = (10.0, 8.0)\n",
    "np.random.seed(100)\n",
    "A = np.array([[0.990, 0.005, 0.005], [0.005, 0.990, 0.005], [0.005, 0.005, 0.990]])\n",
    "pi = np.array([1/3, 1/3, 1/3])\n",
    "Q = np.array([-1, 0, 1])\n",
    "T = 1000"
   ]
  },
  {
   "cell_type": "code",
   "execution_count": 44,
   "metadata": {
    "collapsed": false
   },
   "outputs": [],
   "source": [
    "def Yt(xt):\n",
    "    return np.random.normal(loc=xt, scale=1.0)\n",
    "\n",
    "def run_hmm():\n",
    "    starting_state = np.random.choice(Q,p=pi)\n",
    "    prev_state = starting_state\n",
    "    xt = [prev_state]\n",
    "    yt = [Yt(xt)]\n",
    "    for t in range(1,T):\n",
    "        next_state = np.random.choice(Q, p=A[xt[t-1]+1,:])\n",
    "        xt.append(next_state)\n",
    "        yt.append(Yt(next_state)) \n",
    "    return {'xt': xt, 'yt': yt}"
   ]
  },
  {
   "cell_type": "code",
   "execution_count": 49,
   "metadata": {
    "collapsed": false
   },
   "outputs": [
    {
     "data": {
      "image/png": "[encoded data removed]",
      "text/plain": [
       "<matplotlib.figure.Figure at 0x7f5e66d79510>"
      ]
     },
     "metadata": {},
     "output_type": "display_data"
    }
   ],
   "source": [
    "fig = plt.figure()\n",
    "#ax1 = fig.add_subplot(3,2,1) \n",
    "colors = cm.rainbow(np.linspace(0, 1, 6))\n",
    "for i in range(0,5):\n",
    "    d = run_hmm()\n",
    "    #ax = fig.add_subplot(3,2,i)\n",
    "    xt = d['xt']\n",
    "    yt = d['yt']\n",
    "    plt.scatter(xt, yt, color=colors[i])"
   ]
  },
  {
   "cell_type": "code",
   "execution_count": 34,
   "metadata": {
    "collapsed": true
   },
   "outputs": [],
   "source": []
  },
  {
   "cell_type": "code",
   "execution_count": null,
   "metadata": {
    "collapsed": true
   },
   "outputs": [],
   "source": [
    "def viterbi():\n",
    "    #todo\n",
    "    pass"
   ]
  }
 ],
 "metadata": {
  "kernelspec": {
   "display_name": "Python 2",
   "language": "python",
   "name": "python2"
  },
  "language_info": {
   "codemirror_mode": {
    "name": "ipython",
    "version": 2
   },
   "file_extension": ".py",
   "mimetype": "text/x-python",
   "name": "python",
   "nbconvert_exporter": "python",
   "pygments_lexer": "ipython2",
   "version": "2.7.10"
  }
 },
 "nbformat": 4,
 "nbformat_minor": 0
}
