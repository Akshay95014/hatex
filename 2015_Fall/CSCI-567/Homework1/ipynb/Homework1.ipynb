{
 "cells": [
  {
   "cell_type": "markdown",
   "metadata": {},
   "source": [
    "## Problem 5.1"
   ]
  },
  {
   "cell_type": "code",
   "execution_count": 11,
   "metadata": {
    "collapsed": false
   },
   "outputs": [],
   "source": [
    "%matplotlib inline\n",
    "from __future__ import division\n",
    "pylab.rcParams['figure.figsize'] = (16, 10)\n",
    "import scipy.io as sio\n",
    "import numpy as np\n",
    "import math\n",
    "import matplotlib.pyplot as plt\n",
    "data = sio.loadmat('../data/programming/hw1progde.mat')\n",
    "test_data = data['x_te']\n",
    "training_data = data['x_tr']\n",
    "h = 0.01\n",
    "\n",
    "## 10 different measures, whcih one isbest? training or validation"
   ]
  },
  {
   "cell_type": "code",
   "execution_count": 9,
   "metadata": {
    "collapsed": false
   },
   "outputs": [],
   "source": [
    "def K(x, XI, h, kernel_type='gaussian'):\n",
    "    \"\"\"\n",
    "    Parameters\n",
    "    ----------\n",
    "    x: Point location\n",
    "    XI: Vector of training data\n",
    "    \"\"\"\n",
    "    if kernel_type == 'gaussian':\n",
    "        s=0\n",
    "        l=0\n",
    "        for xi in XI:\n",
    "            u = (x-xi)/h\n",
    "            l+=1\n",
    "            e = (1/math.sqrt(2*math.pi))*math.exp(-u*u/2)\n",
    "            s+=e\n",
    "        return s/(l*h)\n",
    "    elif kernel_type == 'epanechnikov':\n",
    "        s=0\n",
    "        l=0\n",
    "        for xi in XI:\n",
    "            u = (x-xi)/h\n",
    "            l+=1\n",
    "            if abs(u)<=1:\n",
    "                s+=(3/4)*(1-u*u)\n",
    "        return s/(l*h)\n",
    "    elif kernel_type == 'histogram':\n",
    "        s=0\n",
    "        l=0\n",
    "        for xi in XI:\n",
    "            u = (x-xi)/h\n",
    "            l+=1\n",
    "            if abs(u)<=1:\n",
    "                s+=0.5\n",
    "        return s/(l*h)\n",
    "\n",
    "def inrange(x,Y):\n",
    "    if x<Y[1] and X>=Y[0]:\n",
    "        return True \n",
    "    return False\n",
    "\n",
    "def histogram(x, bandwidth=1):\n",
    "    min_x = np.min(x)\n",
    "    max_x = np.max(x)\n",
    "    range_x = max_x-min_x\n",
    "    bins = math.ceil(range_x/bandwidth)\n",
    "    list_of_bins = []\n",
    "    for i in range(bins):\n",
    "        list_of_bins.append([min_x+bandwidth*i, min_x+bandwidth*(i+1)])\n",
    "    counts = np.zeros(bins)\n",
    "    for xi in x:\n",
    "        for lindex, lb in enumerate(list_of_bins):\n",
    "            if inrange(xi, lb):\n",
    "                counts[lindex]+=1\n",
    "    return counts   "
   ]
  },
  {
   "cell_type": "markdown",
   "metadata": {},
   "source": [
    "## Gaussian\n",
    "$$\n",
    "K(u) = \\frac{1}{\\sqrt{2\\pi}} e^{-\\frac{u^2}{2}} \\forall u \\in \\mathbb{R}\n",
    "$$\n",
    "![alt](https://upload.wikimedia.org/math/5/a/f/5af3209d1e047b522531be782f23185c.png)"
   ]
  },
  {
   "cell_type": "code",
   "execution_count": null,
   "metadata": {
    "collapsed": false
   },
   "outputs": [],
   "source": [
    "H = [0.01,0.07,0.05,0.1,0.5, 0.7]\n",
    "f, axarr = plt.subplots(2, 3)\n",
    "output_gaussian = []\n",
    "for h in H:\n",
    "    gaussian_r = [K(x[0],training_data, h, 'gaussian') for x in test_data]\n",
    "    output_gaussian.append(gaussian_r)\n",
    "\n"
   ]
  },
  {
   "cell_type": "code",
   "execution_count": null,
   "metadata": {
    "collapsed": true
   },
   "outputs": [],
   "source": [
    "for i, gaussian_r in enumerate(output_gaussian):\n",
    "    if i<3:\n",
    "        axarr[0, i].plot(test_data, gaussian_r)\n",
    "        axarr[0, i].set_title('Gaussian, h={}'.format(h))\n",
    "    else:\n",
    "        axarr[1, i-3].plot(test_data, gaussian_r)\n",
    "        axarr[1, i-3].set_title('Gaussian, h={}'.format(h))"
   ]
  },
  {
   "cell_type": "code",
   "execution_count": 41,
   "metadata": {
    "collapsed": false
   },
   "outputs": [
    {
     "name": "stdout",
     "output_type": "stream",
     "text": [
      "0.262856444965\n",
      "0.258378205441\n",
      "0.0712939180627\n"
     ]
    }
   ],
   "source": [
    "## Optimum bandwidth calculation\n",
    "sigma_tr = np.std(training_data)\n",
    "sigma_te = np.std(test_data)\n",
    "\n",
    "h = 0.94*sigma_tr*len(training_data)**(-0.2)\n",
    "\n",
    "print(sigma_tr)\n",
    "print(sigma_te)\n",
    "print(h)\n"
   ]
  },
  {
   "cell_type": "code",
   "execution_count": 37,
   "metadata": {
    "collapsed": false
   },
   "outputs": [
    {
     "data": {
      "text/plain": [
       "(array([ 0.1735486 ,  0.04338715,  0.1735486 ,  0.13016145,  0.0867743 ,\n",
       "         0.13016145,  0.34709719,  0.21693575,  0.47725864,  0.30371004,\n",
       "         0.39048434,  0.56403294,  0.43387149,  0.65080724,  0.65080724,\n",
       "         0.47725864,  0.56403294,  0.56403294,  0.69419439,  0.82435583,\n",
       "         0.73758154,  1.12806588,  0.99790443,  0.91113013,  0.86774298,\n",
       "         0.91113013,  0.99790443,  1.12806588,  1.30161448,  0.99790443,\n",
       "         0.95451728,  1.38838877,  1.12806588,  1.21484018,  1.60532452,\n",
       "         1.43177592,  1.21484018,  1.12806588,  1.25822733,  1.56193737,\n",
       "         1.43177592,  1.64871167,  1.51855022,  1.47516307,  1.69209882,\n",
       "         2.12597031,  1.34500162,  2.21274461,  1.64871167,  1.64871167,\n",
       "         2.03919601,  1.77887312,  1.60532452,  1.77887312,  1.73548597,\n",
       "         1.69209882,  2.08258316,  1.73548597,  1.51855022,  1.56193737,\n",
       "         1.69209882,  1.47516307,  1.73548597,  2.08258316,  1.99580886,\n",
       "         1.90903456,  1.82226027,  1.77887312,  1.99580886,  1.60532452,\n",
       "         1.99580886,  1.51855022,  2.42968035,  1.64871167,  1.38838877,\n",
       "         1.25822733,  1.77887312,  1.82226027,  1.86564741,  2.25613176,\n",
       "         1.47516307,  1.73548597,  2.34290606,  1.21484018,  1.95242171,\n",
       "         1.73548597,  1.99580886,  1.34500162,  1.21484018,  1.77887312,\n",
       "         2.42968035,  1.25822733,  1.69209882,  1.77887312,  1.99580886,\n",
       "         1.95242171,  1.56193737,  1.60532452,  1.60532452,  1.30161448,\n",
       "         1.51855022,  1.51855022,  1.69209882,  1.82226027,  1.38838877,\n",
       "         1.43177592,  1.77887312,  1.60532452,  1.04129158,  1.51855022,\n",
       "         1.25822733,  1.64871167,  1.99580886,  1.08467873,  1.56193737,\n",
       "         1.77887312,  1.43177592,  1.30161448,  1.60532452,  1.25822733,\n",
       "         1.51855022,  1.04129158,  0.78096869,  1.25822733,  1.30161448,\n",
       "         1.04129158,  0.99790443,  1.08467873,  1.12806588,  1.25822733,\n",
       "         1.25822733,  0.95451728,  1.21484018,  1.34500162,  1.08467873,\n",
       "         0.86774298,  0.78096869,  1.25822733,  1.34500162,  0.99790443,\n",
       "         0.60742009,  1.34500162,  1.21484018,  1.08467873,  1.12806588,\n",
       "         1.51855022,  0.60742009,  0.73758154,  1.04129158,  1.08467873,\n",
       "         0.56403294,  0.78096869,  0.73758154,  0.78096869,  0.82435583,\n",
       "         0.86774298,  0.60742009,  0.73758154,  0.73758154,  0.95451728,\n",
       "         0.30371004,  0.95451728,  0.78096869,  0.47725864,  0.73758154,\n",
       "         0.47725864,  0.78096869,  0.91113013,  0.82435583,  0.78096869,\n",
       "         1.08467873,  0.73758154,  0.52064579,  0.60742009,  0.82435583,\n",
       "         0.95451728,  1.12806588,  0.60742009,  0.82435583,  0.91113013,\n",
       "         0.78096869,  0.69419439,  0.95451728,  0.69419439,  0.56403294,\n",
       "         0.95451728,  0.73758154,  0.60742009,  0.30371004,  0.56403294,\n",
       "         0.78096869,  0.39048434,  0.47725864,  0.56403294,  0.78096869,\n",
       "         0.82435583,  0.65080724,  0.82435583,  0.91113013,  0.56403294,\n",
       "         0.52064579,  0.69419439,  0.78096869,  0.78096869,  0.47725864,\n",
       "         0.69419439,  0.78096869,  0.65080724,  0.86774298,  0.69419439,\n",
       "         0.73758154,  0.95451728,  0.95451728,  1.04129158,  0.95451728,\n",
       "         1.12806588,  0.95451728,  1.25822733,  1.04129158,  1.08467873,\n",
       "         0.73758154,  0.73758154,  1.12806588,  1.08467873,  0.99790443,\n",
       "         1.17145303,  0.82435583,  0.82435583,  0.82435583,  0.73758154,\n",
       "         0.99790443,  1.12806588,  0.78096869,  1.17145303,  0.86774298,\n",
       "         1.08467873,  1.04129158,  1.12806588,  0.60742009,  0.95451728,\n",
       "         1.17145303,  0.82435583,  0.91113013,  0.73758154,  0.86774298,\n",
       "         1.12806588,  1.17145303,  0.86774298,  0.86774298,  0.95451728,\n",
       "         1.17145303,  0.86774298,  0.95451728,  0.73758154,  1.25822733,\n",
       "         1.21484018,  0.86774298,  1.51855022,  0.91113013,  1.25822733,\n",
       "         1.12806588,  0.99790443,  1.21484018,  0.86774298,  0.82435583,\n",
       "         0.86774298,  1.30161448,  0.86774298,  1.17145303,  0.91113013,\n",
       "         0.91113013,  1.17145303,  1.30161448,  1.08467873,  1.12806588,\n",
       "         1.38838877,  1.04129158,  0.78096869,  1.12806588,  1.04129158,\n",
       "         0.99790443,  1.12806588,  1.25822733,  1.73548597,  1.34500162,\n",
       "         1.34500162,  1.73548597,  1.04129158,  1.21484018,  0.99790443,\n",
       "         1.47516307,  1.43177592,  1.47516307,  1.43177592,  1.08467873,\n",
       "         1.69209882,  1.51855022,  1.34500162,  1.47516307,  0.73758154,\n",
       "         1.38838877,  1.21484018,  1.34500162,  1.30161448,  1.17145303,\n",
       "         1.43177592,  1.56193737,  1.56193737,  0.86774298,  1.34500162,\n",
       "         1.17145303,  1.25822733,  1.21484018,  1.04129158,  1.51855022,\n",
       "         1.73548597,  1.34500162,  1.08467873,  0.78096869,  1.43177592,\n",
       "         1.12806588,  1.21484018,  1.34500162,  1.17145303,  0.99790443,\n",
       "         0.99790443,  1.25822733,  1.21484018,  0.78096869,  1.17145303,\n",
       "         1.04129158,  1.08467873,  1.51855022,  1.64871167,  1.21484018,\n",
       "         0.82435583,  1.04129158,  0.78096869,  1.34500162,  0.86774298,\n",
       "         0.91113013,  0.95451728,  0.86774298,  0.82435583,  0.78096869,\n",
       "         0.2603229 ,  0.56403294,  0.69419439,  0.91113013,  0.82435583,\n",
       "         0.82435583,  0.69419439,  0.86774298,  0.39048434,  0.82435583,\n",
       "         0.69419439,  0.56403294,  0.69419439,  0.56403294,  0.73758154,\n",
       "         0.86774298,  0.82435583,  0.30371004,  0.52064579,  0.43387149,\n",
       "         0.47725864,  0.2603229 ,  0.69419439,  0.43387149,  0.52064579,\n",
       "         0.34709719,  0.34709719,  0.56403294,  0.2603229 ,  0.2603229 ,\n",
       "         0.56403294,  0.30371004,  0.21693575,  0.52064579,  0.13016145,\n",
       "         0.0867743 ,  0.2603229 ,  0.2603229 ,  0.13016145,  0.0867743 ,\n",
       "         0.0867743 ,  0.04338715,  0.13016145,  0.0867743 ,  0.13016145,\n",
       "         0.13016145,  0.0867743 ,  0.0867743 ,  0.0867743 ,  0.04338715,\n",
       "         0.13016145,  0.        ,  0.13016145,  0.        ,  0.0867743 ]),\n",
       " array([ 0.01283757,  0.01526371,  0.01768984,  0.02011598,  0.02254212,\n",
       "         0.02496825,  0.02739439,  0.02982053,  0.03224666,  0.0346728 ,\n",
       "         0.03709894,  0.03952507,  0.04195121,  0.04437735,  0.04680348,\n",
       "         0.04922962,  0.05165576,  0.05408189,  0.05650803,  0.05893417,\n",
       "         0.0613603 ,  0.06378644,  0.06621258,  0.06863871,  0.07106485,\n",
       "         0.07349099,  0.07591713,  0.07834326,  0.0807694 ,  0.08319554,\n",
       "         0.08562167,  0.08804781,  0.09047395,  0.09290008,  0.09532622,\n",
       "         0.09775236,  0.10017849,  0.10260463,  0.10503077,  0.1074569 ,\n",
       "         0.10988304,  0.11230918,  0.11473531,  0.11716145,  0.11958759,\n",
       "         0.12201372,  0.12443986,  0.126866  ,  0.12929213,  0.13171827,\n",
       "         0.13414441,  0.13657054,  0.13899668,  0.14142282,  0.14384895,\n",
       "         0.14627509,  0.14870123,  0.15112737,  0.1535535 ,  0.15597964,\n",
       "         0.15840578,  0.16083191,  0.16325805,  0.16568419,  0.16811032,\n",
       "         0.17053646,  0.1729626 ,  0.17538873,  0.17781487,  0.18024101,\n",
       "         0.18266714,  0.18509328,  0.18751942,  0.18994555,  0.19237169,\n",
       "         0.19479783,  0.19722396,  0.1996501 ,  0.20207624,  0.20450237,\n",
       "         0.20692851,  0.20935465,  0.21178078,  0.21420692,  0.21663306,\n",
       "         0.21905919,  0.22148533,  0.22391147,  0.2263376 ,  0.22876374,\n",
       "         0.23118988,  0.23361602,  0.23604215,  0.23846829,  0.24089443,\n",
       "         0.24332056,  0.2457467 ,  0.24817284,  0.25059897,  0.25302511,\n",
       "         0.25545125,  0.25787738,  0.26030352,  0.26272966,  0.26515579,\n",
       "         0.26758193,  0.27000807,  0.2724342 ,  0.27486034,  0.27728648,\n",
       "         0.27971261,  0.28213875,  0.28456489,  0.28699102,  0.28941716,\n",
       "         0.2918433 ,  0.29426943,  0.29669557,  0.29912171,  0.30154784,\n",
       "         0.30397398,  0.30640012,  0.30882625,  0.31125239,  0.31367853,\n",
       "         0.31610467,  0.3185308 ,  0.32095694,  0.32338308,  0.32580921,\n",
       "         0.32823535,  0.33066149,  0.33308762,  0.33551376,  0.3379399 ,\n",
       "         0.34036603,  0.34279217,  0.34521831,  0.34764444,  0.35007058,\n",
       "         0.35249672,  0.35492285,  0.35734899,  0.35977513,  0.36220126,\n",
       "         0.3646274 ,  0.36705354,  0.36947967,  0.37190581,  0.37433195,\n",
       "         0.37675808,  0.37918422,  0.38161036,  0.38403649,  0.38646263,\n",
       "         0.38888877,  0.39131491,  0.39374104,  0.39616718,  0.39859332,\n",
       "         0.40101945,  0.40344559,  0.40587173,  0.40829786,  0.410724  ,\n",
       "         0.41315014,  0.41557627,  0.41800241,  0.42042855,  0.42285468,\n",
       "         0.42528082,  0.42770696,  0.43013309,  0.43255923,  0.43498537,\n",
       "         0.4374115 ,  0.43983764,  0.44226378,  0.44468991,  0.44711605,\n",
       "         0.44954219,  0.45196832,  0.45439446,  0.4568206 ,  0.45924673,\n",
       "         0.46167287,  0.46409901,  0.46652514,  0.46895128,  0.47137742,\n",
       "         0.47380356,  0.47622969,  0.47865583,  0.48108197,  0.4835081 ,\n",
       "         0.48593424,  0.48836038,  0.49078651,  0.49321265,  0.49563879,\n",
       "         0.49806492,  0.50049106,  0.5029172 ,  0.50534333,  0.50776947,\n",
       "         0.51019561,  0.51262174,  0.51504788,  0.51747402,  0.51990015,\n",
       "         0.52232629,  0.52475243,  0.52717856,  0.5296047 ,  0.53203084,\n",
       "         0.53445697,  0.53688311,  0.53930925,  0.54173538,  0.54416152,\n",
       "         0.54658766,  0.5490138 ,  0.55143993,  0.55386607,  0.55629221,\n",
       "         0.55871834,  0.56114448,  0.56357062,  0.56599675,  0.56842289,\n",
       "         0.57084903,  0.57327516,  0.5757013 ,  0.57812744,  0.58055357,\n",
       "         0.58297971,  0.58540585,  0.58783198,  0.59025812,  0.59268426,\n",
       "         0.59511039,  0.59753653,  0.59996267,  0.6023888 ,  0.60481494,\n",
       "         0.60724108,  0.60966721,  0.61209335,  0.61451949,  0.61694562,\n",
       "         0.61937176,  0.6217979 ,  0.62422403,  0.62665017,  0.62907631,\n",
       "         0.63150245,  0.63392858,  0.63635472,  0.63878086,  0.64120699,\n",
       "         0.64363313,  0.64605927,  0.6484854 ,  0.65091154,  0.65333768,\n",
       "         0.65576381,  0.65818995,  0.66061609,  0.66304222,  0.66546836,\n",
       "         0.6678945 ,  0.67032063,  0.67274677,  0.67517291,  0.67759904,\n",
       "         0.68002518,  0.68245132,  0.68487745,  0.68730359,  0.68972973,\n",
       "         0.69215586,  0.694582  ,  0.69700814,  0.69943427,  0.70186041,\n",
       "         0.70428655,  0.70671268,  0.70913882,  0.71156496,  0.7139911 ,\n",
       "         0.71641723,  0.71884337,  0.72126951,  0.72369564,  0.72612178,\n",
       "         0.72854792,  0.73097405,  0.73340019,  0.73582633,  0.73825246,\n",
       "         0.7406786 ,  0.74310474,  0.74553087,  0.74795701,  0.75038315,\n",
       "         0.75280928,  0.75523542,  0.75766156,  0.76008769,  0.76251383,\n",
       "         0.76493997,  0.7673661 ,  0.76979224,  0.77221838,  0.77464451,\n",
       "         0.77707065,  0.77949679,  0.78192292,  0.78434906,  0.7867752 ,\n",
       "         0.78920134,  0.79162747,  0.79405361,  0.79647975,  0.79890588,\n",
       "         0.80133202,  0.80375816,  0.80618429,  0.80861043,  0.81103657,\n",
       "         0.8134627 ,  0.81588884,  0.81831498,  0.82074111,  0.82316725,\n",
       "         0.82559339,  0.82801952,  0.83044566,  0.8328718 ,  0.83529793,\n",
       "         0.83772407,  0.84015021,  0.84257634,  0.84500248,  0.84742862,\n",
       "         0.84985475,  0.85228089,  0.85470703,  0.85713316,  0.8595593 ,\n",
       "         0.86198544,  0.86441157,  0.86683771,  0.86926385,  0.87168999,\n",
       "         0.87411612,  0.87654226,  0.8789684 ,  0.88139453,  0.88382067,\n",
       "         0.88624681,  0.88867294,  0.89109908,  0.89352522,  0.89595135,\n",
       "         0.89837749,  0.90080363,  0.90322976,  0.9056559 ,  0.90808204,\n",
       "         0.91050817,  0.91293431,  0.91536045,  0.91778658,  0.92021272,\n",
       "         0.92263886,  0.92506499,  0.92749113,  0.92991727,  0.9323434 ,\n",
       "         0.93476954,  0.93719568,  0.93962181,  0.94204795,  0.94447409,\n",
       "         0.94690023,  0.94932636,  0.9517525 ,  0.95417864,  0.95660477,\n",
       "         0.95903091,  0.96145705,  0.96388318,  0.96630932,  0.96873546,\n",
       "         0.97116159,  0.97358773,  0.97601387,  0.97844   ,  0.98086614,\n",
       "         0.98329228]),\n",
       " <a list of 400 Patch objects>)"
      ]
     },
     "execution_count": 37,
     "metadata": {},
     "output_type": "execute_result"
    },
    {
     "data": {
      "image/png": "[encoded data removed]",
      "text/plain": [
       "<matplotlib.figure.Figure at 0x7efd6d849390>"
      ]
     },
     "metadata": {},
     "output_type": "display_data"
    }
   ],
   "source": [
    "plt.hist(test_data, bins=400, fc='#AAAAFF', normed=True)\n"
   ]
  },
  {
   "cell_type": "code",
   "execution_count": 43,
   "metadata": {
    "collapsed": false
   },
   "outputs": [
    {
     "data": {
      "text/plain": [
       "[<matplotlib.lines.Line2D at 0x7efd6e3b4a10>]"
      ]
     },
     "execution_count": 43,
     "metadata": {},
     "output_type": "execute_result"
    },
    {
     "data": {
      "image/png": "[encoded data removed]",
      "text/plain": [
       "<matplotlib.figure.Figure at 0x7efd6cc15ad0>"
      ]
     },
     "metadata": {},
     "output_type": "display_data"
    }
   ],
   "source": [
    "ea_r = [K(x[0],training_data, 0.07, 'epanechnikov') for x in test_data]\n",
    "\n",
    "plt.plot(test_data,ea_r)"
   ]
  },
  {
   "cell_type": "code",
   "execution_count": 33,
   "metadata": {
    "collapsed": false
   },
   "outputs": [],
   "source": [
    "hist_r = [K(x[0],training_data, 0.5, 'histogram') for x in test_data]\n",
    "#hist_r = histogram(training_data)\n",
    "#print(hist_r)"
   ]
  },
  {
   "cell_type": "markdown",
   "metadata": {},
   "source": [
    "## Epanechnikov kernel\n",
    "\n",
    "$$\n",
    "K(u) = \\begin{cases}\n",
    "\\frac{3}{4}[1-u^2] & |u| \\in [0,1],\\\\\n",
    "0 & otherwise\n",
    "\\end{cases}\n",
    "$$"
   ]
  },
  {
   "cell_type": "markdown",
   "metadata": {},
   "source": [
    "## Histogram\n",
    "$$\n",
    "K(u) = \\begin{cases}\n",
    "\\frac{1}{2}  & |u| \\leq 1\\\\\n",
    "0 & otherwise \\\\\n",
    "\\end{cases}\n",
    "$$"
   ]
  },
  {
   "cell_type": "code",
   "execution_count": 44,
   "metadata": {
    "collapsed": false
   },
   "outputs": [
    {
     "name": "stdout",
     "output_type": "stream",
     "text": [
      "9500\n"
     ]
    },
    {
     "data": {
      "image/png": "[encoded data removed]",
      "text/plain": [
       "<matplotlib.figure.Figure at 0x7efd6cbd3a10>"
      ]
     },
     "metadata": {},
     "output_type": "display_data"
    }
   ],
   "source": [
    "plt.plot(test_data, hist_r)\n",
    "print len(test_data)"
   ]
  },
  {
   "cell_type": "code",
   "execution_count": 56,
   "metadata": {
    "collapsed": false
   },
   "outputs": [
    {
     "name": "stdout",
     "output_type": "stream",
     "text": [
      "500\n",
      "50\n",
      "0.139370187008\n"
     ]
    }
   ],
   "source": [
    "## Randomly partion test_Data into 19 subsets\n",
    "import random\n",
    "N_split = 19\n",
    "test_data_shuffled = test_data.copy()\n",
    "random.shuffle(test_data_shuffled)\n",
    "list_size = int(len(test_data_shuffled)/N_split)\n",
    "print(list_size)\n",
    "\n",
    "list_of_shuffled_te = [test_data_shuffled[0+list_size*i : list_size*(i+1)] for i in xrange(N_split)]\n",
    "\n",
    "x_points = np.linspace(0.1,1)\n",
    "print(len(x_points))\n",
    "\n",
    "f_scores=[]\n",
    "for index, lte in enumerate(list_of_shuffled_te):\n",
    "    f_scores.append([])\n",
    "    for x in x_points:\n",
    "        de = K(x, lte, 0.07, 'gaussian')\n",
    "        f_scores[index].append(de)\n",
    "        \n",
    "f_hn = np.array([np.sum(a) for a in f_scores])\n",
    "f_h = np.mean(f_hn)\n",
    "q = np.sum((f_hn-f_h)**2)\n",
    "E=q/N_split\n",
    "print E"
   ]
  },
  {
   "cell_type": "code",
   "execution_count": null,
   "metadata": {
    "collapsed": true
   },
   "outputs": [],
   "source": []
  }
 ],
 "metadata": {
  "kernelspec": {
   "display_name": "Python 2",
   "language": "python",
   "name": "python2"
  },
  "language_info": {
   "codemirror_mode": {
    "name": "ipython",
    "version": 2
   },
   "file_extension": ".py",
   "mimetype": "text/x-python",
   "name": "python",
   "nbconvert_exporter": "python",
   "pygments_lexer": "ipython2",
   "version": "2.7.10"
  }
 },
 "nbformat": 4,
 "nbformat_minor": 0
}
