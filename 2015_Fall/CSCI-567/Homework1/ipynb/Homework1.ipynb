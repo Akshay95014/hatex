{
 "cells": [
  {
   "cell_type": "code",
   "execution_count": 9,
   "metadata": {
    "collapsed": false
   },
   "outputs": [],
   "source": [
    "import scipy.io as sio\n",
    "import numpy as np\n",
    "data = sio.loadmat('../data/programming/hw1progde.mat')\n",
    "test_data = data['x_te']\n",
    "training_data = data['x_tr']\n",
    "h = 0.01"
   ]
  },
  {
   "cell_type": "code",
   "execution_count": null,
   "metadata": {
    "collapsed": false
   },
   "outputs": [],
   "source": [
    "def K(x, XI, h, kernel_type='gaussian'):\n",
    "    \"\"\"\n",
    "    Parameters\n",
    "    ----------\n",
    "    x: Point location\n",
    "    XI: Vector of training data\n",
    "    \"\"\"\n",
    "    if kernel_type == 'gaussian':\n",
    "        q = np.sum((x-XI)^2/)/(2*h^2)\n",
    "        return 1/math.sqrt(2*math.pi)*math.exp(-q)\n",
    "    elif kernel_type == 'epanechnikov':\n",
    "        s=0\n",
    "        for xi in XI:\n",
    "            if math.abs(xi)<=1:\n",
    "                s+=(3/4)*\n",
    "                \n",
    "    \n",
    "    elif kernel_type == 'histogram':\n",
    "        \n",
    "        "
   ]
  },
  {
   "cell_type": "markdown",
   "metadata": {},
   "source": [
    "## Gaussian Kernel:\n",
    "$$\n",
    "K(u) = \\frac{1}{\\sqrt{2\\pi}} e^{-\\frac{u^2}{2}} \\forall u \\in \\mathbb{R}\n",
    "$$"
   ]
  },
  {
   "cell_type": "markdown",
   "metadata": {},
   "source": [
    "## Epanechnikov kernel\n",
    "\n",
    "$$\n",
    "K(u) = \\begin{cases}\n",
    "\\frac{3}{4}[1-u^2] & |u| \\in [0,1],\\\\\n",
    "0 & otherwise\n",
    "\\end{cases}\n",
    "$$"
   ]
  },
  {
   "cell_type": "markdown",
   "metadata": {},
   "source": [
    "## Histogram\n",
    "$$\n",
    "K(u) = \\begin{cases}\n",
    "\\frac{1}{2}  & |u| \\leq 1\\\\\n",
    "0 & otherwise \\\\\n",
    "\\end{cases}\n",
    "$$"
   ]
  },
  {
   "cell_type": "code",
   "execution_count": null,
   "metadata": {
    "collapsed": true
   },
   "outputs": [],
   "source": []
  }
 ],
 "metadata": {
  "kernelspec": {
   "display_name": "Python 2",
   "language": "python",
   "name": "python2"
  },
  "language_info": {
   "codemirror_mode": {
    "name": "ipython",
    "version": 2
   },
   "file_extension": ".py",
   "mimetype": "text/x-python",
   "name": "python",
   "nbconvert_exporter": "python",
   "pygments_lexer": "ipython2",
   "version": "2.7.10"
  }
 },
 "nbformat": 4,
 "nbformat_minor": 0
}
